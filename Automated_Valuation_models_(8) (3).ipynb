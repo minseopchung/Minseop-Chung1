{
  "nbformat": 4,
  "nbformat_minor": 0,
  "metadata": {
    "colab": {
      "name": "Automated_Valuation_models (8).ipynb",
      "provenance": [],
      "collapsed_sections": [
        "cTjC32uU92MJ",
        "81YWEtYvF5dE"
      ],
      "toc_visible": true
    },
    "kernelspec": {
      "name": "python3",
      "display_name": "Python 3"
    },
    "language_info": {
      "name": "python"
    }
  },
  "cells": [
    {
      "cell_type": "markdown",
      "metadata": {
        "id": "-8ebv72Tsgdo"
      },
      "source": [
        "# **Automated Valuation Models**\n",
        "\n",
        "### **Reserach Question :** How does machine learning regression models performance compare to classical linear and parametric regression models such as Ordinary Least Squares?\n",
        "\n",
        "### **Topic :**  Does estimation window size affects accuracy (rolling window)? \n",
        "\n",
        "### To test whether or not estimation window size affects accuracy, Sliding method and Expanding method will be used."
      ]
    },
    {
      "cell_type": "markdown",
      "metadata": {
        "id": "9JMcMPaUmy8Z"
      },
      "source": [
        "## **Data**\n",
        "Data : Melbourne housing clearance data from Jan 2016 to 2018\n",
        "\n",
        "Link : https://www.kaggle.com/anthonypino/melbourne-housing-market?select=Melbourne_housing_FULL.csv\n",
        "\n",
        "Type : Regression\n",
        "\n",
        "## **Target, Evaluation index**\n",
        "\n",
        "Target: Price\n",
        "\n",
        "Evaluation criteria: Root Mean Square Error (RMSE)\n",
        "\n",
        "\n",
        "###**Short explaination of some features**\n",
        "\n",
        "Price: Price in dollars\n",
        "\n",
        "Rooms: Number of rooms\n",
        "\n",
        "Method: S - property sold; SP - property sold prior; PI - property passed in; PN - sold prior not disclosed; SN - sold not disclosed; NB - no bid; VB - vendor bid; W - withdrawn prior to auction; SA - sold after auction; SS - sold after auction price not disclosed. N/A - price or highest bid not available.\n",
        "\n",
        "Type: br - bedroom(s); h - house,cottage,villa, semi,terrace; u - unit, duplex; t - townhouse; dev site - development site; o res - other residential.\n",
        "\n",
        "SellerG: Real Estate Agent\n",
        "\n",
        "Date: Date sold\n",
        "\n",
        "Distance: Distance from CBD\n",
        "\n",
        "Regionname: General Region (West, North West, North, North east …etc)\n",
        "\n",
        "Propertycount: Number of properties that exist in the suburb.\n",
        "\n",
        "Bedroom2 : Scraped # of Bedrooms (from different source)\n",
        "\n",
        "Bathroom: Number of Bathrooms\n",
        "\n",
        "Car: Number of carspots\n",
        "\n",
        "Landsize: Land Size\n",
        "\n",
        "BuildingArea: Building Size\n",
        "\n",
        "CouncilArea: Governing council for the area\n"
      ]
    },
    {
      "cell_type": "code",
      "metadata": {
        "id": "6Db7Pkji465k"
      },
      "source": [
        "#!pip install pandas-profiling==2.*"
      ],
      "execution_count": 134,
      "outputs": []
    },
    {
      "cell_type": "code",
      "metadata": {
        "id": "3q8xxMLBiRdK"
      },
      "source": [
        "import pandas as pd\n",
        "import numpy as  np\n",
        "import matplotlib.pyplot as plt\n",
        "%matplotlib inline\n",
        "import seaborn as sns\n",
        "import sklearn\n",
        "from sklearn.model_selection import train_test_split\n",
        "from sklearn.linear_model import LinearRegression\n",
        "from sklearn.ensemble import RandomForestRegressor\n",
        "from sklearn.tree import DecisionTreeRegressor\n",
        "from sklearn.model_selection import RandomizedSearchCV\n",
        "from sklearn.model_selection import GridSearchCV\n",
        "from sklearn.linear_model import LinearRegression\n",
        "from sklearn.preprocessing import RobustScaler\n",
        "from sklearn.model_selection import cross_val_predict\n",
        "from sklearn.model_selection import cross_val_score\n",
        "from sklearn.model_selection import cross_validate"
      ],
      "execution_count": 135,
      "outputs": []
    },
    {
      "cell_type": "markdown",
      "metadata": {
        "id": "5lOms8JldWEE"
      },
      "source": [
        ".\n",
        "\n",
        "\n",
        "\n",
        "\n",
        "\n",
        "\n",
        "\n",
        "\n",
        "\n",
        "\n",
        "\n",
        "#**1. A first look to the dataset**\n",
        "\n"
      ]
    },
    {
      "cell_type": "code",
      "metadata": {
        "id": "kpSwe8AlhL_g"
      },
      "source": [
        "# Data upload\n",
        "#from google.colab import files\n",
        "#myfile = files.upload()"
      ],
      "execution_count": 136,
      "outputs": []
    },
    {
      "cell_type": "code",
      "metadata": {
        "id": "9e7fXnC64vmN"
      },
      "source": [
        "df= pd.read_csv(\"Melbourne_housing_FULL.csv\")"
      ],
      "execution_count": 137,
      "outputs": []
    },
    {
      "cell_type": "code",
      "metadata": {
        "colab": {
          "base_uri": "https://localhost:8080/",
          "height": 319
        },
        "id": "7ljQvtv84YcU",
        "outputId": "eee13497-64c8-4771-a182-3692a21170c9"
      },
      "source": [
        "df.head()"
      ],
      "execution_count": 138,
      "outputs": [
        {
          "output_type": "execute_result",
          "data": {
            "text/html": [
              "<div>\n",
              "<style scoped>\n",
              "    .dataframe tbody tr th:only-of-type {\n",
              "        vertical-align: middle;\n",
              "    }\n",
              "\n",
              "    .dataframe tbody tr th {\n",
              "        vertical-align: top;\n",
              "    }\n",
              "\n",
              "    .dataframe thead th {\n",
              "        text-align: right;\n",
              "    }\n",
              "</style>\n",
              "<table border=\"1\" class=\"dataframe\">\n",
              "  <thead>\n",
              "    <tr style=\"text-align: right;\">\n",
              "      <th></th>\n",
              "      <th>Suburb</th>\n",
              "      <th>Address</th>\n",
              "      <th>Rooms</th>\n",
              "      <th>Type</th>\n",
              "      <th>Price</th>\n",
              "      <th>Method</th>\n",
              "      <th>SellerG</th>\n",
              "      <th>Date</th>\n",
              "      <th>Distance</th>\n",
              "      <th>Postcode</th>\n",
              "      <th>Bedroom2</th>\n",
              "      <th>Bathroom</th>\n",
              "      <th>Car</th>\n",
              "      <th>Landsize</th>\n",
              "      <th>BuildingArea</th>\n",
              "      <th>YearBuilt</th>\n",
              "      <th>CouncilArea</th>\n",
              "      <th>Lattitude</th>\n",
              "      <th>Longtitude</th>\n",
              "      <th>Regionname</th>\n",
              "      <th>Propertycount</th>\n",
              "    </tr>\n",
              "  </thead>\n",
              "  <tbody>\n",
              "    <tr>\n",
              "      <th>0</th>\n",
              "      <td>Abbotsford</td>\n",
              "      <td>68 Studley St</td>\n",
              "      <td>2</td>\n",
              "      <td>h</td>\n",
              "      <td>NaN</td>\n",
              "      <td>SS</td>\n",
              "      <td>Jellis</td>\n",
              "      <td>3/09/2016</td>\n",
              "      <td>2.5</td>\n",
              "      <td>3067.0</td>\n",
              "      <td>2.0</td>\n",
              "      <td>1.0</td>\n",
              "      <td>1.0</td>\n",
              "      <td>126.0</td>\n",
              "      <td>NaN</td>\n",
              "      <td>NaN</td>\n",
              "      <td>Yarra City Council</td>\n",
              "      <td>-37.8014</td>\n",
              "      <td>144.9958</td>\n",
              "      <td>Northern Metropolitan</td>\n",
              "      <td>4019.0</td>\n",
              "    </tr>\n",
              "    <tr>\n",
              "      <th>1</th>\n",
              "      <td>Abbotsford</td>\n",
              "      <td>85 Turner St</td>\n",
              "      <td>2</td>\n",
              "      <td>h</td>\n",
              "      <td>1480000.0</td>\n",
              "      <td>S</td>\n",
              "      <td>Biggin</td>\n",
              "      <td>3/12/2016</td>\n",
              "      <td>2.5</td>\n",
              "      <td>3067.0</td>\n",
              "      <td>2.0</td>\n",
              "      <td>1.0</td>\n",
              "      <td>1.0</td>\n",
              "      <td>202.0</td>\n",
              "      <td>NaN</td>\n",
              "      <td>NaN</td>\n",
              "      <td>Yarra City Council</td>\n",
              "      <td>-37.7996</td>\n",
              "      <td>144.9984</td>\n",
              "      <td>Northern Metropolitan</td>\n",
              "      <td>4019.0</td>\n",
              "    </tr>\n",
              "    <tr>\n",
              "      <th>2</th>\n",
              "      <td>Abbotsford</td>\n",
              "      <td>25 Bloomburg St</td>\n",
              "      <td>2</td>\n",
              "      <td>h</td>\n",
              "      <td>1035000.0</td>\n",
              "      <td>S</td>\n",
              "      <td>Biggin</td>\n",
              "      <td>4/02/2016</td>\n",
              "      <td>2.5</td>\n",
              "      <td>3067.0</td>\n",
              "      <td>2.0</td>\n",
              "      <td>1.0</td>\n",
              "      <td>0.0</td>\n",
              "      <td>156.0</td>\n",
              "      <td>79.0</td>\n",
              "      <td>1900.0</td>\n",
              "      <td>Yarra City Council</td>\n",
              "      <td>-37.8079</td>\n",
              "      <td>144.9934</td>\n",
              "      <td>Northern Metropolitan</td>\n",
              "      <td>4019.0</td>\n",
              "    </tr>\n",
              "    <tr>\n",
              "      <th>3</th>\n",
              "      <td>Abbotsford</td>\n",
              "      <td>18/659 Victoria St</td>\n",
              "      <td>3</td>\n",
              "      <td>u</td>\n",
              "      <td>NaN</td>\n",
              "      <td>VB</td>\n",
              "      <td>Rounds</td>\n",
              "      <td>4/02/2016</td>\n",
              "      <td>2.5</td>\n",
              "      <td>3067.0</td>\n",
              "      <td>3.0</td>\n",
              "      <td>2.0</td>\n",
              "      <td>1.0</td>\n",
              "      <td>0.0</td>\n",
              "      <td>NaN</td>\n",
              "      <td>NaN</td>\n",
              "      <td>Yarra City Council</td>\n",
              "      <td>-37.8114</td>\n",
              "      <td>145.0116</td>\n",
              "      <td>Northern Metropolitan</td>\n",
              "      <td>4019.0</td>\n",
              "    </tr>\n",
              "    <tr>\n",
              "      <th>4</th>\n",
              "      <td>Abbotsford</td>\n",
              "      <td>5 Charles St</td>\n",
              "      <td>3</td>\n",
              "      <td>h</td>\n",
              "      <td>1465000.0</td>\n",
              "      <td>SP</td>\n",
              "      <td>Biggin</td>\n",
              "      <td>4/03/2017</td>\n",
              "      <td>2.5</td>\n",
              "      <td>3067.0</td>\n",
              "      <td>3.0</td>\n",
              "      <td>2.0</td>\n",
              "      <td>0.0</td>\n",
              "      <td>134.0</td>\n",
              "      <td>150.0</td>\n",
              "      <td>1900.0</td>\n",
              "      <td>Yarra City Council</td>\n",
              "      <td>-37.8093</td>\n",
              "      <td>144.9944</td>\n",
              "      <td>Northern Metropolitan</td>\n",
              "      <td>4019.0</td>\n",
              "    </tr>\n",
              "  </tbody>\n",
              "</table>\n",
              "</div>"
            ],
            "text/plain": [
              "       Suburb             Address  ...             Regionname Propertycount\n",
              "0  Abbotsford       68 Studley St  ...  Northern Metropolitan        4019.0\n",
              "1  Abbotsford        85 Turner St  ...  Northern Metropolitan        4019.0\n",
              "2  Abbotsford     25 Bloomburg St  ...  Northern Metropolitan        4019.0\n",
              "3  Abbotsford  18/659 Victoria St  ...  Northern Metropolitan        4019.0\n",
              "4  Abbotsford        5 Charles St  ...  Northern Metropolitan        4019.0\n",
              "\n",
              "[5 rows x 21 columns]"
            ]
          },
          "metadata": {
            "tags": []
          },
          "execution_count": 138
        }
      ]
    },
    {
      "cell_type": "code",
      "metadata": {
        "colab": {
          "base_uri": "https://localhost:8080/"
        },
        "id": "7k623l3QwvxM",
        "outputId": "8e703174-90ce-40b8-df51-17119233376c"
      },
      "source": [
        "df.shape"
      ],
      "execution_count": 139,
      "outputs": [
        {
          "output_type": "execute_result",
          "data": {
            "text/plain": [
              "(34857, 21)"
            ]
          },
          "metadata": {
            "tags": []
          },
          "execution_count": 139
        }
      ]
    },
    {
      "cell_type": "code",
      "metadata": {
        "id": "-9Fkem5ysJX0"
      },
      "source": [
        "# Profiling\n",
        "\n",
        "#from pandas_profiling import ProfileReport\n",
        "#ProfileReport(df)"
      ],
      "execution_count": 140,
      "outputs": []
    },
    {
      "cell_type": "code",
      "metadata": {
        "id": "0vKGS32bLJsI"
      },
      "source": [
        "# Converting Date to datetime\n",
        "df['Date'] = pd.to_datetime(df['Date'])\n",
        "\n",
        "# Rooms and Bedroom2 have high correlation.So Bedroom2 must be dropped\n",
        "df=df.drop(axis=1,columns='Bedroom2')\n",
        "\n",
        "# Postcode is categorial, shoule be object\n",
        "\n",
        "# Bathroom ,Car, Yearbuilt should be integer"
      ],
      "execution_count": 141,
      "outputs": []
    },
    {
      "cell_type": "code",
      "metadata": {
        "colab": {
          "base_uri": "https://localhost:8080/",
          "height": 286
        },
        "id": "HfC6J6o6V09z",
        "outputId": "c37f8353-8f4e-4e87-bba7-8bc275ab5aa8"
      },
      "source": [
        "df.describe()"
      ],
      "execution_count": 142,
      "outputs": [
        {
          "output_type": "execute_result",
          "data": {
            "text/html": [
              "<div>\n",
              "<style scoped>\n",
              "    .dataframe tbody tr th:only-of-type {\n",
              "        vertical-align: middle;\n",
              "    }\n",
              "\n",
              "    .dataframe tbody tr th {\n",
              "        vertical-align: top;\n",
              "    }\n",
              "\n",
              "    .dataframe thead th {\n",
              "        text-align: right;\n",
              "    }\n",
              "</style>\n",
              "<table border=\"1\" class=\"dataframe\">\n",
              "  <thead>\n",
              "    <tr style=\"text-align: right;\">\n",
              "      <th></th>\n",
              "      <th>Rooms</th>\n",
              "      <th>Price</th>\n",
              "      <th>Distance</th>\n",
              "      <th>Postcode</th>\n",
              "      <th>Bathroom</th>\n",
              "      <th>Car</th>\n",
              "      <th>Landsize</th>\n",
              "      <th>BuildingArea</th>\n",
              "      <th>YearBuilt</th>\n",
              "      <th>Lattitude</th>\n",
              "      <th>Longtitude</th>\n",
              "      <th>Propertycount</th>\n",
              "    </tr>\n",
              "  </thead>\n",
              "  <tbody>\n",
              "    <tr>\n",
              "      <th>count</th>\n",
              "      <td>34857.000000</td>\n",
              "      <td>2.724700e+04</td>\n",
              "      <td>34856.000000</td>\n",
              "      <td>34856.000000</td>\n",
              "      <td>26631.000000</td>\n",
              "      <td>26129.000000</td>\n",
              "      <td>23047.000000</td>\n",
              "      <td>13742.00000</td>\n",
              "      <td>15551.000000</td>\n",
              "      <td>26881.000000</td>\n",
              "      <td>26881.000000</td>\n",
              "      <td>34854.000000</td>\n",
              "    </tr>\n",
              "    <tr>\n",
              "      <th>mean</th>\n",
              "      <td>3.031012</td>\n",
              "      <td>1.050173e+06</td>\n",
              "      <td>11.184929</td>\n",
              "      <td>3116.062859</td>\n",
              "      <td>1.624798</td>\n",
              "      <td>1.728845</td>\n",
              "      <td>593.598993</td>\n",
              "      <td>160.25640</td>\n",
              "      <td>1965.289885</td>\n",
              "      <td>-37.810634</td>\n",
              "      <td>145.001851</td>\n",
              "      <td>7572.888306</td>\n",
              "    </tr>\n",
              "    <tr>\n",
              "      <th>std</th>\n",
              "      <td>0.969933</td>\n",
              "      <td>6.414671e+05</td>\n",
              "      <td>6.788892</td>\n",
              "      <td>109.023903</td>\n",
              "      <td>0.724212</td>\n",
              "      <td>1.010771</td>\n",
              "      <td>3398.841946</td>\n",
              "      <td>401.26706</td>\n",
              "      <td>37.328178</td>\n",
              "      <td>0.090279</td>\n",
              "      <td>0.120169</td>\n",
              "      <td>4428.090313</td>\n",
              "    </tr>\n",
              "    <tr>\n",
              "      <th>min</th>\n",
              "      <td>1.000000</td>\n",
              "      <td>8.500000e+04</td>\n",
              "      <td>0.000000</td>\n",
              "      <td>3000.000000</td>\n",
              "      <td>0.000000</td>\n",
              "      <td>0.000000</td>\n",
              "      <td>0.000000</td>\n",
              "      <td>0.00000</td>\n",
              "      <td>1196.000000</td>\n",
              "      <td>-38.190430</td>\n",
              "      <td>144.423790</td>\n",
              "      <td>83.000000</td>\n",
              "    </tr>\n",
              "    <tr>\n",
              "      <th>25%</th>\n",
              "      <td>2.000000</td>\n",
              "      <td>6.350000e+05</td>\n",
              "      <td>6.400000</td>\n",
              "      <td>3051.000000</td>\n",
              "      <td>1.000000</td>\n",
              "      <td>1.000000</td>\n",
              "      <td>224.000000</td>\n",
              "      <td>102.00000</td>\n",
              "      <td>1940.000000</td>\n",
              "      <td>-37.862950</td>\n",
              "      <td>144.933500</td>\n",
              "      <td>4385.000000</td>\n",
              "    </tr>\n",
              "    <tr>\n",
              "      <th>50%</th>\n",
              "      <td>3.000000</td>\n",
              "      <td>8.700000e+05</td>\n",
              "      <td>10.300000</td>\n",
              "      <td>3103.000000</td>\n",
              "      <td>2.000000</td>\n",
              "      <td>2.000000</td>\n",
              "      <td>521.000000</td>\n",
              "      <td>136.00000</td>\n",
              "      <td>1970.000000</td>\n",
              "      <td>-37.807600</td>\n",
              "      <td>145.007800</td>\n",
              "      <td>6763.000000</td>\n",
              "    </tr>\n",
              "    <tr>\n",
              "      <th>75%</th>\n",
              "      <td>4.000000</td>\n",
              "      <td>1.295000e+06</td>\n",
              "      <td>14.000000</td>\n",
              "      <td>3156.000000</td>\n",
              "      <td>2.000000</td>\n",
              "      <td>2.000000</td>\n",
              "      <td>670.000000</td>\n",
              "      <td>188.00000</td>\n",
              "      <td>2000.000000</td>\n",
              "      <td>-37.754100</td>\n",
              "      <td>145.071900</td>\n",
              "      <td>10412.000000</td>\n",
              "    </tr>\n",
              "    <tr>\n",
              "      <th>max</th>\n",
              "      <td>16.000000</td>\n",
              "      <td>1.120000e+07</td>\n",
              "      <td>48.100000</td>\n",
              "      <td>3978.000000</td>\n",
              "      <td>12.000000</td>\n",
              "      <td>26.000000</td>\n",
              "      <td>433014.000000</td>\n",
              "      <td>44515.00000</td>\n",
              "      <td>2106.000000</td>\n",
              "      <td>-37.390200</td>\n",
              "      <td>145.526350</td>\n",
              "      <td>21650.000000</td>\n",
              "    </tr>\n",
              "  </tbody>\n",
              "</table>\n",
              "</div>"
            ],
            "text/plain": [
              "              Rooms         Price  ...    Longtitude  Propertycount\n",
              "count  34857.000000  2.724700e+04  ...  26881.000000   34854.000000\n",
              "mean       3.031012  1.050173e+06  ...    145.001851    7572.888306\n",
              "std        0.969933  6.414671e+05  ...      0.120169    4428.090313\n",
              "min        1.000000  8.500000e+04  ...    144.423790      83.000000\n",
              "25%        2.000000  6.350000e+05  ...    144.933500    4385.000000\n",
              "50%        3.000000  8.700000e+05  ...    145.007800    6763.000000\n",
              "75%        4.000000  1.295000e+06  ...    145.071900   10412.000000\n",
              "max       16.000000  1.120000e+07  ...    145.526350   21650.000000\n",
              "\n",
              "[8 rows x 12 columns]"
            ]
          },
          "metadata": {
            "tags": []
          },
          "execution_count": 142
        }
      ]
    },
    {
      "cell_type": "code",
      "metadata": {
        "colab": {
          "base_uri": "https://localhost:8080/",
          "height": 53
        },
        "id": "xqJvkmdxV2PL",
        "outputId": "3174843d-c3e7-486e-aa2e-9152324711a1"
      },
      "source": [
        "# When BuildingArea is 0 or Landsize is 0\n",
        "\n",
        "display(len(df[(df['BuildingArea'] == 0)]),len(df[(df['Landsize'] == 0)]))"
      ],
      "execution_count": 143,
      "outputs": [
        {
          "output_type": "display_data",
          "data": {
            "text/plain": [
              "76"
            ]
          },
          "metadata": {
            "tags": []
          }
        },
        {
          "output_type": "display_data",
          "data": {
            "text/plain": [
              "2437"
            ]
          },
          "metadata": {
            "tags": []
          }
        }
      ]
    },
    {
      "cell_type": "code",
      "metadata": {
        "colab": {
          "base_uri": "https://localhost:8080/",
          "height": 53
        },
        "id": "i_ntFQCsZQq8",
        "outputId": "a6fdda0a-a2ba-468d-a69a-6115377ac634"
      },
      "source": [
        "# BuildingArea and Landsize cannot be 0, so drop\n",
        "\n",
        "df=df[~(df['BuildingArea'] == 0)]\n",
        "df=df[~(df['Landsize'] == 0)]\n",
        "display(len(df[(df['BuildingArea'] == 0)]),len(df[(df['Landsize'] == 0)]))"
      ],
      "execution_count": 144,
      "outputs": [
        {
          "output_type": "display_data",
          "data": {
            "text/plain": [
              "0"
            ]
          },
          "metadata": {
            "tags": []
          }
        },
        {
          "output_type": "display_data",
          "data": {
            "text/plain": [
              "0"
            ]
          },
          "metadata": {
            "tags": []
          }
        }
      ]
    },
    {
      "cell_type": "code",
      "metadata": {
        "colab": {
          "base_uri": "https://localhost:8080/"
        },
        "id": "7f-9n0u-Wuej",
        "outputId": "5b5949a8-65fc-42fe-ede7-f1ef6ce05dce"
      },
      "source": [
        "# when YearBuilt is after 2019\n",
        "\n",
        "len(df[(df['YearBuilt'] >= 2019)])"
      ],
      "execution_count": 145,
      "outputs": [
        {
          "output_type": "execute_result",
          "data": {
            "text/plain": [
              "2"
            ]
          },
          "metadata": {
            "tags": []
          },
          "execution_count": 145
        }
      ]
    },
    {
      "cell_type": "code",
      "metadata": {
        "colab": {
          "base_uri": "https://localhost:8080/"
        },
        "id": "HyWRyj5laaKz",
        "outputId": "23469175-0b37-48bb-ee87-5ae7597d1d25"
      },
      "source": [
        "# Data is form 2016 to 2018 so 2019 data could not exist. Drop.\n",
        "\n",
        "df=df[~(df['YearBuilt'] >= 2019)]\n",
        "len(df[(df['YearBuilt'] >= 2019)])"
      ],
      "execution_count": 146,
      "outputs": [
        {
          "output_type": "execute_result",
          "data": {
            "text/plain": [
              "0"
            ]
          },
          "metadata": {
            "tags": []
          },
          "execution_count": 146
        }
      ]
    },
    {
      "cell_type": "code",
      "metadata": {
        "id": "yLeA_6gejTti"
      },
      "source": [
        "# reset index\n",
        "df = df.reset_index()"
      ],
      "execution_count": 147,
      "outputs": []
    },
    {
      "cell_type": "code",
      "metadata": {
        "id": "4V_tqtTUE5J2"
      },
      "source": [
        "df=df.drop(axis=1,columns='index')"
      ],
      "execution_count": 148,
      "outputs": []
    },
    {
      "cell_type": "markdown",
      "metadata": {
        "id": "WptqdzeBzFv4"
      },
      "source": [
        "#**2. Data cleaning**"
      ]
    },
    {
      "cell_type": "markdown",
      "metadata": {
        "id": "d6c_PYfNvbLR"
      },
      "source": [
        "##**2.1. Duplitcate values**"
      ]
    },
    {
      "cell_type": "code",
      "metadata": {
        "colab": {
          "base_uri": "https://localhost:8080/"
        },
        "id": "QKOXeX7hvZ_x",
        "outputId": "7bfc42a8-ee1f-43e2-f0d9-d87f8303d992"
      },
      "source": [
        "# Check Duplitcate values\n",
        "\n",
        "len(df[df.duplicated()==True]) "
      ],
      "execution_count": 149,
      "outputs": [
        {
          "output_type": "execute_result",
          "data": {
            "text/plain": [
              "1"
            ]
          },
          "metadata": {
            "tags": []
          },
          "execution_count": 149
        }
      ]
    },
    {
      "cell_type": "code",
      "metadata": {
        "colab": {
          "base_uri": "https://localhost:8080/"
        },
        "id": "JwahE6UNe8Gy",
        "outputId": "0687752b-3f51-485f-d2e1-c1cb56940692"
      },
      "source": [
        "# Remove duplicate values\n",
        "\n",
        "df=df.drop_duplicates()\n",
        "len(df[df.duplicated()==True]) "
      ],
      "execution_count": 150,
      "outputs": [
        {
          "output_type": "execute_result",
          "data": {
            "text/plain": [
              "0"
            ]
          },
          "metadata": {
            "tags": []
          },
          "execution_count": 150
        }
      ]
    },
    {
      "cell_type": "markdown",
      "metadata": {
        "id": "T7Uy6G1rzF3D"
      },
      "source": [
        "##**2.2. Missing values**"
      ]
    },
    {
      "cell_type": "code",
      "metadata": {
        "colab": {
          "base_uri": "https://localhost:8080/"
        },
        "id": "1W-7XxGN0Pbh",
        "outputId": "501c0d45-d63d-4d4e-cccf-332fe3191736"
      },
      "source": [
        "# Check Missing values\n",
        "\n",
        "df.isnull().sum()"
      ],
      "execution_count": 151,
      "outputs": [
        {
          "output_type": "execute_result",
          "data": {
            "text/plain": [
              "Suburb               0\n",
              "Address              0\n",
              "Rooms                0\n",
              "Type                 0\n",
              "Price             7098\n",
              "Method               0\n",
              "SellerG              0\n",
              "Date                 0\n",
              "Distance             1\n",
              "Postcode             1\n",
              "Bathroom          8226\n",
              "Car               8726\n",
              "Landsize         11790\n",
              "BuildingArea     20005\n",
              "YearBuilt        18472\n",
              "CouncilArea          3\n",
              "Lattitude         7971\n",
              "Longtitude        7971\n",
              "Regionname           3\n",
              "Propertycount        3\n",
              "dtype: int64"
            ]
          },
          "metadata": {
            "tags": []
          },
          "execution_count": 151
        }
      ]
    },
    {
      "cell_type": "code",
      "metadata": {
        "id": "2ymSRGv2z_hC"
      },
      "source": [
        "# Inserting the median on the missing values of numeric data\n",
        "\n",
        "df['Price']= df['Price'].fillna(df['Price'].median())\n",
        "df['Distance']= df['Distance'].fillna(df['Distance'].median())\n",
        "df['Landsize']= df['Landsize'].fillna(df['Landsize'].median())\n",
        "df['BuildingArea']= df['BuildingArea'].fillna(df['BuildingArea'].median())\n",
        "df['YearBuilt']= df['YearBuilt'].fillna(df['YearBuilt'].median())\n",
        "df['Lattitude']= df['Lattitude'].fillna(df['Lattitude'].median())\n",
        "df['Longtitude']= df['Longtitude'].fillna(df['Longtitude'].median())"
      ],
      "execution_count": 152,
      "outputs": []
    },
    {
      "cell_type": "code",
      "metadata": {
        "id": "PpcgTJnq3FEq"
      },
      "source": [
        "# Putting Modes on Missing values in Categorical Data\n",
        "\n",
        "df['Car']= df['Car'].fillna(df['Car'].mode()[0])\n",
        "df['Bathroom']= df['Bathroom'].fillna(df['Bathroom'].mode()[0])\n",
        "df['Postcode']= df['Postcode'].fillna(df['Postcode'].mode()[0])\n",
        "df['CouncilArea']= df['CouncilArea'].fillna(df['CouncilArea'].mode()[0])\n",
        "df['Regionname']= df['Regionname'].fillna(df['Regionname'].mode()[0])\n",
        "df['Propertycount']= df['Propertycount'].fillna(df['Propertycount'].mode()[0])"
      ],
      "execution_count": 153,
      "outputs": []
    },
    {
      "cell_type": "code",
      "metadata": {
        "colab": {
          "base_uri": "https://localhost:8080/"
        },
        "id": "hdnOojlk3WTa",
        "outputId": "48a80995-7700-45b7-81cf-b1e7f822215f"
      },
      "source": [
        "# after processing missing values\n",
        "df.isnull().sum()"
      ],
      "execution_count": 154,
      "outputs": [
        {
          "output_type": "execute_result",
          "data": {
            "text/plain": [
              "Suburb           0\n",
              "Address          0\n",
              "Rooms            0\n",
              "Type             0\n",
              "Price            0\n",
              "Method           0\n",
              "SellerG          0\n",
              "Date             0\n",
              "Distance         0\n",
              "Postcode         0\n",
              "Bathroom         0\n",
              "Car              0\n",
              "Landsize         0\n",
              "BuildingArea     0\n",
              "YearBuilt        0\n",
              "CouncilArea      0\n",
              "Lattitude        0\n",
              "Longtitude       0\n",
              "Regionname       0\n",
              "Propertycount    0\n",
              "dtype: int64"
            ]
          },
          "metadata": {
            "tags": []
          },
          "execution_count": 154
        }
      ]
    },
    {
      "cell_type": "code",
      "metadata": {
        "id": "JOnSW4xw3rcq"
      },
      "source": [
        "# change Bathroom, car and YearBuilt to integer\n",
        "\n",
        "df['Bathroom']=df['Bathroom'].astype('int64')\n",
        "df['Car']=df['Car'].astype('int64')\n",
        "df['YearBuilt']=df['YearBuilt'].astype('int64')\n",
        "\n",
        "# Change Postcode to object\n",
        "\n",
        "df['Postcode']= df['Postcode'].astype('object')"
      ],
      "execution_count": 155,
      "outputs": []
    },
    {
      "cell_type": "code",
      "metadata": {
        "colab": {
          "base_uri": "https://localhost:8080/"
        },
        "id": "3rZiW_mYzmss",
        "outputId": "28b2cbe0-542a-41c4-b380-6d763834d5e2"
      },
      "source": [
        "df.info()"
      ],
      "execution_count": 156,
      "outputs": [
        {
          "output_type": "stream",
          "text": [
            "<class 'pandas.core.frame.DataFrame'>\n",
            "Int64Index: 32341 entries, 0 to 32341\n",
            "Data columns (total 20 columns):\n",
            " #   Column         Non-Null Count  Dtype         \n",
            "---  ------         --------------  -----         \n",
            " 0   Suburb         32341 non-null  object        \n",
            " 1   Address        32341 non-null  object        \n",
            " 2   Rooms          32341 non-null  int64         \n",
            " 3   Type           32341 non-null  object        \n",
            " 4   Price          32341 non-null  float64       \n",
            " 5   Method         32341 non-null  object        \n",
            " 6   SellerG        32341 non-null  object        \n",
            " 7   Date           32341 non-null  datetime64[ns]\n",
            " 8   Distance       32341 non-null  float64       \n",
            " 9   Postcode       32341 non-null  object        \n",
            " 10  Bathroom       32341 non-null  int64         \n",
            " 11  Car            32341 non-null  int64         \n",
            " 12  Landsize       32341 non-null  float64       \n",
            " 13  BuildingArea   32341 non-null  float64       \n",
            " 14  YearBuilt      32341 non-null  int64         \n",
            " 15  CouncilArea    32341 non-null  object        \n",
            " 16  Lattitude      32341 non-null  float64       \n",
            " 17  Longtitude     32341 non-null  float64       \n",
            " 18  Regionname     32341 non-null  object        \n",
            " 19  Propertycount  32341 non-null  float64       \n",
            "dtypes: datetime64[ns](1), float64(7), int64(4), object(8)\n",
            "memory usage: 5.2+ MB\n"
          ],
          "name": "stdout"
        }
      ]
    },
    {
      "cell_type": "markdown",
      "metadata": {
        "id": "eLH2huFg-pqH"
      },
      "source": [
        "##**2.3. Feature engineering**"
      ]
    },
    {
      "cell_type": "code",
      "metadata": {
        "id": "h503mQcbemH1"
      },
      "source": [
        "# Create Year and doy(day of year)\n",
        "\n",
        "df['Year'] = df['Date'].dt.year\n",
        "\n",
        "df['doy'] = df['Date'].dt.dayofyear"
      ],
      "execution_count": 157,
      "outputs": []
    },
    {
      "cell_type": "code",
      "metadata": {
        "id": "1xzDec_2ggWU"
      },
      "source": [
        "#Create a feature called season using the doy feature\n",
        "\n",
        "spring = range(80, 172)\n",
        "summer = range(172, 264)\n",
        "fall = range(264, 355)\n",
        "#winter = else\n",
        "\n",
        "v=[]\n",
        "for i in df['doy']:\n",
        "\n",
        "  if i in spring:\n",
        "    season='spring'\n",
        "  elif i in summer:\n",
        "    season = 'summer'\n",
        "  elif i in fall:\n",
        "    season = 'fall'\n",
        "  else:\n",
        "    season = 'winter'\n",
        "  v.append(season)  \n",
        "\n",
        "df['season']= pd.Series(v)"
      ],
      "execution_count": 158,
      "outputs": []
    },
    {
      "cell_type": "code",
      "metadata": {
        "colab": {
          "base_uri": "https://localhost:8080/"
        },
        "id": "W7veXCHgiYM7",
        "outputId": "5a99a23b-fcea-4526-c0b3-788e52c80b14"
      },
      "source": [
        "df.info()"
      ],
      "execution_count": 159,
      "outputs": [
        {
          "output_type": "stream",
          "text": [
            "<class 'pandas.core.frame.DataFrame'>\n",
            "Int64Index: 32341 entries, 0 to 32341\n",
            "Data columns (total 23 columns):\n",
            " #   Column         Non-Null Count  Dtype         \n",
            "---  ------         --------------  -----         \n",
            " 0   Suburb         32341 non-null  object        \n",
            " 1   Address        32341 non-null  object        \n",
            " 2   Rooms          32341 non-null  int64         \n",
            " 3   Type           32341 non-null  object        \n",
            " 4   Price          32341 non-null  float64       \n",
            " 5   Method         32341 non-null  object        \n",
            " 6   SellerG        32341 non-null  object        \n",
            " 7   Date           32341 non-null  datetime64[ns]\n",
            " 8   Distance       32341 non-null  float64       \n",
            " 9   Postcode       32341 non-null  object        \n",
            " 10  Bathroom       32341 non-null  int64         \n",
            " 11  Car            32341 non-null  int64         \n",
            " 12  Landsize       32341 non-null  float64       \n",
            " 13  BuildingArea   32341 non-null  float64       \n",
            " 14  YearBuilt      32341 non-null  int64         \n",
            " 15  CouncilArea    32341 non-null  object        \n",
            " 16  Lattitude      32341 non-null  float64       \n",
            " 17  Longtitude     32341 non-null  float64       \n",
            " 18  Regionname     32341 non-null  object        \n",
            " 19  Propertycount  32341 non-null  float64       \n",
            " 20  Year           32341 non-null  int64         \n",
            " 21  doy            32341 non-null  int64         \n",
            " 22  season         32340 non-null  object        \n",
            "dtypes: datetime64[ns](1), float64(7), int64(6), object(9)\n",
            "memory usage: 5.9+ MB\n"
          ],
          "name": "stdout"
        }
      ]
    },
    {
      "cell_type": "markdown",
      "metadata": {
        "id": "tg1hzsJOdA42"
      },
      "source": [
        "#**3. Machine Learning**"
      ]
    },
    {
      "cell_type": "markdown",
      "metadata": {
        "id": "SEo37bjb5r6v"
      },
      "source": [
        "##**3.1 Split Data**\n"
      ]
    },
    {
      "cell_type": "code",
      "metadata": {
        "colab": {
          "base_uri": "https://localhost:8080/"
        },
        "id": "ghsqQIXPeKK2",
        "outputId": "6e4b7789-37ef-40bb-da1b-cc81ddb7249d"
      },
      "source": [
        "df.info()"
      ],
      "execution_count": 160,
      "outputs": [
        {
          "output_type": "stream",
          "text": [
            "<class 'pandas.core.frame.DataFrame'>\n",
            "Int64Index: 32341 entries, 0 to 32341\n",
            "Data columns (total 23 columns):\n",
            " #   Column         Non-Null Count  Dtype         \n",
            "---  ------         --------------  -----         \n",
            " 0   Suburb         32341 non-null  object        \n",
            " 1   Address        32341 non-null  object        \n",
            " 2   Rooms          32341 non-null  int64         \n",
            " 3   Type           32341 non-null  object        \n",
            " 4   Price          32341 non-null  float64       \n",
            " 5   Method         32341 non-null  object        \n",
            " 6   SellerG        32341 non-null  object        \n",
            " 7   Date           32341 non-null  datetime64[ns]\n",
            " 8   Distance       32341 non-null  float64       \n",
            " 9   Postcode       32341 non-null  object        \n",
            " 10  Bathroom       32341 non-null  int64         \n",
            " 11  Car            32341 non-null  int64         \n",
            " 12  Landsize       32341 non-null  float64       \n",
            " 13  BuildingArea   32341 non-null  float64       \n",
            " 14  YearBuilt      32341 non-null  int64         \n",
            " 15  CouncilArea    32341 non-null  object        \n",
            " 16  Lattitude      32341 non-null  float64       \n",
            " 17  Longtitude     32341 non-null  float64       \n",
            " 18  Regionname     32341 non-null  object        \n",
            " 19  Propertycount  32341 non-null  float64       \n",
            " 20  Year           32341 non-null  int64         \n",
            " 21  doy            32341 non-null  int64         \n",
            " 22  season         32340 non-null  object        \n",
            "dtypes: datetime64[ns](1), float64(7), int64(6), object(9)\n",
            "memory usage: 5.9+ MB\n"
          ],
          "name": "stdout"
        }
      ]
    },
    {
      "cell_type": "code",
      "metadata": {
        "id": "rNUu_7iaeLKk"
      },
      "source": [
        "#Drop features that no effect on price\n",
        "\n",
        "df= df.drop(['Suburb', 'Address', 'Method', 'SellerG', 'Postcode', 'CouncilArea', 'doy'], axis=1)"
      ],
      "execution_count": 161,
      "outputs": []
    },
    {
      "cell_type": "code",
      "metadata": {
        "colab": {
          "base_uri": "https://localhost:8080/"
        },
        "id": "i9eaJpcliv5V",
        "outputId": "1eb2616d-02fa-454b-cfce-907503b34110"
      },
      "source": [
        "df.info()"
      ],
      "execution_count": 162,
      "outputs": [
        {
          "output_type": "stream",
          "text": [
            "<class 'pandas.core.frame.DataFrame'>\n",
            "Int64Index: 32341 entries, 0 to 32341\n",
            "Data columns (total 16 columns):\n",
            " #   Column         Non-Null Count  Dtype         \n",
            "---  ------         --------------  -----         \n",
            " 0   Rooms          32341 non-null  int64         \n",
            " 1   Type           32341 non-null  object        \n",
            " 2   Price          32341 non-null  float64       \n",
            " 3   Date           32341 non-null  datetime64[ns]\n",
            " 4   Distance       32341 non-null  float64       \n",
            " 5   Bathroom       32341 non-null  int64         \n",
            " 6   Car            32341 non-null  int64         \n",
            " 7   Landsize       32341 non-null  float64       \n",
            " 8   BuildingArea   32341 non-null  float64       \n",
            " 9   YearBuilt      32341 non-null  int64         \n",
            " 10  Lattitude      32341 non-null  float64       \n",
            " 11  Longtitude     32341 non-null  float64       \n",
            " 12  Regionname     32341 non-null  object        \n",
            " 13  Propertycount  32341 non-null  float64       \n",
            " 14  Year           32341 non-null  int64         \n",
            " 15  season         32340 non-null  object        \n",
            "dtypes: datetime64[ns](1), float64(7), int64(5), object(3)\n",
            "memory usage: 4.2+ MB\n"
          ],
          "name": "stdout"
        }
      ]
    },
    {
      "cell_type": "code",
      "metadata": {
        "colab": {
          "base_uri": "https://localhost:8080/"
        },
        "id": "jX2kT0lrlmpJ",
        "outputId": "b6150f62-5730-4f36-92fc-1d47aab9b0cf"
      },
      "source": [
        "# Onehot encoding\n",
        "\n",
        "hD= pd.get_dummies(df, columns= ['Type', 'Regionname', 'season'])\n",
        "hD.info()"
      ],
      "execution_count": 163,
      "outputs": [
        {
          "output_type": "stream",
          "text": [
            "<class 'pandas.core.frame.DataFrame'>\n",
            "Int64Index: 32341 entries, 0 to 32341\n",
            "Data columns (total 28 columns):\n",
            " #   Column                                 Non-Null Count  Dtype         \n",
            "---  ------                                 --------------  -----         \n",
            " 0   Rooms                                  32341 non-null  int64         \n",
            " 1   Price                                  32341 non-null  float64       \n",
            " 2   Date                                   32341 non-null  datetime64[ns]\n",
            " 3   Distance                               32341 non-null  float64       \n",
            " 4   Bathroom                               32341 non-null  int64         \n",
            " 5   Car                                    32341 non-null  int64         \n",
            " 6   Landsize                               32341 non-null  float64       \n",
            " 7   BuildingArea                           32341 non-null  float64       \n",
            " 8   YearBuilt                              32341 non-null  int64         \n",
            " 9   Lattitude                              32341 non-null  float64       \n",
            " 10  Longtitude                             32341 non-null  float64       \n",
            " 11  Propertycount                          32341 non-null  float64       \n",
            " 12  Year                                   32341 non-null  int64         \n",
            " 13  Type_h                                 32341 non-null  uint8         \n",
            " 14  Type_t                                 32341 non-null  uint8         \n",
            " 15  Type_u                                 32341 non-null  uint8         \n",
            " 16  Regionname_Eastern Metropolitan        32341 non-null  uint8         \n",
            " 17  Regionname_Eastern Victoria            32341 non-null  uint8         \n",
            " 18  Regionname_Northern Metropolitan       32341 non-null  uint8         \n",
            " 19  Regionname_Northern Victoria           32341 non-null  uint8         \n",
            " 20  Regionname_South-Eastern Metropolitan  32341 non-null  uint8         \n",
            " 21  Regionname_Southern Metropolitan       32341 non-null  uint8         \n",
            " 22  Regionname_Western Metropolitan        32341 non-null  uint8         \n",
            " 23  Regionname_Western Victoria            32341 non-null  uint8         \n",
            " 24  season_fall                            32341 non-null  uint8         \n",
            " 25  season_spring                          32341 non-null  uint8         \n",
            " 26  season_summer                          32341 non-null  uint8         \n",
            " 27  season_winter                          32341 non-null  uint8         \n",
            "dtypes: datetime64[ns](1), float64(7), int64(5), uint8(15)\n",
            "memory usage: 3.9 MB\n"
          ],
          "name": "stdout"
        }
      ]
    },
    {
      "cell_type": "code",
      "metadata": {
        "colab": {
          "base_uri": "https://localhost:8080/"
        },
        "id": "QVNDcAuFAl1G",
        "outputId": "8650ad90-455a-4c19-e94b-8c040867f542"
      },
      "source": [
        "hD['Date'].value_counts"
      ],
      "execution_count": 164,
      "outputs": [
        {
          "output_type": "execute_result",
          "data": {
            "text/plain": [
              "<bound method IndexOpsMixin.value_counts of 0       2016-03-09\n",
              "1       2016-03-12\n",
              "2       2016-04-02\n",
              "3       2017-04-03\n",
              "4       2017-04-03\n",
              "           ...    \n",
              "32337   2018-02-24\n",
              "32338   2018-02-24\n",
              "32339   2018-02-24\n",
              "32340   2018-02-24\n",
              "32341   2018-02-24\n",
              "Name: Date, Length: 32341, dtype: datetime64[ns]>"
            ]
          },
          "metadata": {
            "tags": []
          },
          "execution_count": 164
        }
      ]
    },
    {
      "cell_type": "markdown",
      "metadata": {
        "id": "BrU5suXVpdx7"
      },
      "source": [
        "###**Whole period is 24 months with 2016.03 ~ 2018.02**\n",
        "###**Test data will be 2 months start with 2017.03 ~ 2017.04 to 2018.01~2018.02 for all mothod and period**\n",
        "###**Train data for Expanding method start with 2016.03 ~ 2017.02 to 2016.03 ~ 2017.12**\n",
        "###**Sliding method will have 6 models. Each model has train data for 2~7 months respectively**  "
      ]
    },
    {
      "cell_type": "code",
      "metadata": {
        "id": "Uo0pHsSGl1_p"
      },
      "source": [
        "# Split Data for Expanding Method\n",
        "\n",
        "# Train data for 2016.03 ~ 2017.02\n",
        "train_ex_1 = hD[hD['Date']<='2017.02.28']\n",
        "\n",
        "# Train data for 2016.03 ~ 2017.03\n",
        "train_ex_2 =  hD[hD['Date']<='2017.03.31']\n",
        "\n",
        "# Train data for 2016.03 ~ 2017.4\n",
        "train_ex_3 =  hD[hD['Date']<='2017.04.30']\n",
        "\n",
        "# Train data for 2016.03 ~ 2017.05\n",
        "train_ex_4 = hD[hD['Date']<='2017.05.31']\n",
        "\n",
        "# Train data for 2016.03 ~ 2017.06\n",
        "train_ex_5 = hD[hD['Date']<='2017.06.30']\n",
        "\n",
        "# Train data for 2016.03 ~ 2017.07\n",
        "train_ex_6 = hD[hD['Date']<='2017.07.31']\n",
        "\n",
        "# Train data for 2016.03 ~ 2017.08\n",
        "train_ex_7 = hD[hD['Date']<='2017.08.31']\n",
        "\n",
        "# Train data for 2016.03 ~ 2017.09\n",
        "train_ex_8 = hD[hD['Date']<='2017.09.30']\n",
        "\n",
        "# Train data for 2016.03 ~ 2017.10\n",
        "train_ex_9 = hD[hD['Date']<='2017.10.31']\n",
        "\n",
        "# Train data for 2016.03 ~ 2017.11\n",
        "train_ex_10 = hD[hD['Date']<='2017.11.30']\n",
        "\n",
        "# Train data for 2016.03 ~ 2017.12\n",
        "train_ex_11 = hD[hD['Date']<='2017.12.31']"
      ],
      "execution_count": 165,
      "outputs": []
    },
    {
      "cell_type": "code",
      "metadata": {
        "id": "Wr-AqoymkfnR"
      },
      "source": [
        "# Split Data for sliding Method-1 (2 months for each train data set)\n",
        "\n",
        "# Train data for 2017.01 ~ 2017.02\n",
        "train_sl1_1 = hD[(hD['Date']<='2017.02.28')& (hD['Date']>='2017.01.01')]\n",
        "\n",
        "# Train data for 2017.02 ~ 2017.03\n",
        "train_sl1_2 = hD[(hD['Date']<='2017.03.31')& (hD['Date']>='2017.02.01')]\n",
        "\n",
        "# Train data for 2017.03 ~ 2017.04\n",
        "train_sl1_3 = hD[(hD['Date']<='2017.04.30')& (hD['Date']>='2017.03.01')]\n",
        "\n",
        "# Train data for 2017.04 ~ 2017.05\n",
        "train_sl1_4 = hD[(hD['Date']<='2017.05.31')& (hD['Date']>='2017.04.01')]\n",
        "\n",
        "# Train data for 2017.05 ~ 2017.06\n",
        "train_sl1_5 = hD[(hD['Date']<='2017.06.30')& (hD['Date']>='2017.05.01')]\n",
        "\n",
        "# Train data for 2017.06 ~ 2017.07\n",
        "train_sl1_6 = hD[(hD['Date']<='2017.07.31')& (hD['Date']>='2017.06.01')]\n",
        "\n",
        "# Train data for 2017.07 ~ 2017.08\n",
        "train_sl1_7 = hD[(hD['Date']<='2017.08.31')& (hD['Date']>='2017.07.01')]\n",
        "\n",
        "# Train data for 2017.08 ~ 2017.09\n",
        "train_sl1_8 = hD[(hD['Date']<='2017.09.30')& (hD['Date']>='2017.08.01')]\n",
        "\n",
        "# Train data for 2017.09 ~ 2017.10\n",
        "train_sl1_9 = hD[(hD['Date']<='2017.10.31')& (hD['Date']>='2017.09.01')]\n",
        "\n",
        "# Train data for 2017.10 ~ 2017.11\n",
        "train_sl1_10 = hD[(hD['Date']<='2017.11.30')& (hD['Date']>='2017.10.01')]\n",
        "\n",
        "# Train data for 2017.11 ~ 2017.12\n",
        "train_sl1_11 = hD[(hD['Date']<='2017.12.31')& (hD['Date']>='2017.11.01')]"
      ],
      "execution_count": 166,
      "outputs": []
    },
    {
      "cell_type": "code",
      "metadata": {
        "id": "8kpnyZ03nDwf"
      },
      "source": [
        "# Split Data for sliding Method-2 (3 months for each train data set)\n",
        "\n",
        "# Train data for 2016.12 ~ 2017.02\n",
        "train_sl2_1 = hD[(hD['Date']<='2017.02.28')& (hD['Date']>='2016.12.01')]\n",
        "\n",
        "# Train data for 2017.01 ~ 2017.03\n",
        "train_sl2_2 = hD[(hD['Date']<='2017.03.31')& (hD['Date']>='2017.01.01')]\n",
        "\n",
        "# Train data for 2017.02 ~ 2017.04\n",
        "train_sl2_3 = hD[(hD['Date']<='2017.04.30')& (hD['Date']>='2017.02.01')]\n",
        "\n",
        "# Train data for 2017.03 ~ 2017.05\n",
        "train_sl2_4 = hD[(hD['Date']<='2017.05.31')& (hD['Date']>='2017.03.01')]\n",
        "\n",
        "# Train data for 2017.04 ~ 2017.06\n",
        "train_sl2_5 = hD[(hD['Date']<='2017.06.30')& (hD['Date']>='2017.04.01')]\n",
        "\n",
        "# Train data for 2017.05 ~ 2017.07\n",
        "train_sl2_6 = hD[(hD['Date']<='2017.07.31')& (hD['Date']>='2017.05.01')]\n",
        "\n",
        "# Train data for 2017.06 ~ 2017.08\n",
        "train_sl2_7 = hD[(hD['Date']<='2017.08.31')& (hD['Date']>='2017.06.01')]\n",
        "\n",
        "# Train data for 2017.07 ~ 2017.09\n",
        "train_sl2_8 = hD[(hD['Date']<='2017.09.30')& (hD['Date']>='2017.07.01')]\n",
        "\n",
        "# Train data for 2017.08 ~ 2017.10\n",
        "train_sl2_9 = hD[(hD['Date']<='2017.10.31')& (hD['Date']>='2017.08.01')]\n",
        "\n",
        "# Train data for 2017.09 ~ 2017.11\n",
        "train_sl2_10 = hD[(hD['Date']<='2017.11.30')& (hD['Date']>='2017.09.01')]\n",
        "\n",
        "# Train data for 2017.10 ~ 2017.12\n",
        "train_sl2_11 = hD[(hD['Date']<='2017.12.31')& (hD['Date']>='2017.10.01')]"
      ],
      "execution_count": 167,
      "outputs": []
    },
    {
      "cell_type": "code",
      "metadata": {
        "id": "uU5rQcuwmk4w"
      },
      "source": [
        "# Split Data for sliding Method-3 (4 months for each train data set)\n",
        "\n",
        "# Train data for 2016.11 ~ 2017.02\n",
        "train_sl3_1 = hD[(hD['Date']<='2017.02.28')& (hD['Date']>='2016.11.01')]\n",
        "\n",
        "# Train data for 2016.12 ~ 2017.03\n",
        "train_sl3_2 = hD[(hD['Date']<='2017.03.31')& (hD['Date']>='2016.12.01')]\n",
        "\n",
        "# Train data for 2017.01 ~ 2017.04\n",
        "train_sl3_3 = hD[(hD['Date']<='2017.04.30')& (hD['Date']>='2017.01.01')]\n",
        "\n",
        "# Train data for 2017.02 ~ 2017.05\n",
        "train_sl3_4 = hD[(hD['Date']<='2017.05.31')& (hD['Date']>='2017.02.01')]\n",
        "\n",
        "# Train data for 2017.03 ~ 2017.06\n",
        "train_sl3_5 = hD[(hD['Date']<='2017.06.30')& (hD['Date']>='2017.03.01')]\n",
        "\n",
        "# Train data for 2017.04 ~ 2017.07\n",
        "train_sl3_6 = hD[(hD['Date']<='2017.07.31')& (hD['Date']>='2017.04.01')]\n",
        "\n",
        "# Train data for 2017.05 ~ 2017.08\n",
        "train_sl3_7 = hD[(hD['Date']<='2017.08.31')& (hD['Date']>='2017.05.01')]\n",
        "\n",
        "# Train data for 2017.06 ~ 2017.09\n",
        "train_sl3_8 = hD[(hD['Date']<='2017.09.30')& (hD['Date']>='2017.06.01')]\n",
        "\n",
        "# Train data for 2017.07 ~ 2017.10\n",
        "train_sl3_9 = hD[(hD['Date']<='2017.10.31')& (hD['Date']>='2017.07.01')]\n",
        "\n",
        "# Train data for 2017.08 ~ 2017.11\n",
        "train_sl3_10 = hD[(hD['Date']<='2017.11.30')& (hD['Date']>='2017.08.01')]\n",
        "\n",
        "# Train data for 2017.09 ~ 2017.12\n",
        "train_sl3_11 = hD[(hD['Date']<='2017.12.31')& (hD['Date']>='2017.09.01')]"
      ],
      "execution_count": 168,
      "outputs": []
    },
    {
      "cell_type": "code",
      "metadata": {
        "id": "iPDMnzj7mlhe"
      },
      "source": [
        "# Split Data for sliding Method-4 (5 months for each train data set)\n",
        "\n",
        "# Train data for 2016.10 ~ 2017.02\n",
        "train_sl4_1 = hD[(hD['Date']<='2017.02.28')& (hD['Date']>='2016.10.01')]\n",
        "\n",
        "# Train data for 2016.11 ~ 2017.03\n",
        "train_sl4_2 = hD[(hD['Date']<='2017.03.31')& (hD['Date']>='2016.11.01')]\n",
        "\n",
        "# Train data for 2016.12 ~ 2017.04\n",
        "train_sl4_3 = hD[(hD['Date']<='2017.04.30')& (hD['Date']>='2016.12.01')]\n",
        "\n",
        "# Train data for 2017.01 ~ 2017.05\n",
        "train_sl4_4 = hD[(hD['Date']<='2017.05.31')& (hD['Date']>='2017.01.01')]\n",
        "\n",
        "# Train data for 2017.02 ~ 2017.06\n",
        "train_sl4_5 = hD[(hD['Date']<='2017.06.30')& (hD['Date']>='2017.02.01')]\n",
        "\n",
        "# Train data for 2017.03 ~ 2017.07\n",
        "train_sl4_6 = hD[(hD['Date']<='2017.07.31')& (hD['Date']>='2017.03.01')]\n",
        "\n",
        "# Train data for 2017.04 ~ 2017.08\n",
        "train_sl4_7 = hD[(hD['Date']<='2017.08.31')& (hD['Date']>='2017.04.01')]\n",
        "\n",
        "# Train data for 2017.05 ~ 2017.09\n",
        "train_sl4_8 = hD[(hD['Date']<='2017.09.30')& (hD['Date']>='2017.05.01')]\n",
        "\n",
        "# Train data for 2017.06 ~ 2017.10\n",
        "train_sl4_9 = hD[(hD['Date']<='2017.10.31')& (hD['Date']>='2017.06.01')]\n",
        "\n",
        "# Train data for 2017.07 ~ 2017.11\n",
        "train_sl4_10 = hD[(hD['Date']<='2017.11.30')& (hD['Date']>='2017.07.01')]\n",
        "\n",
        "# Train data for 2017.08 ~ 2017.12\n",
        "train_sl4_11 = hD[(hD['Date']<='2017.12.31')& (hD['Date']>='2017.08.01')]"
      ],
      "execution_count": 169,
      "outputs": []
    },
    {
      "cell_type": "code",
      "metadata": {
        "id": "H09goPggoVOe"
      },
      "source": [
        "# Split Data for sliding Method-5 (6 months for each train data set)\n",
        "\n",
        "# Train data for 2016.09 ~ 2017.02\n",
        "train_sl5_1 = hD[(hD['Date']<='2017.02.28')& (hD['Date']>='2016.09.01')]\n",
        "\n",
        "# Train data for 2016.10 ~ 2017.03\n",
        "train_sl5_2 = hD[(hD['Date']<='2017.03.31')& (hD['Date']>='2016.10.01')]\n",
        "\n",
        "# Train data for 2016.11 ~ 2017.04\n",
        "train_sl5_3 = hD[(hD['Date']<='2017.04.30')& (hD['Date']>='2016.11.01')]\n",
        "\n",
        "# Train data for 2016.12 ~ 2017.05\n",
        "train_sl5_4 = hD[(hD['Date']<='2017.05.31')& (hD['Date']>='2016.12.01')]\n",
        "\n",
        "# Train data for 2017.01 ~ 2017.06\n",
        "train_sl5_5 = hD[(hD['Date']<='2017.06.30')& (hD['Date']>='2017.01.01')]\n",
        "\n",
        "# Train data for 2017.02 ~ 2017.07\n",
        "train_sl5_6 = hD[(hD['Date']<='2017.07.31')& (hD['Date']>='2017.02.01')]\n",
        "\n",
        "# Train data for 2017.03 ~ 2017.08\n",
        "train_sl5_7 = hD[(hD['Date']<='2017.08.31')& (hD['Date']>='2017.03.01')]\n",
        "\n",
        "# Train data for 2017.04 ~ 2017.09\n",
        "train_sl5_8 = hD[(hD['Date']<='2017.09.30')& (hD['Date']>='2017.04.01')]\n",
        "\n",
        "# Train data for 2017.05 ~ 2017.10\n",
        "train_sl5_9 = hD[(hD['Date']<='2017.10.31')& (hD['Date']>='2017.05.01')]\n",
        "\n",
        "# Train data for 2017.06 ~ 2017.11\n",
        "train_sl5_10 = hD[(hD['Date']<='2017.11.30')& (hD['Date']>='2017.06.01')]\n",
        "\n",
        "# Train data for 2017.07 ~ 2017.12\n",
        "train_sl5_11 = hD[(hD['Date']<='2017.12.31')& (hD['Date']>='2017.07.01')]"
      ],
      "execution_count": 170,
      "outputs": []
    },
    {
      "cell_type": "code",
      "metadata": {
        "id": "ttPNSlkIoq5u"
      },
      "source": [
        "# Split Data for sliding Method-6 (7 months for each train data set)\n",
        "\n",
        "# Train data for 2016.08 ~ 2017.02\n",
        "train_sl6_1 = hD[(hD['Date']<='2017.02.28')& (hD['Date']>='2016.08.01')]\n",
        "\n",
        "# Train data for 2016.09 ~ 2017.03\n",
        "train_sl6_2 = hD[(hD['Date']<='2017.03.31')& (hD['Date']>='2016.09.01')]\n",
        "\n",
        "# Train data for 2016.10 ~ 2017.04\n",
        "train_sl6_3 = hD[(hD['Date']<='2017.04.30')& (hD['Date']>='2016.10.01')]\n",
        "\n",
        "# Train data for 2016.11 ~ 2017.05\n",
        "train_sl6_4 = hD[(hD['Date']<='2017.05.31')& (hD['Date']>='2016.11.01')]\n",
        "\n",
        "# Train 6ata for 2016.12 ~ 2017.06\n",
        "train_sl6_5 = hD[(hD['Date']<='2017.06.30')& (hD['Date']>='2016.12.01')]\n",
        "\n",
        "# Train data for 2017.01 ~ 2017.07\n",
        "train_sl6_6 = hD[(hD['Date']<='2017.07.31')& (hD['Date']>='2017.01.01')]\n",
        "\n",
        "# Train data for 2017.02 ~ 2017.08\n",
        "train_sl6_7 = hD[(hD['Date']<='2017.08.31')& (hD['Date']>='2017.02.01')]\n",
        "\n",
        "# Train data for 2017.03 ~ 2017.09\n",
        "train_sl6_8 = hD[(hD['Date']<='2017.09.30')& (hD['Date']>='2017.03.01')]\n",
        "\n",
        "# Train data for 2017.04 ~ 2017.10\n",
        "train_sl6_9 = hD[(hD['Date']<='2017.10.31')& (hD['Date']>='2017.04.01')]\n",
        "\n",
        "# Train data for 2017.05 ~ 2017.11\n",
        "train_sl6_10 = hD[(hD['Date']<='2017.11.30')& (hD['Date']>='2017.05.01')]\n",
        "\n",
        "# Train data for 2017.06 ~ 2017.12\n",
        "train_sl6_11 = hD[(hD['Date']<='2017.12.31')& (hD['Date']>='2017.06.01')]"
      ],
      "execution_count": 171,
      "outputs": []
    },
    {
      "cell_type": "code",
      "metadata": {
        "id": "LtZCMoGyne64"
      },
      "source": [
        "# Test Data ( used in all methods.)\n",
        "\n",
        "# Test data for 2017.03 ~ 2017.04\n",
        "test_1 = hD[(hD['Date']<='2017.04.30')& (hD['Date']>='2017.03.01')]\n",
        "\n",
        "# Test data for 2017.04 ~ 2017.05\n",
        "test_2 = hD[(hD['Date']<='2017.05.31')& (hD['Date']>='2017.04.01')]\n",
        "\n",
        "# Test data for 2017.05 ~ 2017.06\n",
        "test_3 = hD[(hD['Date']<='2017.06.30')& (hD['Date']>='2017.05.01')]\n",
        "\n",
        "# Test data for 2017.06 ~ 2017.07\n",
        "test_4 = hD[(hD['Date']<='2017.07.31')& (hD['Date']>='2017.06.01')]\n",
        "\n",
        "# Test data for 2017.07 ~ 2017.08\n",
        "test_5 = hD[(hD['Date']<='2017.08.31')& (hD['Date']>='2017.07.01')]\n",
        "\n",
        "# Test data for 2017.08 ~ 2017.09\n",
        "test_6 = hD[(hD['Date']<='2017.09.30')& (hD['Date']>='2017.08.01')]\n",
        "\n",
        "# Test data for 2017.09 ~ 2017.10\n",
        "test_7 = hD[(hD['Date']<='2017.10.31')& (hD['Date']>='2017.09.01')]\n",
        "\n",
        "# Test data for 2017.10 ~ 2017.11\n",
        "test_8 = hD[(hD['Date']<='2017.11.30')& (hD['Date']>='2017.10.01')]\n",
        "\n",
        "# Test data for 2017.11 ~ 2017.12\n",
        "test_9 = hD[(hD['Date']<='2017.12.31')& (hD['Date']>='2017.11.01')]\n",
        "\n",
        "# Test data for 2017.12 ~ 2018.01\n",
        "test_10 = hD[(hD['Date']<='2018.01.31')& (hD['Date']>='2017.12.01')]\n",
        "\n",
        "# Test data for 2018.01 ~ 2018.02\n",
        "test_11 = hD[(hD['Date']<='2018.02.28')& (hD['Date']>='2018.01.01')]"
      ],
      "execution_count": 172,
      "outputs": []
    },
    {
      "cell_type": "code",
      "metadata": {
        "id": "ABTH1XoBFbDI"
      },
      "source": [
        "# drop Date column to do regression\n",
        "\n",
        "train_ex_1 = train_ex_1.drop(axis=1,columns='Date')\n",
        "train_ex_2 = train_ex_2.drop(axis=1,columns='Date')\n",
        "train_ex_3 = train_ex_3.drop(axis=1,columns='Date')\n",
        "train_ex_4 = train_ex_4.drop(axis=1,columns='Date')\n",
        "train_ex_5 = train_ex_5.drop(axis=1,columns='Date')\n",
        "train_ex_6 = train_ex_6.drop(axis=1,columns='Date')\n",
        "train_ex_7 = train_ex_7.drop(axis=1,columns='Date')\n",
        "train_ex_8 = train_ex_8.drop(axis=1,columns='Date')\n",
        "train_ex_9 = train_ex_9.drop(axis=1,columns='Date')\n",
        "train_ex_10 = train_ex_10.drop(axis=1,columns='Date')\n",
        "train_ex_11 = train_ex_11.drop(axis=1,columns='Date')\n",
        "\n",
        "train_sl1_1 = train_sl1_1.drop(axis=1,columns='Date')\n",
        "train_sl1_2 = train_sl1_2.drop(axis=1,columns='Date')\n",
        "train_sl1_3 = train_sl1_3.drop(axis=1,columns='Date')\n",
        "train_sl1_4 = train_sl1_4.drop(axis=1,columns='Date')\n",
        "train_sl1_5 = train_sl1_5.drop(axis=1,columns='Date')\n",
        "train_sl1_6 = train_sl1_6.drop(axis=1,columns='Date')\n",
        "train_sl1_7 = train_sl1_7.drop(axis=1,columns='Date')\n",
        "train_sl1_8 = train_sl1_8.drop(axis=1,columns='Date')\n",
        "train_sl1_9 = train_sl1_9.drop(axis=1,columns='Date')\n",
        "train_sl1_10 = train_sl1_10.drop(axis=1,columns='Date')\n",
        "train_sl1_11 = train_sl1_11.drop(axis=1,columns='Date')\n",
        "\n",
        "train_sl2_1 = train_sl2_1.drop(axis=1,columns='Date')\n",
        "train_sl2_2 = train_sl2_2.drop(axis=1,columns='Date')\n",
        "train_sl2_3 = train_sl2_3.drop(axis=1,columns='Date')\n",
        "train_sl2_4 = train_sl2_4.drop(axis=1,columns='Date')\n",
        "train_sl2_5 = train_sl2_5.drop(axis=1,columns='Date')\n",
        "train_sl2_6 = train_sl2_6.drop(axis=1,columns='Date')\n",
        "train_sl2_7 = train_sl2_7.drop(axis=1,columns='Date')\n",
        "train_sl2_8 = train_sl2_8.drop(axis=1,columns='Date')\n",
        "train_sl2_9 = train_sl2_9.drop(axis=1,columns='Date')\n",
        "train_sl2_10 = train_sl2_10.drop(axis=1,columns='Date')\n",
        "train_sl2_11 = train_sl2_11.drop(axis=1,columns='Date')\n",
        "\n",
        "train_sl3_1 = train_sl3_1.drop(axis=1,columns='Date')\n",
        "train_sl3_2 = train_sl3_2.drop(axis=1,columns='Date')\n",
        "train_sl3_3 = train_sl3_3.drop(axis=1,columns='Date')\n",
        "train_sl3_4 = train_sl3_4.drop(axis=1,columns='Date')\n",
        "train_sl3_5 = train_sl3_5.drop(axis=1,columns='Date')\n",
        "train_sl3_6 = train_sl3_6.drop(axis=1,columns='Date')\n",
        "train_sl3_7 = train_sl3_7.drop(axis=1,columns='Date')\n",
        "train_sl3_8 = train_sl3_8.drop(axis=1,columns='Date')\n",
        "train_sl3_9 = train_sl3_9.drop(axis=1,columns='Date')\n",
        "train_sl3_10 = train_sl3_10.drop(axis=1,columns='Date')\n",
        "train_sl3_11 = train_sl3_11.drop(axis=1,columns='Date')\n",
        "\n",
        "train_sl4_1 = train_sl4_1.drop(axis=1,columns='Date')\n",
        "train_sl4_2 = train_sl4_2.drop(axis=1,columns='Date')\n",
        "train_sl4_3 = train_sl4_3.drop(axis=1,columns='Date')\n",
        "train_sl4_4 = train_sl4_4.drop(axis=1,columns='Date')\n",
        "train_sl4_5 = train_sl4_5.drop(axis=1,columns='Date')\n",
        "train_sl4_6 = train_sl4_6.drop(axis=1,columns='Date')\n",
        "train_sl4_7 = train_sl4_7.drop(axis=1,columns='Date')\n",
        "train_sl4_8 = train_sl4_8.drop(axis=1,columns='Date')\n",
        "train_sl4_9 = train_sl4_9.drop(axis=1,columns='Date')\n",
        "train_sl4_10 = train_sl4_10.drop(axis=1,columns='Date')\n",
        "train_sl4_11 = train_sl4_11.drop(axis=1,columns='Date')\n",
        "\n",
        "train_sl5_1 = train_sl5_1.drop(axis=1,columns='Date')\n",
        "train_sl5_2 = train_sl5_2.drop(axis=1,columns='Date')\n",
        "train_sl5_3 = train_sl5_3.drop(axis=1,columns='Date')\n",
        "train_sl5_4 = train_sl5_4.drop(axis=1,columns='Date')\n",
        "train_sl5_5 = train_sl5_5.drop(axis=1,columns='Date')\n",
        "train_sl5_6 = train_sl5_6.drop(axis=1,columns='Date')\n",
        "train_sl5_7 = train_sl5_7.drop(axis=1,columns='Date')\n",
        "train_sl5_8 = train_sl5_8.drop(axis=1,columns='Date')\n",
        "train_sl5_9 = train_sl5_9.drop(axis=1,columns='Date')\n",
        "train_sl5_10 = train_sl5_10.drop(axis=1,columns='Date')\n",
        "train_sl5_11 = train_sl5_11.drop(axis=1,columns='Date')\n",
        "\n",
        "train_sl6_1 = train_sl6_1.drop(axis=1,columns='Date')\n",
        "train_sl6_2 = train_sl6_2.drop(axis=1,columns='Date')\n",
        "train_sl6_3 = train_sl6_3.drop(axis=1,columns='Date')\n",
        "train_sl6_4 = train_sl6_4.drop(axis=1,columns='Date')\n",
        "train_sl6_5 = train_sl6_5.drop(axis=1,columns='Date')\n",
        "train_sl6_6 = train_sl6_6.drop(axis=1,columns='Date')\n",
        "train_sl6_7 = train_sl6_7.drop(axis=1,columns='Date')\n",
        "train_sl6_8 = train_sl6_8.drop(axis=1,columns='Date')\n",
        "train_sl6_9 = train_sl6_9.drop(axis=1,columns='Date')\n",
        "train_sl6_10 = train_sl6_10.drop(axis=1,columns='Date')\n",
        "train_sl6_11 = train_sl6_11.drop(axis=1,columns='Date')\n",
        "\n",
        "test_1 = test_1.drop(axis=1,columns='Date')\n",
        "test_2 = test_2.drop(axis=1,columns='Date')\n",
        "test_3 = test_3.drop(axis=1,columns='Date')\n",
        "test_4 = test_4.drop(axis=1,columns='Date')\n",
        "test_5 = test_5.drop(axis=1,columns='Date')\n",
        "test_6 = test_6.drop(axis=1,columns='Date')\n",
        "test_7 = test_7.drop(axis=1,columns='Date')\n",
        "test_8 = test_8.drop(axis=1,columns='Date')\n",
        "test_9 = test_9.drop(axis=1,columns='Date')\n",
        "test_10 = test_10.drop(axis=1,columns='Date')\n",
        "test_11 = test_11.drop(axis=1,columns='Date')"
      ],
      "execution_count": 173,
      "outputs": []
    },
    {
      "cell_type": "code",
      "metadata": {
        "id": "x1YthvdBGObj"
      },
      "source": [
        "# Dividing into features and target\n",
        "\n",
        "target = 'Price'\n",
        "features = test_1.drop(columns=[target]).columns"
      ],
      "execution_count": 174,
      "outputs": []
    },
    {
      "cell_type": "code",
      "metadata": {
        "id": "mUOv3h4aCpVL"
      },
      "source": [
        "# Dividing Data for Expanding Method into feature and target\n",
        "\n",
        "\n",
        "X_train_ex_1 = train_ex_1[features]\n",
        "y_train_ex_1 = train_ex_1[target]\n",
        "X_train_ex_2 = train_ex_2[features]\n",
        "y_train_ex_2 = train_ex_2[target]\n",
        "X_train_ex_3 = train_ex_3[features]\n",
        "y_train_ex_3 = train_ex_3[target]\n",
        "X_train_ex_4 = train_ex_4[features]\n",
        "y_train_ex_4 = train_ex_4[target]\n",
        "X_train_ex_5 = train_ex_5[features]\n",
        "y_train_ex_5 = train_ex_5[target]\n",
        "X_train_ex_6 = train_ex_6[features]\n",
        "y_train_ex_6 = train_ex_6[target]\n",
        "X_train_ex_7 = train_ex_7[features]\n",
        "y_train_ex_7 = train_ex_7[target]\n",
        "X_train_ex_8 = train_ex_8[features]\n",
        "y_train_ex_8 = train_ex_8[target]\n",
        "X_train_ex_9 = train_ex_9[features]\n",
        "y_train_ex_9 = train_ex_9[target]\n",
        "X_train_ex_10 = train_ex_10[features]\n",
        "y_train_ex_10 = train_ex_10[target]\n",
        "X_train_ex_11 = train_ex_11[features]\n",
        "y_train_ex_11 = train_ex_11[target]"
      ],
      "execution_count": 175,
      "outputs": []
    },
    {
      "cell_type": "code",
      "metadata": {
        "id": "P-_1rq3E-px9"
      },
      "source": [
        "# Dividing Data for sliding Method-1 (2 months for each train data set) into feature and target\n",
        "\n",
        "\n",
        "X_train_sl1_1 = train_sl1_1[features]\n",
        "y_train_sl1_1 = train_sl1_1[target]\n",
        "X_train_sl1_2 = train_sl1_2[features]\n",
        "y_train_sl1_2 = train_sl1_2[target]\n",
        "X_train_sl1_3 = train_sl1_3[features]\n",
        "y_train_sl1_3 = train_sl1_3[target]\n",
        "X_train_sl1_4 = train_sl1_4[features]\n",
        "y_train_sl1_4 = train_sl1_4[target]\n",
        "X_train_sl1_5 = train_sl1_5[features]\n",
        "y_train_sl1_5 = train_sl1_5[target]\n",
        "X_train_sl1_6 = train_sl1_6[features]\n",
        "y_train_sl1_6 = train_sl1_6[target]\n",
        "X_train_sl1_7 = train_sl1_7[features]\n",
        "y_train_sl1_7 = train_sl1_7[target]\n",
        "X_train_sl1_8 = train_sl1_8[features]\n",
        "y_train_sl1_8 = train_sl1_8[target]\n",
        "X_train_sl1_9 = train_sl1_9[features]\n",
        "y_train_sl1_9 = train_sl1_9[target]\n",
        "X_train_sl1_10 = train_sl1_10[features]\n",
        "y_train_sl1_10 = train_sl1_10[target]\n",
        "X_train_sl1_11 = train_sl1_11[features]\n",
        "y_train_sl1_11 = train_sl1_11[target]"
      ],
      "execution_count": 176,
      "outputs": []
    },
    {
      "cell_type": "code",
      "metadata": {
        "id": "0vWsa2_H_hEy"
      },
      "source": [
        "# Dividing Data for sliding Method-2 (3 months for each train data set) into feature and target\n",
        "\n",
        "\n",
        "X_train_sl2_1 = train_sl2_1[features]\n",
        "y_train_sl2_1 = train_sl2_1[target]\n",
        "X_train_sl2_2 = train_sl2_2[features]\n",
        "y_train_sl2_2 = train_sl2_2[target]\n",
        "X_train_sl2_3 = train_sl2_3[features]\n",
        "y_train_sl2_3 = train_sl2_3[target]\n",
        "X_train_sl2_4 = train_sl2_4[features]\n",
        "y_train_sl2_4 = train_sl2_4[target]\n",
        "X_train_sl2_5 = train_sl2_5[features]\n",
        "y_train_sl2_5 = train_sl2_5[target]\n",
        "X_train_sl2_6 = train_sl2_6[features]\n",
        "y_train_sl2_6 = train_sl2_6[target]\n",
        "X_train_sl2_7 = train_sl2_7[features]\n",
        "y_train_sl2_7 = train_sl2_7[target]\n",
        "X_train_sl2_8 = train_sl2_8[features]\n",
        "y_train_sl2_8 = train_sl2_8[target]\n",
        "X_train_sl2_9 = train_sl2_9[features]\n",
        "y_train_sl2_9 = train_sl2_9[target]\n",
        "X_train_sl2_10 = train_sl2_10[features]\n",
        "y_train_sl2_10 = train_sl2_10[target]\n",
        "X_train_sl2_11 = train_sl2_11[features]\n",
        "y_train_sl2_11 = train_sl2_11[target]"
      ],
      "execution_count": 177,
      "outputs": []
    },
    {
      "cell_type": "code",
      "metadata": {
        "id": "PP0F97WfuAW-"
      },
      "source": [
        "# Dividing Data for sliding Method-3 (4 months for each train data set) into feature and target\n",
        "\n",
        "\n",
        "X_train_sl3_1 = train_sl3_1[features]\n",
        "y_train_sl3_1 = train_sl3_1[target]\n",
        "X_train_sl3_2 = train_sl3_2[features]\n",
        "y_train_sl3_2 = train_sl3_2[target]\n",
        "X_train_sl3_3 = train_sl3_3[features]\n",
        "y_train_sl3_3 = train_sl3_3[target]\n",
        "X_train_sl3_4 = train_sl3_4[features]\n",
        "y_train_sl3_4 = train_sl3_4[target]\n",
        "X_train_sl3_5 = train_sl3_5[features]\n",
        "y_train_sl3_5 = train_sl3_5[target]\n",
        "X_train_sl3_6 = train_sl3_6[features]\n",
        "y_train_sl3_6 = train_sl3_6[target]\n",
        "X_train_sl3_7 = train_sl3_7[features]\n",
        "y_train_sl3_7 = train_sl3_7[target]\n",
        "X_train_sl3_8 = train_sl3_8[features]\n",
        "y_train_sl3_8 = train_sl3_8[target]\n",
        "X_train_sl3_9 = train_sl3_9[features]\n",
        "y_train_sl3_9 = train_sl3_9[target]\n",
        "X_train_sl3_10 = train_sl3_10[features]\n",
        "y_train_sl3_10 = train_sl3_10[target]\n",
        "X_train_sl3_11 = train_sl3_11[features]\n",
        "y_train_sl3_11 = train_sl3_11[target]"
      ],
      "execution_count": 178,
      "outputs": []
    },
    {
      "cell_type": "code",
      "metadata": {
        "id": "6AOOqLs-uBAW"
      },
      "source": [
        "# Dividing Data for sliding Method-4 (5 months for each train data set) into feature and target\n",
        "\n",
        "\n",
        "X_train_sl4_1 = train_sl4_1[features]\n",
        "y_train_sl4_1 = train_sl4_1[target]\n",
        "X_train_sl4_2 = train_sl4_2[features]\n",
        "y_train_sl4_2 = train_sl4_2[target]\n",
        "X_train_sl4_3 = train_sl4_3[features]\n",
        "y_train_sl4_3 = train_sl4_3[target]\n",
        "X_train_sl4_4 = train_sl4_4[features]\n",
        "y_train_sl4_4 = train_sl4_4[target]\n",
        "X_train_sl4_5 = train_sl4_5[features]\n",
        "y_train_sl4_5 = train_sl4_5[target]\n",
        "X_train_sl4_6 = train_sl4_6[features]\n",
        "y_train_sl4_6 = train_sl4_6[target]\n",
        "X_train_sl4_7 = train_sl4_7[features]\n",
        "y_train_sl4_7 = train_sl4_7[target]\n",
        "X_train_sl4_8 = train_sl4_8[features]\n",
        "y_train_sl4_8 = train_sl4_8[target]\n",
        "X_train_sl4_9 = train_sl4_9[features]\n",
        "y_train_sl4_9 = train_sl4_9[target]\n",
        "X_train_sl4_10 = train_sl4_10[features]\n",
        "y_train_sl4_10 = train_sl4_10[target]\n",
        "X_train_sl4_11 = train_sl4_11[features]\n",
        "y_train_sl4_11 = train_sl4_11[target]"
      ],
      "execution_count": 179,
      "outputs": []
    },
    {
      "cell_type": "code",
      "metadata": {
        "id": "CXGFYQIWuBU7"
      },
      "source": [
        "# Dividing Data for sliding Method-5 (6 months for each train data set) into feature and target\n",
        "\n",
        "\n",
        "X_train_sl5_1 = train_sl5_1[features]\n",
        "y_train_sl5_1 = train_sl5_1[target]\n",
        "X_train_sl5_2 = train_sl5_2[features]\n",
        "y_train_sl5_2 = train_sl5_2[target]\n",
        "X_train_sl5_3 = train_sl5_3[features]\n",
        "y_train_sl5_3 = train_sl5_3[target]\n",
        "X_train_sl5_4 = train_sl5_4[features]\n",
        "y_train_sl5_4 = train_sl5_4[target]\n",
        "X_train_sl5_5 = train_sl5_5[features]\n",
        "y_train_sl5_5 = train_sl5_5[target]\n",
        "X_train_sl5_6 = train_sl5_6[features]\n",
        "y_train_sl5_6 = train_sl5_6[target]\n",
        "X_train_sl5_7 = train_sl5_7[features]\n",
        "y_train_sl5_7 = train_sl5_7[target]\n",
        "X_train_sl5_8 = train_sl5_8[features]\n",
        "y_train_sl5_8 = train_sl5_8[target]\n",
        "X_train_sl5_9 = train_sl5_9[features]\n",
        "y_train_sl5_9 = train_sl5_9[target]\n",
        "X_train_sl5_10 = train_sl5_10[features]\n",
        "y_train_sl5_10 = train_sl5_10[target]\n",
        "X_train_sl5_11 = train_sl5_11[features]\n",
        "y_train_sl5_11 = train_sl5_11[target]"
      ],
      "execution_count": 180,
      "outputs": []
    },
    {
      "cell_type": "code",
      "metadata": {
        "id": "AK9AEDEOuBjE"
      },
      "source": [
        "# Dividing Data for sliding Method-6 (7 months for each train data set) into feature and target\n",
        "\n",
        "\n",
        "X_train_sl6_1 = train_sl6_1[features]\n",
        "y_train_sl6_1 = train_sl6_1[target]\n",
        "X_train_sl6_2 = train_sl6_2[features]\n",
        "y_train_sl6_2 = train_sl6_2[target]\n",
        "X_train_sl6_3 = train_sl6_3[features]\n",
        "y_train_sl6_3 = train_sl6_3[target]\n",
        "X_train_sl6_4 = train_sl6_4[features]\n",
        "y_train_sl6_4 = train_sl6_4[target]\n",
        "X_train_sl6_5 = train_sl6_5[features]\n",
        "y_train_sl6_5 = train_sl6_5[target]\n",
        "X_train_sl6_6 = train_sl6_6[features]\n",
        "y_train_sl6_6 = train_sl6_6[target]\n",
        "X_train_sl6_7 = train_sl6_7[features]\n",
        "y_train_sl6_7 = train_sl6_7[target]\n",
        "X_train_sl6_8 = train_sl6_8[features]\n",
        "y_train_sl6_8 = train_sl6_8[target]\n",
        "X_train_sl6_9 = train_sl6_9[features]\n",
        "y_train_sl6_9 = train_sl6_9[target]\n",
        "X_train_sl6_10 = train_sl6_10[features]\n",
        "y_train_sl6_10 = train_sl6_10[target]\n",
        "X_train_sl6_11 = train_sl6_11[features]\n",
        "y_train_sl6_11 = train_sl6_11[target]"
      ],
      "execution_count": 181,
      "outputs": []
    },
    {
      "cell_type": "code",
      "metadata": {
        "id": "D28jg08SARbi"
      },
      "source": [
        "# Dividing Test data into feature and target\n",
        "\n",
        "\n",
        "X_test_1 = test_1[features]\n",
        "y_test_1 = test_1[target]\n",
        "X_test_2 = test_2[features]\n",
        "y_test_2 = test_2[target]\n",
        "X_test_3 = test_3[features]\n",
        "y_test_3 = test_3[target]\n",
        "X_test_4 = test_4[features]\n",
        "y_test_4 = test_4[target]\n",
        "X_test_5 = test_5[features]\n",
        "y_test_5 = test_5[target]\n",
        "X_test_6 = test_6[features]\n",
        "y_test_6 = test_6[target]\n",
        "X_test_7 = test_7[features]\n",
        "y_test_7 = test_7[target]\n",
        "X_test_8 = test_8[features]\n",
        "y_test_8 = test_8[target]\n",
        "X_test_9 = test_9[features]\n",
        "y_test_9 = test_9[target]\n",
        "X_test_10 = test_10[features]\n",
        "y_test_10 = test_10[target]\n",
        "X_test_11 = test_11[features]\n",
        "y_test_11 = test_11[target]"
      ],
      "execution_count": 182,
      "outputs": []
    },
    {
      "cell_type": "markdown",
      "metadata": {
        "id": "5D_m343LwHUi"
      },
      "source": [
        "##**3.2 Fit Model**\n",
        "\n",
        "\n",
        "**To Research Question which is \"  How does machine learning regression models performance compare to classical linear and parametric regression models such as Ordinary Least Squares?\", I will use OLS(Linear regression model) and learning regression models( Random forest model)**"
      ]
    },
    {
      "cell_type": "markdown",
      "metadata": {
        "id": "vF9cHFlhDXza"
      },
      "source": [
        "###**3.2.1 Expanding Method**"
      ]
    },
    {
      "cell_type": "markdown",
      "metadata": {
        "id": "JvigFyDW5Sku"
      },
      "source": [
        "**This method will set the first year as the train data and the next month as the test data. And we will increase the train data by month to the last to the third month.**"
      ]
    },
    {
      "cell_type": "code",
      "metadata": {
        "id": "BHUxlB2dvH46",
        "colab": {
          "base_uri": "https://localhost:8080/"
        },
        "outputId": "5452c7d9-d103-490d-edcc-062f0702f2da"
      },
      "source": [
        "# LinearRegression Model for Expanding method\n",
        "\n",
        "\n",
        "# fit regression for Train data for 2016.03 ~ 2017.02\n",
        "lin_reg_ex_1 = LinearRegression(n_jobs=-1)\n",
        "lin_reg_ex_1.fit(X_train_ex_1, y_train_ex_1)\n",
        "\n",
        "# fit regression for Train data for 2016.03 ~ 2017.03\n",
        "lin_reg_ex_2 = LinearRegression(n_jobs=-1)\n",
        "lin_reg_ex_2.fit(X_train_ex_2, y_train_ex_2)\n",
        "\n",
        "# fit regression for Train data for 2016.03 ~ 2017.04\n",
        "lin_reg_ex_3 = LinearRegression(n_jobs=-1)\n",
        "lin_reg_ex_3.fit(X_train_ex_3, y_train_ex_3)\n",
        "\n",
        "# fit regression for Train data for 2016.03 ~ 2017.05\n",
        "lin_reg_ex_4 = LinearRegression(n_jobs=-1)\n",
        "lin_reg_ex_4.fit(X_train_ex_4, y_train_ex_4)\n",
        "\n",
        "# fit regression for Train data for 2016.03 ~ 2017.06\n",
        "lin_reg_ex_5 = LinearRegression(n_jobs=-1)\n",
        "lin_reg_ex_5.fit(X_train_ex_5, y_train_ex_5)\n",
        "\n",
        "# fit regression for Train data for 2016.03 ~ 2017.07\n",
        "lin_reg_ex_6 = LinearRegression(n_jobs=-1)\n",
        "lin_reg_ex_6.fit(X_train_ex_6, y_train_ex_6)\n",
        "\n",
        "# fit regression for Train data for 2016.03 ~ 2017.08\n",
        "lin_reg_ex_7 = LinearRegression(n_jobs=-1)\n",
        "lin_reg_ex_7.fit(X_train_ex_7, y_train_ex_7)\n",
        "\n",
        "# fit regression for Train data for 2016.03 ~ 2017.09\n",
        "lin_reg_ex_8 = LinearRegression(n_jobs=-1)\n",
        "lin_reg_ex_8.fit(X_train_ex_8, y_train_ex_8)\n",
        "\n",
        "# fit regression for Train data for 2016.03 ~ 2017.10\n",
        "lin_reg_ex_9 = LinearRegression(n_jobs=-1)\n",
        "lin_reg_ex_9.fit(X_train_ex_9, y_train_ex_9)\n",
        "\n",
        "# fit regression for Train data for 2016.03 ~ 2017.11\n",
        "lin_reg_ex_10 = LinearRegression(n_jobs=-1)\n",
        "lin_reg_ex_10.fit(X_train_ex_10, y_train_ex_10)\n",
        "\n",
        "# fit regression for Train data for 2016.03 ~ 2017.12\n",
        "lin_reg_ex_11 = LinearRegression(n_jobs=-1)\n",
        "lin_reg_ex_11.fit(X_train_ex_11, y_train_ex_11)"
      ],
      "execution_count": 183,
      "outputs": [
        {
          "output_type": "execute_result",
          "data": {
            "text/plain": [
              "LinearRegression(copy_X=True, fit_intercept=True, n_jobs=-1, normalize=False)"
            ]
          },
          "metadata": {
            "tags": []
          },
          "execution_count": 183
        }
      ]
    },
    {
      "cell_type": "code",
      "metadata": {
        "id": "457WyQLILI1I",
        "colab": {
          "base_uri": "https://localhost:8080/"
        },
        "outputId": "dfe26505-4376-41d6-b087-1a22f3e416ee"
      },
      "source": [
        "# RandomForest Model for Expanding method\n",
        "\n",
        "\n",
        "# fit random forest for Train data for 2016.03 ~ 2017.02\n",
        "forest_ex_1 = RandomForestRegressor(n_jobs=-1)\n",
        "forest_ex_1.fit(X_train_ex_1, y_train_ex_1)\n",
        "\n",
        "# fit random forest for Train data for 2016.03 ~ 2017.03\n",
        "forest_ex_2 = RandomForestRegressor(n_jobs=-1)\n",
        "forest_ex_2.fit(X_train_ex_2, y_train_ex_2)\n",
        "\n",
        "# fit random forest for Train data for 2016.03 ~ 2017.04\n",
        "forest_ex_3 = RandomForestRegressor(n_jobs=-1)\n",
        "forest_ex_3.fit(X_train_ex_3, y_train_ex_3)\n",
        "\n",
        "# fit random forest for Train data for 2016.03 ~ 2017.05\n",
        "forest_ex_4 = RandomForestRegressor(n_jobs=-1)\n",
        "forest_ex_4.fit(X_train_ex_4, y_train_ex_4)\n",
        "\n",
        "# fit random forest for Train data for 2016.03 ~ 2017.06\n",
        "forest_ex_5 = RandomForestRegressor(n_jobs=-1)\n",
        "forest_ex_5.fit(X_train_ex_5, y_train_ex_5)\n",
        "\n",
        "# fit random forest for Train data for 2016.03 ~ 2017.07\n",
        "forest_ex_6 = RandomForestRegressor(n_jobs=-1)\n",
        "forest_ex_6.fit(X_train_ex_6, y_train_ex_6)\n",
        "\n",
        "# fit random forest for Train data for 2016.03 ~ 2017.08\n",
        "forest_ex_7 = RandomForestRegressor(n_jobs=-1)\n",
        "forest_ex_7.fit(X_train_ex_7, y_train_ex_7)\n",
        "\n",
        "# fit random forest for Train data for 2016.03 ~ 2017.09\n",
        "forest_ex_8 = RandomForestRegressor(n_jobs=-1)\n",
        "forest_ex_8.fit(X_train_ex_8, y_train_ex_8)\n",
        "\n",
        "# fit random forest for Train data for 2016.03 ~ 2017.10\n",
        "forest_ex_9 = RandomForestRegressor(n_jobs=-1)\n",
        "forest_ex_9.fit(X_train_ex_9, y_train_ex_9)\n",
        "\n",
        "# fit random forest for Train data for 2016.03 ~ 2017.11\n",
        "forest_ex_10 = RandomForestRegressor(n_jobs=-1)\n",
        "forest_ex_10.fit(X_train_ex_10, y_train_ex_10)\n",
        "\n",
        "# fit random forest for Train data for 2016.03 ~ 2017.12\n",
        "forest_ex_11 = RandomForestRegressor(n_jobs=-1)\n",
        "forest_ex_11.fit(X_train_ex_11, y_train_ex_11)"
      ],
      "execution_count": 184,
      "outputs": [
        {
          "output_type": "execute_result",
          "data": {
            "text/plain": [
              "RandomForestRegressor(bootstrap=True, ccp_alpha=0.0, criterion='mse',\n",
              "                      max_depth=None, max_features='auto', max_leaf_nodes=None,\n",
              "                      max_samples=None, min_impurity_decrease=0.0,\n",
              "                      min_impurity_split=None, min_samples_leaf=1,\n",
              "                      min_samples_split=2, min_weight_fraction_leaf=0.0,\n",
              "                      n_estimators=100, n_jobs=-1, oob_score=False,\n",
              "                      random_state=None, verbose=0, warm_start=False)"
            ]
          },
          "metadata": {
            "tags": []
          },
          "execution_count": 184
        }
      ]
    },
    {
      "cell_type": "markdown",
      "metadata": {
        "id": "XCi3J8YVDiB_"
      },
      "source": [
        "###**3.2.2 Sliding Method**"
      ]
    },
    {
      "cell_type": "markdown",
      "metadata": {
        "id": "iRnYaR4YHEnN"
      },
      "source": [
        "**This method will create six models with different durations of the train data, two months to seven months each.**"
      ]
    },
    {
      "cell_type": "code",
      "metadata": {
        "colab": {
          "base_uri": "https://localhost:8080/"
        },
        "id": "F27NY6UUHwkW",
        "outputId": "2e4ea4b4-bd7e-418c-d113-79f9a920aa96"
      },
      "source": [
        "# LinearRegression Model for Sliding method-1 (2 months for each train data set)\n",
        "\n",
        "# fit regression for Train data for 2017.01 ~ 2017.02\n",
        "lin_reg_sl1_1 = LinearRegression(n_jobs=-1)\n",
        "lin_reg_sl1_1.fit(X_train_sl1_1, y_train_sl1_1)\n",
        "\n",
        "# fit regression for Train data for 2017.02 ~ 2017.03\n",
        "lin_reg_sl1_2 = LinearRegression(n_jobs=-1)\n",
        "lin_reg_sl1_2.fit(X_train_sl1_2, y_train_sl1_2)\n",
        "\n",
        "# fit regression for Train data for 2017.03 ~ 2017.04\n",
        "lin_reg_sl1_3 = LinearRegression(n_jobs=-1)\n",
        "lin_reg_sl1_3.fit(X_train_sl1_3, y_train_sl1_3)\n",
        "\n",
        "# fit regression for Train data for 2017.04 ~ 2017.05\n",
        "lin_reg_sl1_4 = LinearRegression(n_jobs=-1)\n",
        "lin_reg_sl1_4.fit(X_train_sl1_4, y_train_sl1_4)\n",
        "\n",
        "# fit regression for Train data for 2017.05 ~ 2017.06\n",
        "lin_reg_sl1_5 = LinearRegression(n_jobs=-1)\n",
        "lin_reg_sl1_5.fit(X_train_sl1_5, y_train_sl1_5)\n",
        "\n",
        "# fit regression for Train data for 2017.06 ~ 2017.07\n",
        "lin_reg_sl1_6 = LinearRegression(n_jobs=-1)\n",
        "lin_reg_sl1_6.fit(X_train_sl1_6, y_train_sl1_6)\n",
        "\n",
        "# fit regression for Train data for 2017.07 ~ 2017.08\n",
        "lin_reg_sl1_7 = LinearRegression(n_jobs=-1)\n",
        "lin_reg_sl1_7.fit(X_train_sl1_7, y_train_sl1_7)\n",
        "\n",
        "# fit regression for Train data for 2017.08 ~ 2017.09\n",
        "lin_reg_sl1_8 = LinearRegression(n_jobs=-1)\n",
        "lin_reg_sl1_8.fit(X_train_sl1_8, y_train_sl1_8)\n",
        "\n",
        "# fit regression for Train data for 2017.09 ~ 2017.10\n",
        "lin_reg_sl1_9 = LinearRegression(n_jobs=-1)\n",
        "lin_reg_sl1_9.fit(X_train_sl1_9, y_train_sl1_9)\n",
        "\n",
        "# fit regression for Train data for 2017.10 ~ 2017.11\n",
        "lin_reg_sl1_10 = LinearRegression(n_jobs=-1)\n",
        "lin_reg_sl1_10.fit(X_train_sl1_10, y_train_sl1_10)\n",
        "\n",
        "# fit regression for Train data for 2017.11 ~ 2017.12\n",
        "lin_reg_sl1_11 = LinearRegression(n_jobs=-1)\n",
        "lin_reg_sl1_11.fit(X_train_sl1_11, y_train_sl1_11)"
      ],
      "execution_count": 185,
      "outputs": [
        {
          "output_type": "execute_result",
          "data": {
            "text/plain": [
              "LinearRegression(copy_X=True, fit_intercept=True, n_jobs=-1, normalize=False)"
            ]
          },
          "metadata": {
            "tags": []
          },
          "execution_count": 185
        }
      ]
    },
    {
      "cell_type": "code",
      "metadata": {
        "colab": {
          "base_uri": "https://localhost:8080/"
        },
        "id": "4CZ6v7viH6uA",
        "outputId": "69939d09-2b70-4bd2-8450-7f313cb73268"
      },
      "source": [
        "# RandomForest Model for Sliding method-1 (2 months for each train data set)\n",
        "\n",
        "\n",
        "# fit random forest for Train data for 2017.01 ~ 2017.02\n",
        "forest_sl1_1 = RandomForestRegressor(n_jobs=-1)\n",
        "forest_sl1_1.fit(X_train_sl1_1, y_train_sl1_1)\n",
        "\n",
        "# fit random forest for Train data for 2017.02 ~ 2017.03\n",
        "forest_sl1_2 = RandomForestRegressor(n_jobs=-1)\n",
        "forest_sl1_2.fit(X_train_sl1_2, y_train_sl1_2)\n",
        "\n",
        "# fit random forest for Train data for 2017.03 ~ 2017.04\n",
        "forest_sl1_3 = RandomForestRegressor(n_jobs=-1)\n",
        "forest_sl1_3.fit(X_train_sl1_3, y_train_sl1_3)\n",
        "\n",
        "# fit random forest for Train data for 2017.04 ~ 2017.05\n",
        "forest_sl1_4 = RandomForestRegressor(n_jobs=-1)\n",
        "forest_sl1_4.fit(X_train_sl1_4, y_train_sl1_4)\n",
        "\n",
        "# fit random forest for Train data for 2017.05 ~ 2017.06\n",
        "forest_sl1_5 = RandomForestRegressor(n_jobs=-1)\n",
        "forest_sl1_5.fit(X_train_sl1_5, y_train_sl1_5)\n",
        "\n",
        "# fit random forest for Train data for 2017.06 ~ 2017.07\n",
        "forest_sl1_6 = RandomForestRegressor(n_jobs=-1)\n",
        "forest_sl1_6.fit(X_train_sl1_6, y_train_sl1_6)\n",
        "\n",
        "# fit random forest for Train data for 2017.07 ~ 2017.08\n",
        "forest_sl1_7 = RandomForestRegressor(n_jobs=-1)\n",
        "forest_sl1_7.fit(X_train_sl1_7, y_train_sl1_7)\n",
        "\n",
        "# fit random forest for Train data for 2017.08 ~ 2017.09\n",
        "forest_sl1_8 = RandomForestRegressor(n_jobs=-1)\n",
        "forest_sl1_8.fit(X_train_sl1_8, y_train_sl1_8)\n",
        "\n",
        "# fit random forest for Train data for 2017.09 ~ 2017.10\n",
        "forest_sl1_9 = RandomForestRegressor(n_jobs=-1)\n",
        "forest_sl1_9.fit(X_train_sl1_9, y_train_sl1_9)\n",
        "\n",
        "# fit random forest for Train data for 2017.10 ~ 2017.11\n",
        "forest_sl1_10 = RandomForestRegressor(n_jobs=-1)\n",
        "forest_sl1_10.fit(X_train_sl1_10, y_train_sl1_10)\n",
        "\n",
        "# fit random forest for Train data for 2017.11 ~ 2017.12\n",
        "forest_sl1_11 = RandomForestRegressor(n_jobs=-1)\n",
        "forest_sl1_11.fit(X_train_sl1_11, y_train_sl1_11)"
      ],
      "execution_count": 186,
      "outputs": [
        {
          "output_type": "execute_result",
          "data": {
            "text/plain": [
              "RandomForestRegressor(bootstrap=True, ccp_alpha=0.0, criterion='mse',\n",
              "                      max_depth=None, max_features='auto', max_leaf_nodes=None,\n",
              "                      max_samples=None, min_impurity_decrease=0.0,\n",
              "                      min_impurity_split=None, min_samples_leaf=1,\n",
              "                      min_samples_split=2, min_weight_fraction_leaf=0.0,\n",
              "                      n_estimators=100, n_jobs=-1, oob_score=False,\n",
              "                      random_state=None, verbose=0, warm_start=False)"
            ]
          },
          "metadata": {
            "tags": []
          },
          "execution_count": 186
        }
      ]
    },
    {
      "cell_type": "code",
      "metadata": {
        "colab": {
          "base_uri": "https://localhost:8080/"
        },
        "id": "83h9tgINH7tO",
        "outputId": "17e43c64-fb4f-4999-af24-4dc95fe1c383"
      },
      "source": [
        "# LinearRegression Model for Sliding method-2 (3 months for each train data)\n",
        "\n",
        "# fit regression for Train data for 2016.12 ~ 2017.02\n",
        "lin_reg_sl2_1 = LinearRegression(n_jobs=-1)\n",
        "lin_reg_sl2_1.fit(X_train_sl2_1, y_train_sl2_1)\n",
        "\n",
        "# fit regression for Train data for 2017.01 ~ 2017.03\n",
        "lin_reg_sl2_2 = LinearRegression(n_jobs=-1)\n",
        "lin_reg_sl2_2.fit(X_train_sl2_2, y_train_sl2_2)\n",
        "\n",
        "# fit regression for Train data for 2017.02 ~ 2017.04\n",
        "lin_reg_sl2_3 = LinearRegression(n_jobs=-1)\n",
        "lin_reg_sl2_3.fit(X_train_sl2_3, y_train_sl2_3)\n",
        "\n",
        "# fit regression for Train data for 2017.03 ~ 2017.05\n",
        "lin_reg_sl2_4 = LinearRegression(n_jobs=-1)\n",
        "lin_reg_sl2_4.fit(X_train_sl2_4, y_train_sl2_4)\n",
        "\n",
        "# fit regression for Train data for 2017.04 ~ 2017.06\n",
        "lin_reg_sl2_5 = LinearRegression(n_jobs=-1)\n",
        "lin_reg_sl2_5.fit(X_train_sl2_5, y_train_sl2_5)\n",
        "\n",
        "# fit regression for Train data for 2017.05 ~ 2017.07\n",
        "lin_reg_sl2_6 = LinearRegression(n_jobs=-1)\n",
        "lin_reg_sl2_6.fit(X_train_sl2_6, y_train_sl2_6)\n",
        "\n",
        "# fit regression for Train data for 2017.06 ~ 2017.08\n",
        "lin_reg_sl2_7 = LinearRegression(n_jobs=-1)\n",
        "lin_reg_sl2_7.fit(X_train_sl2_7, y_train_sl2_7)\n",
        "\n",
        "# fit regression for Train data for 2017.07 ~ 2017.09\n",
        "lin_reg_sl2_8 = LinearRegression(n_jobs=-1)\n",
        "lin_reg_sl2_8.fit(X_train_sl2_8, y_train_sl2_8)\n",
        "\n",
        "# fit regression for Train data for 2017.08 ~ 2017.10\n",
        "lin_reg_sl2_9 = LinearRegression(n_jobs=-1)\n",
        "lin_reg_sl2_9.fit(X_train_sl2_9, y_train_sl2_9)\n",
        "\n",
        "# fit regression for Train data for 2017.09 ~ 2017.11\n",
        "lin_reg_sl2_10 = LinearRegression(n_jobs=-1)\n",
        "lin_reg_sl2_10.fit(X_train_sl2_10, y_train_sl2_10)\n",
        "\n",
        "# fit regression for Train data for 2017.10 ~ 2017.12\n",
        "lin_reg_sl2_11 = LinearRegression(n_jobs=-1)\n",
        "lin_reg_sl2_11.fit(X_train_sl2_11, y_train_sl2_11)"
      ],
      "execution_count": 187,
      "outputs": [
        {
          "output_type": "execute_result",
          "data": {
            "text/plain": [
              "LinearRegression(copy_X=True, fit_intercept=True, n_jobs=-1, normalize=False)"
            ]
          },
          "metadata": {
            "tags": []
          },
          "execution_count": 187
        }
      ]
    },
    {
      "cell_type": "code",
      "metadata": {
        "colab": {
          "base_uri": "https://localhost:8080/"
        },
        "id": "t84z_1GiH7-R",
        "outputId": "197ca945-3057-40c2-bc96-999d4afe2d77"
      },
      "source": [
        "# RandomForest Model for Sliding method-2 (3 months for each train data)\n",
        "\n",
        "\n",
        "# fit random forest for Train data for 2016.12 ~ 2017.02\n",
        "forest_sl2_1 = RandomForestRegressor(n_jobs=-1)\n",
        "forest_sl2_1.fit(X_train_sl2_1, y_train_sl2_1)\n",
        "\n",
        "# fit random forest for Train data for 2017.01 ~ 2017.03\n",
        "forest_sl2_2 = RandomForestRegressor(n_jobs=-1)\n",
        "forest_sl2_2.fit(X_train_sl2_2, y_train_sl2_2)\n",
        "\n",
        "# fit random forest for Train data for 2017.02 ~ 2017.04\n",
        "forest_sl2_3 = RandomForestRegressor(n_jobs=-1)\n",
        "forest_sl2_3.fit(X_train_sl2_3, y_train_sl2_3)\n",
        "\n",
        "# fit random forest for Train data for 2017.03 ~ 2017.05\n",
        "forest_sl2_4 = RandomForestRegressor(n_jobs=-1)\n",
        "forest_sl2_4.fit(X_train_sl2_4, y_train_sl2_4)\n",
        "\n",
        "# fit random forest for Train data for 2017.04 ~ 2017.06\n",
        "forest_sl2_5 = RandomForestRegressor(n_jobs=-1)\n",
        "forest_sl2_5.fit(X_train_sl2_5, y_train_sl2_5)\n",
        "\n",
        "# fit random forest for Train data for 2017.05 ~ 2017.07\n",
        "forest_sl2_6 = RandomForestRegressor(n_jobs=-1)\n",
        "forest_sl2_6.fit(X_train_sl2_6, y_train_sl2_6)\n",
        "\n",
        "# fit random forest for Train data for 2017.06 ~ 2017.08\n",
        "forest_sl2_7 = RandomForestRegressor(n_jobs=-1)\n",
        "forest_sl2_7.fit(X_train_sl2_7, y_train_sl2_7)\n",
        "\n",
        "# fit random forest for Train data for 2017.07 ~ 2017.09\n",
        "forest_sl2_8 = RandomForestRegressor(n_jobs=-1)\n",
        "forest_sl2_8.fit(X_train_sl2_8, y_train_sl2_8)\n",
        "\n",
        "# fit random forest for Train data for 2017.08 ~ 2017.10\n",
        "forest_sl2_9 = RandomForestRegressor(n_jobs=-1)\n",
        "forest_sl2_9.fit(X_train_sl2_9, y_train_sl2_9)\n",
        "\n",
        "# fit random forest for Train data for 2017.09 ~ 2017.11\n",
        "forest_sl2_10 = RandomForestRegressor(n_jobs=-1)\n",
        "forest_sl2_10.fit(X_train_sl2_10, y_train_sl2_10)\n",
        "\n",
        "# fit random forest for Train data for 2017.10 ~ 2017.12\n",
        "forest_sl2_11 = RandomForestRegressor(n_jobs=-1)\n",
        "forest_sl2_11.fit(X_train_sl2_11, y_train_sl2_11)"
      ],
      "execution_count": 188,
      "outputs": [
        {
          "output_type": "execute_result",
          "data": {
            "text/plain": [
              "RandomForestRegressor(bootstrap=True, ccp_alpha=0.0, criterion='mse',\n",
              "                      max_depth=None, max_features='auto', max_leaf_nodes=None,\n",
              "                      max_samples=None, min_impurity_decrease=0.0,\n",
              "                      min_impurity_split=None, min_samples_leaf=1,\n",
              "                      min_samples_split=2, min_weight_fraction_leaf=0.0,\n",
              "                      n_estimators=100, n_jobs=-1, oob_score=False,\n",
              "                      random_state=None, verbose=0, warm_start=False)"
            ]
          },
          "metadata": {
            "tags": []
          },
          "execution_count": 188
        }
      ]
    },
    {
      "cell_type": "code",
      "metadata": {
        "colab": {
          "base_uri": "https://localhost:8080/"
        },
        "id": "g5ME49FyvOgz",
        "outputId": "7154969d-a3b0-4d20-c07a-a4d84b77cf9a"
      },
      "source": [
        "# LinearRegression Model for Sliding method-3 (4 months for each train data)\n",
        "\n",
        "# fit regression for Train data for 2016.11 ~ 2017.02\n",
        "lin_reg_sl3_1 = LinearRegression(n_jobs=-1)\n",
        "lin_reg_sl3_1.fit(X_train_sl3_1, y_train_sl3_1)\n",
        "\n",
        "# fit regression for Train data for 2016.12 ~ 2017.03\n",
        "lin_reg_sl3_2 = LinearRegression(n_jobs=-1)\n",
        "lin_reg_sl3_2.fit(X_train_sl3_2, y_train_sl3_2)\n",
        "\n",
        "# fit regression for Train data for 2017.01 ~ 2017.04\n",
        "lin_reg_sl3_3 = LinearRegression(n_jobs=-1)\n",
        "lin_reg_sl3_3.fit(X_train_sl3_3, y_train_sl3_3)\n",
        "\n",
        "# fit regression for Train data for 2017.02 ~ 2017.05\n",
        "lin_reg_sl3_4 = LinearRegression(n_jobs=-1)\n",
        "lin_reg_sl3_4.fit(X_train_sl3_4, y_train_sl3_4)\n",
        "\n",
        "# fit regression for Train data for 2017.03 ~ 2017.06\n",
        "lin_reg_sl3_5 = LinearRegression(n_jobs=-1)\n",
        "lin_reg_sl3_5.fit(X_train_sl3_5, y_train_sl3_5)\n",
        "\n",
        "# fit regression for Train data for 2017.04 ~ 2017.07\n",
        "lin_reg_sl3_6 = LinearRegression(n_jobs=-1)\n",
        "lin_reg_sl3_6.fit(X_train_sl3_6, y_train_sl3_6)\n",
        "\n",
        "# fit regression for Train data for 2017.05 ~ 2017.08\n",
        "lin_reg_sl3_7 = LinearRegression(n_jobs=-1)\n",
        "lin_reg_sl3_7.fit(X_train_sl3_7, y_train_sl3_7)\n",
        "\n",
        "# fit regression for Train data for 2017.06 ~ 2017.09\n",
        "lin_reg_sl3_8 = LinearRegression(n_jobs=-1)\n",
        "lin_reg_sl3_8.fit(X_train_sl3_8, y_train_sl3_8)\n",
        "\n",
        "# fit regression for Train data for 2017.07 ~ 2017.10\n",
        "lin_reg_sl3_9 = LinearRegression(n_jobs=-1)\n",
        "lin_reg_sl3_9.fit(X_train_sl3_9, y_train_sl3_9)\n",
        "\n",
        "# fit regression for Train data for 2017.08 ~ 2017.11\n",
        "lin_reg_sl3_10 = LinearRegression(n_jobs=-1)\n",
        "lin_reg_sl3_10.fit(X_train_sl3_10, y_train_sl3_10)\n",
        "\n",
        "# fit regression for Train data for 2017.09 ~ 2017.12\n",
        "lin_reg_sl3_11 = LinearRegression(n_jobs=-1)\n",
        "lin_reg_sl3_11.fit(X_train_sl3_11, y_train_sl3_11)"
      ],
      "execution_count": 189,
      "outputs": [
        {
          "output_type": "execute_result",
          "data": {
            "text/plain": [
              "LinearRegression(copy_X=True, fit_intercept=True, n_jobs=-1, normalize=False)"
            ]
          },
          "metadata": {
            "tags": []
          },
          "execution_count": 189
        }
      ]
    },
    {
      "cell_type": "code",
      "metadata": {
        "colab": {
          "base_uri": "https://localhost:8080/"
        },
        "id": "FrC5ma2hwjbM",
        "outputId": "5d0712b7-00db-467e-d025-ddf6ddc25cdd"
      },
      "source": [
        "# RandomForest Model for Sliding method-3 (4 months for each train data)\n",
        "\n",
        "\n",
        "# fit random forest for Train data for 2016.11 ~ 2017.02\n",
        "forest_sl3_1 = RandomForestRegressor(n_jobs=-1)\n",
        "forest_sl3_1.fit(X_train_sl3_1, y_train_sl3_1)\n",
        "\n",
        "# fit random forest for Train data for 2016.12 ~ 2017.03\n",
        "forest_sl3_2 = RandomForestRegressor(n_jobs=-1)\n",
        "forest_sl3_2.fit(X_train_sl3_2, y_train_sl3_2)\n",
        "\n",
        "# fit random forest for Train data for 2017.01 ~ 2017.04\n",
        "forest_sl3_3 = RandomForestRegressor(n_jobs=-1)\n",
        "forest_sl3_3.fit(X_train_sl3_3, y_train_sl3_3)\n",
        "\n",
        "# fit random forest for Train data for 2017.02 ~ 2017.05\n",
        "forest_sl3_4 = RandomForestRegressor(n_jobs=-1)\n",
        "forest_sl3_4.fit(X_train_sl3_4, y_train_sl3_4)\n",
        "\n",
        "# fit random forest for Train data for 2017.03 ~ 2017.06\n",
        "forest_sl3_5 = RandomForestRegressor(n_jobs=-1)\n",
        "forest_sl3_5.fit(X_train_sl3_5, y_train_sl3_5)\n",
        "\n",
        "# fit random forest for Train data for 2017.04 ~ 2017.07\n",
        "forest_sl3_6 = RandomForestRegressor(n_jobs=-1)\n",
        "forest_sl3_6.fit(X_train_sl3_6, y_train_sl3_6)\n",
        "\n",
        "# fit random forest for Train data for 2017.05 ~ 2017.08\n",
        "forest_sl3_7 = RandomForestRegressor(n_jobs=-1)\n",
        "forest_sl3_7.fit(X_train_sl3_7, y_train_sl3_7)\n",
        "\n",
        "# fit random forest for Train data for 2017.06 ~ 2017.09\n",
        "forest_sl3_8 = RandomForestRegressor(n_jobs=-1)\n",
        "forest_sl3_8.fit(X_train_sl3_8, y_train_sl3_8)\n",
        "\n",
        "# fit random forest for Train data for 2017.07 ~ 2017.10\n",
        "forest_sl3_9 = RandomForestRegressor(n_jobs=-1)\n",
        "forest_sl3_9.fit(X_train_sl3_9, y_train_sl3_9)\n",
        "\n",
        "# fit random forest for Train data for 2017.08 ~ 2017.11\n",
        "forest_sl3_10 = RandomForestRegressor(n_jobs=-1)\n",
        "forest_sl3_10.fit(X_train_sl3_10, y_train_sl3_10)\n",
        "\n",
        "# fit random forest for Train data for 2017.09 ~ 2017.12\n",
        "forest_sl3_11 = RandomForestRegressor(n_jobs=-1)\n",
        "forest_sl3_11.fit(X_train_sl3_11, y_train_sl3_11)"
      ],
      "execution_count": 190,
      "outputs": [
        {
          "output_type": "execute_result",
          "data": {
            "text/plain": [
              "RandomForestRegressor(bootstrap=True, ccp_alpha=0.0, criterion='mse',\n",
              "                      max_depth=None, max_features='auto', max_leaf_nodes=None,\n",
              "                      max_samples=None, min_impurity_decrease=0.0,\n",
              "                      min_impurity_split=None, min_samples_leaf=1,\n",
              "                      min_samples_split=2, min_weight_fraction_leaf=0.0,\n",
              "                      n_estimators=100, n_jobs=-1, oob_score=False,\n",
              "                      random_state=None, verbose=0, warm_start=False)"
            ]
          },
          "metadata": {
            "tags": []
          },
          "execution_count": 190
        }
      ]
    },
    {
      "cell_type": "code",
      "metadata": {
        "colab": {
          "base_uri": "https://localhost:8080/"
        },
        "id": "Rz3ujNQTw9Bt",
        "outputId": "f01eb270-9505-4e4c-f100-f01a6ee5fc04"
      },
      "source": [
        "# LinearRegression Model for Sliding method-4 (5 months for each train data)\n",
        "\n",
        "# fit regression for Train data for 2016.10 ~ 2017.02\n",
        "lin_reg_sl4_1 = LinearRegression(n_jobs=-1)\n",
        "lin_reg_sl4_1.fit(X_train_sl4_1, y_train_sl4_1)\n",
        "\n",
        "# fit regression for Train data for 2016.11 ~ 2017.03\n",
        "lin_reg_sl4_2 = LinearRegression(n_jobs=-1)\n",
        "lin_reg_sl4_2.fit(X_train_sl4_2, y_train_sl4_2)\n",
        "\n",
        "# fit regression for Train data for 2016.12 ~ 2017.04\n",
        "lin_reg_sl4_3 = LinearRegression(n_jobs=-1)\n",
        "lin_reg_sl4_3.fit(X_train_sl4_3, y_train_sl4_3)\n",
        "\n",
        "# fit regression for Train data for 2017.01 ~ 2017.05\n",
        "lin_reg_sl4_4 = LinearRegression(n_jobs=-1)\n",
        "lin_reg_sl4_4.fit(X_train_sl4_4, y_train_sl4_4)\n",
        "\n",
        "# fit regression for Train data for 2017.02 ~ 2017.06\n",
        "lin_reg_sl4_5 = LinearRegression(n_jobs=-1)\n",
        "lin_reg_sl4_5.fit(X_train_sl4_5, y_train_sl4_5)\n",
        "\n",
        "# fit regression for Train data for 2017.03 ~ 2017.07\n",
        "lin_reg_sl4_6 = LinearRegression(n_jobs=-1)\n",
        "lin_reg_sl4_6.fit(X_train_sl4_6, y_train_sl4_6)\n",
        "\n",
        "# fit regression for Train data for 2017.04 ~ 2017.08\n",
        "lin_reg_sl4_7 = LinearRegression(n_jobs=-1)\n",
        "lin_reg_sl4_7.fit(X_train_sl4_7, y_train_sl4_7)\n",
        "\n",
        "# fit regression for Train data for 2017.05 ~ 2017.09\n",
        "lin_reg_sl4_8 = LinearRegression(n_jobs=-1)\n",
        "lin_reg_sl4_8.fit(X_train_sl4_8, y_train_sl4_8)\n",
        "\n",
        "# fit regression for Train data for 2017.06 ~ 2017.10\n",
        "lin_reg_sl4_9 = LinearRegression(n_jobs=-1)\n",
        "lin_reg_sl4_9.fit(X_train_sl4_9, y_train_sl4_9)\n",
        "\n",
        "# fit regression for Train data for 2017.07 ~ 2017.11\n",
        "lin_reg_sl4_10 = LinearRegression(n_jobs=-1)\n",
        "lin_reg_sl4_10.fit(X_train_sl4_10, y_train_sl4_10)\n",
        "\n",
        "# fit regression for Train data for 2017.08 ~ 2017.12\n",
        "lin_reg_sl4_11 = LinearRegression(n_jobs=-1)\n",
        "lin_reg_sl4_11.fit(X_train_sl4_11, y_train_sl4_11)"
      ],
      "execution_count": 191,
      "outputs": [
        {
          "output_type": "execute_result",
          "data": {
            "text/plain": [
              "LinearRegression(copy_X=True, fit_intercept=True, n_jobs=-1, normalize=False)"
            ]
          },
          "metadata": {
            "tags": []
          },
          "execution_count": 191
        }
      ]
    },
    {
      "cell_type": "code",
      "metadata": {
        "colab": {
          "base_uri": "https://localhost:8080/"
        },
        "id": "A8H3AE91vo7j",
        "outputId": "a1941481-4ca5-4159-b858-33dff380aad5"
      },
      "source": [
        "# RandomForest Model for Sliding method-4 (5 months for each train data)\n",
        "\n",
        "\n",
        "# fit random forest for Train data for 2016.10 ~ 2017.02\n",
        "forest_sl4_1 = RandomForestRegressor(n_jobs=-1)\n",
        "forest_sl4_1.fit(X_train_sl4_1, y_train_sl4_1)\n",
        "\n",
        "# fit random forest for Train data for 2016.11 ~ 2017.03\n",
        "forest_sl4_2 = RandomForestRegressor(n_jobs=-1)\n",
        "forest_sl4_2.fit(X_train_sl4_2, y_train_sl4_2)\n",
        "\n",
        "# fit random forest for Train data for 2016.12 ~ 2017.04\n",
        "forest_sl4_3 = RandomForestRegressor(n_jobs=-1)\n",
        "forest_sl4_3.fit(X_train_sl4_3, y_train_sl4_3)\n",
        "\n",
        "# fit random forest for Train data for 2017.01 ~ 2017.05\n",
        "forest_sl4_4 = RandomForestRegressor(n_jobs=-1)\n",
        "forest_sl4_4.fit(X_train_sl4_4, y_train_sl4_4)\n",
        "\n",
        "# fit random forest for Train data for 2017.02 ~ 2017.06\n",
        "forest_sl4_5 = RandomForestRegressor(n_jobs=-1)\n",
        "forest_sl4_5.fit(X_train_sl4_5, y_train_sl4_5)\n",
        "\n",
        "# fit random forest for Train data for 2017.03 ~ 2017.07\n",
        "forest_sl4_6 = RandomForestRegressor(n_jobs=-1)\n",
        "forest_sl4_6.fit(X_train_sl4_6, y_train_sl4_6)\n",
        "\n",
        "# fit random forest for Train data for 2017.04 ~ 2017.08\n",
        "forest_sl4_7 = RandomForestRegressor(n_jobs=-1)\n",
        "forest_sl4_7.fit(X_train_sl4_7, y_train_sl4_7)\n",
        "\n",
        "# fit random forest for Train data for 2017.05 ~ 2017.09\n",
        "forest_sl4_8 = RandomForestRegressor(n_jobs=-1)\n",
        "forest_sl4_8.fit(X_train_sl4_8, y_train_sl4_8)\n",
        "\n",
        "# fit random forest for Train data for 2017.06 ~ 2017.10\n",
        "forest_sl4_9 = RandomForestRegressor(n_jobs=-1)\n",
        "forest_sl4_9.fit(X_train_sl4_9, y_train_sl4_9)\n",
        "\n",
        "# fit random forest for Train data for 2017.07 ~ 2017.11\n",
        "forest_sl4_10 = RandomForestRegressor(n_jobs=-1)\n",
        "forest_sl4_10.fit(X_train_sl4_10, y_train_sl4_10)\n",
        "\n",
        "# fit random forest for Train data for 2017.08 ~ 2017.12\n",
        "forest_sl4_11 = RandomForestRegressor(n_jobs=-1)\n",
        "forest_sl4_11.fit(X_train_sl2_11, y_train_sl2_11)"
      ],
      "execution_count": 192,
      "outputs": [
        {
          "output_type": "execute_result",
          "data": {
            "text/plain": [
              "RandomForestRegressor(bootstrap=True, ccp_alpha=0.0, criterion='mse',\n",
              "                      max_depth=None, max_features='auto', max_leaf_nodes=None,\n",
              "                      max_samples=None, min_impurity_decrease=0.0,\n",
              "                      min_impurity_split=None, min_samples_leaf=1,\n",
              "                      min_samples_split=2, min_weight_fraction_leaf=0.0,\n",
              "                      n_estimators=100, n_jobs=-1, oob_score=False,\n",
              "                      random_state=None, verbose=0, warm_start=False)"
            ]
          },
          "metadata": {
            "tags": []
          },
          "execution_count": 192
        }
      ]
    },
    {
      "cell_type": "code",
      "metadata": {
        "colab": {
          "base_uri": "https://localhost:8080/"
        },
        "id": "08X-WziWxGO_",
        "outputId": "127ed09e-6e42-4a94-ed20-7efd85b1aa7f"
      },
      "source": [
        "# LinearRegression Model for Sliding method-5 (6 months for each train data)\n",
        "\n",
        "# fit regression for Train data for 2016.09 ~ 2017.02\n",
        "lin_reg_sl5_1 = LinearRegression(n_jobs=-1)\n",
        "lin_reg_sl5_1.fit(X_train_sl5_1, y_train_sl5_1)\n",
        "\n",
        "# fit regression for Train data for 2016.10 ~ 2017.03\n",
        "lin_reg_sl5_2 = LinearRegression(n_jobs=-1)\n",
        "lin_reg_sl5_2.fit(X_train_sl5_2, y_train_sl5_2)\n",
        "\n",
        "# fit regression for Train data for 2016.11 ~ 2017.04\n",
        "lin_reg_sl5_3 = LinearRegression(n_jobs=-1)\n",
        "lin_reg_sl5_3.fit(X_train_sl5_3, y_train_sl5_3)\n",
        "\n",
        "# fit regression for Train data for 2016.12 ~ 2017.05\n",
        "lin_reg_sl5_4 = LinearRegression(n_jobs=-1)\n",
        "lin_reg_sl5_4.fit(X_train_sl5_4, y_train_sl5_4)\n",
        "\n",
        "# fit regression for Train data for 2017.01 ~ 2017.06\n",
        "lin_reg_sl5_5 = LinearRegression(n_jobs=-1)\n",
        "lin_reg_sl5_5.fit(X_train_sl5_5, y_train_sl5_5)\n",
        "\n",
        "# fit regression for Train data for 2017.02 ~ 2017.07\n",
        "lin_reg_sl5_6 = LinearRegression(n_jobs=-1)\n",
        "lin_reg_sl5_6.fit(X_train_sl5_6, y_train_sl5_6)\n",
        "\n",
        "# fit regression for Train data for 2017.03 ~ 2017.08\n",
        "lin_reg_sl5_7 = LinearRegression(n_jobs=-1)\n",
        "lin_reg_sl5_7.fit(X_train_sl5_7, y_train_sl5_7)\n",
        "\n",
        "# fit regression for Train data for 2017.04 ~ 2017.09\n",
        "lin_reg_sl5_8 = LinearRegression(n_jobs=-1)\n",
        "lin_reg_sl5_8.fit(X_train_sl5_8, y_train_sl5_8)\n",
        "\n",
        "# fit regression for Train data for 2017.05 ~ 2017.10\n",
        "lin_reg_sl5_9 = LinearRegression(n_jobs=-1)\n",
        "lin_reg_sl5_9.fit(X_train_sl5_9, y_train_sl5_9)\n",
        "\n",
        "# fit regression for Train data for 2017.06 ~ 2017.11\n",
        "lin_reg_sl5_10 = LinearRegression(n_jobs=-1)\n",
        "lin_reg_sl5_10.fit(X_train_sl5_10, y_train_sl5_10)\n",
        "\n",
        "# fit regression for Train data for 2017.07 ~ 2017.12\n",
        "lin_reg_sl5_11 = LinearRegression(n_jobs=-1)\n",
        "lin_reg_sl5_11.fit(X_train_sl5_11, y_train_sl5_11)"
      ],
      "execution_count": 193,
      "outputs": [
        {
          "output_type": "execute_result",
          "data": {
            "text/plain": [
              "LinearRegression(copy_X=True, fit_intercept=True, n_jobs=-1, normalize=False)"
            ]
          },
          "metadata": {
            "tags": []
          },
          "execution_count": 193
        }
      ]
    },
    {
      "cell_type": "code",
      "metadata": {
        "colab": {
          "base_uri": "https://localhost:8080/"
        },
        "id": "DGaD5WyxxrlO",
        "outputId": "c934c25a-d507-45af-f915-dd7ce3e76114"
      },
      "source": [
        "# RandomForest Model for Sliding method-5 (6 months for each train data)\n",
        "\n",
        "\n",
        "# fit random forest for Train data for 2016.09 ~ 2017.02\n",
        "forest_sl5_1 = RandomForestRegressor(n_jobs=-1)\n",
        "forest_sl5_1.fit(X_train_sl5_1, y_train_sl5_1)\n",
        "\n",
        "# fit random forest for Train data for 2016.10 ~ 2017.03\n",
        "forest_sl5_2 = RandomForestRegressor(n_jobs=-1)\n",
        "forest_sl5_2.fit(X_train_sl5_2, y_train_sl5_2)\n",
        "\n",
        "# fit random forest for Train data for 2016.11 ~ 2017.04\n",
        "forest_sl5_3 = RandomForestRegressor(n_jobs=-1)\n",
        "forest_sl5_3.fit(X_train_sl5_3, y_train_sl5_3)\n",
        "\n",
        "# fit random forest for Train data for 2016.12 ~ 2017.05\n",
        "forest_sl5_4 = RandomForestRegressor(n_jobs=-1)\n",
        "forest_sl5_4.fit(X_train_sl5_4, y_train_sl5_4)\n",
        "\n",
        "# fit random forest for Train data for 2017.01 ~ 2017.06\n",
        "forest_sl5_5 = RandomForestRegressor(n_jobs=-1)\n",
        "forest_sl5_5.fit(X_train_sl5_5, y_train_sl5_5)\n",
        "\n",
        "# fit random forest for Train data for 2017.02 ~ 2017.07\n",
        "forest_sl5_6 = RandomForestRegressor(n_jobs=-1)\n",
        "forest_sl5_6.fit(X_train_sl5_6, y_train_sl5_6)\n",
        "\n",
        "# fit random forest for Train data for 2017.03 ~ 2017.08\n",
        "forest_sl5_7 = RandomForestRegressor(n_jobs=-1)\n",
        "forest_sl5_7.fit(X_train_sl5_7, y_train_sl5_7)\n",
        "\n",
        "# fit random forest for Train data for 2017.04 ~ 2017.09\n",
        "forest_sl5_8 = RandomForestRegressor(n_jobs=-1)\n",
        "forest_sl5_8.fit(X_train_sl5_8, y_train_sl5_8)\n",
        "\n",
        "# fit random forest for Train data for 2017.05 ~ 2017.10\n",
        "forest_sl5_9 = RandomForestRegressor(n_jobs=-1)\n",
        "forest_sl5_9.fit(X_train_sl5_9, y_train_sl5_9)\n",
        "\n",
        "# fit random forest for Train data for 2017.06 ~ 2017.11\n",
        "forest_sl5_10 = RandomForestRegressor(n_jobs=-1)\n",
        "forest_sl5_10.fit(X_train_sl5_10, y_train_sl5_10)\n",
        "\n",
        "# fit random forest for Train data for 2017.07 ~ 2017.12\n",
        "forest_sl5_11 = RandomForestRegressor(n_jobs=-1)\n",
        "forest_sl5_11.fit(X_train_sl5_11, y_train_sl5_11)"
      ],
      "execution_count": 194,
      "outputs": [
        {
          "output_type": "execute_result",
          "data": {
            "text/plain": [
              "RandomForestRegressor(bootstrap=True, ccp_alpha=0.0, criterion='mse',\n",
              "                      max_depth=None, max_features='auto', max_leaf_nodes=None,\n",
              "                      max_samples=None, min_impurity_decrease=0.0,\n",
              "                      min_impurity_split=None, min_samples_leaf=1,\n",
              "                      min_samples_split=2, min_weight_fraction_leaf=0.0,\n",
              "                      n_estimators=100, n_jobs=-1, oob_score=False,\n",
              "                      random_state=None, verbose=0, warm_start=False)"
            ]
          },
          "metadata": {
            "tags": []
          },
          "execution_count": 194
        }
      ]
    },
    {
      "cell_type": "code",
      "metadata": {
        "colab": {
          "base_uri": "https://localhost:8080/"
        },
        "id": "FV8SWPQuyDaU",
        "outputId": "5a71dc13-d7f3-4fe1-f96e-dcd637468943"
      },
      "source": [
        "# LinearRegression Model for Sliding method-6 (7 months for each train data)\n",
        "\n",
        "# fit regression for Train data for 2016.08 ~ 2017.02\n",
        "lin_reg_sl6_1 = LinearRegression(n_jobs=-1)\n",
        "lin_reg_sl6_1.fit(X_train_sl6_1, y_train_sl6_1)\n",
        "\n",
        "# fit regression for Train data for 2016.09 ~ 2017.03\n",
        "lin_reg_sl6_2 = LinearRegression(n_jobs=-1)\n",
        "lin_reg_sl6_2.fit(X_train_sl6_2, y_train_sl6_2)\n",
        "\n",
        "# fit regression for Train data for 2016.10 ~ 2017.04\n",
        "lin_reg_sl6_3 = LinearRegression(n_jobs=-1)\n",
        "lin_reg_sl6_3.fit(X_train_sl6_3, y_train_sl6_3)\n",
        "\n",
        "# fit regression for Train data for 2016.11 ~ 2017.05\n",
        "lin_reg_sl6_4 = LinearRegression(n_jobs=-1)\n",
        "lin_reg_sl6_4.fit(X_train_sl6_4, y_train_sl6_4)\n",
        "\n",
        "# fit regression for Train data for 2016.12 ~ 2017.06\n",
        "lin_reg_sl6_5 = LinearRegression(n_jobs=-1)\n",
        "lin_reg_sl6_5.fit(X_train_sl6_5, y_train_sl6_5)\n",
        "\n",
        "# fit regression for Train data for 2017.01 ~ 2017.07\n",
        "lin_reg_sl6_6 = LinearRegression(n_jobs=-1)\n",
        "lin_reg_sl6_6.fit(X_train_sl6_6, y_train_sl6_6)\n",
        "\n",
        "# fit regression for Train data for 2017.02 ~ 2017.08\n",
        "lin_reg_sl6_7 = LinearRegression(n_jobs=-1)\n",
        "lin_reg_sl6_7.fit(X_train_sl6_7, y_train_sl6_7)\n",
        "\n",
        "# fit regression for Train data for 2017.03 ~ 2017.09\n",
        "lin_reg_sl6_8 = LinearRegression(n_jobs=-1)\n",
        "lin_reg_sl6_8.fit(X_train_sl6_8, y_train_sl6_8)\n",
        "\n",
        "# fit regression for Train data for 2017.04 ~ 2017.10\n",
        "lin_reg_sl6_9 = LinearRegression(n_jobs=-1)\n",
        "lin_reg_sl6_9.fit(X_train_sl6_9, y_train_sl6_9)\n",
        "\n",
        "# fit regression for Train data for 2017.05 ~ 2017.11\n",
        "lin_reg_sl6_10 = LinearRegression(n_jobs=-1)\n",
        "lin_reg_sl6_10.fit(X_train_sl6_10, y_train_sl6_10)\n",
        "\n",
        "# fit regression for Train data for 2017.06 ~ 2017.12\n",
        "lin_reg_sl6_11 = LinearRegression(n_jobs=-1)\n",
        "lin_reg_sl6_11.fit(X_train_sl6_11, y_train_sl6_11)"
      ],
      "execution_count": 195,
      "outputs": [
        {
          "output_type": "execute_result",
          "data": {
            "text/plain": [
              "LinearRegression(copy_X=True, fit_intercept=True, n_jobs=-1, normalize=False)"
            ]
          },
          "metadata": {
            "tags": []
          },
          "execution_count": 195
        }
      ]
    },
    {
      "cell_type": "code",
      "metadata": {
        "id": "ouw4JokGyXk4",
        "colab": {
          "base_uri": "https://localhost:8080/"
        },
        "outputId": "aae7f992-2b18-4a76-aecf-e3029444911f"
      },
      "source": [
        "# RandomForest Model for Sliding method-6 (7 months for each train data)\n",
        "\n",
        "\n",
        "# fit random forest for Train data for 2016.08 ~ 2017.02\n",
        "forest_sl6_1 = RandomForestRegressor(n_jobs=-1)\n",
        "forest_sl6_1.fit(X_train_sl6_1, y_train_sl6_1)\n",
        "\n",
        "# fit random forest for Train data for 2016.09 ~ 2017.03\n",
        "forest_sl6_2 = RandomForestRegressor(n_jobs=-1)\n",
        "forest_sl6_2.fit(X_train_sl6_2, y_train_sl6_2)\n",
        "\n",
        "# fit random forest for Train data for 2016.10 ~ 2017.04\n",
        "forest_sl6_3 = RandomForestRegressor(n_jobs=-1)\n",
        "forest_sl6_3.fit(X_train_sl6_3, y_train_sl6_3)\n",
        "\n",
        "# fit random forest for Train data for 2016.11 ~ 2017.05\n",
        "forest_sl6_4 = RandomForestRegressor(n_jobs=-1)\n",
        "forest_sl6_4.fit(X_train_sl6_4, y_train_sl6_4)\n",
        "\n",
        "# fit random forest for Train data for 2016.12 ~ 2017.06\n",
        "forest_sl6_5 = RandomForestRegressor(n_jobs=-1)\n",
        "forest_sl6_5.fit(X_train_sl6_5, y_train_sl6_5)\n",
        "\n",
        "# fit random forest for Train data for 2017.01 ~ 2017.07\n",
        "forest_sl6_6 = RandomForestRegressor(n_jobs=-1)\n",
        "forest_sl6_6.fit(X_train_sl6_6, y_train_sl6_6)\n",
        "\n",
        "# fit random forest for Train data for 2017.02 ~ 2017.08\n",
        "forest_sl6_7 = RandomForestRegressor(n_jobs=-1)\n",
        "forest_sl6_7.fit(X_train_sl6_7, y_train_sl6_7)\n",
        "\n",
        "# fit random forest for Train data for 2017.03 ~ 2017.09\n",
        "forest_sl6_8 = RandomForestRegressor(n_jobs=-1)\n",
        "forest_sl6_8.fit(X_train_sl6_8, y_train_sl6_8)\n",
        "\n",
        "# fit random forest for Train data for 2017.04 ~ 2017.10\n",
        "forest_sl6_9 = RandomForestRegressor(n_jobs=-1)\n",
        "forest_sl6_9.fit(X_train_sl6_9, y_train_sl6_9)\n",
        "\n",
        "# fit random forest for Train data for 2017.05 ~ 2017.11\n",
        "forest_sl6_10 = RandomForestRegressor(n_jobs=-1)\n",
        "forest_sl6_10.fit(X_train_sl6_10, y_train_sl6_10)\n",
        "\n",
        "# fit random forest for Train data for 2017.06 ~ 2017.12\n",
        "forest_sl6_11 = RandomForestRegressor(n_jobs=-1)\n",
        "forest_sl6_11.fit(X_train_sl6_11, y_train_sl6_11)"
      ],
      "execution_count": 196,
      "outputs": [
        {
          "output_type": "execute_result",
          "data": {
            "text/plain": [
              "RandomForestRegressor(bootstrap=True, ccp_alpha=0.0, criterion='mse',\n",
              "                      max_depth=None, max_features='auto', max_leaf_nodes=None,\n",
              "                      max_samples=None, min_impurity_decrease=0.0,\n",
              "                      min_impurity_split=None, min_samples_leaf=1,\n",
              "                      min_samples_split=2, min_weight_fraction_leaf=0.0,\n",
              "                      n_estimators=100, n_jobs=-1, oob_score=False,\n",
              "                      random_state=None, verbose=0, warm_start=False)"
            ]
          },
          "metadata": {
            "tags": []
          },
          "execution_count": 196
        }
      ]
    },
    {
      "cell_type": "markdown",
      "metadata": {
        "id": "ktnc-YJpVXbE"
      },
      "source": [
        "##**3.3 Results**\n",
        "### RMSE will be used for criterion.\n",
        "### Train data for each method is different, but test data is the same. For example, the first model of each method should all use test_1 and next model of each method should all use test_2."
      ]
    },
    {
      "cell_type": "markdown",
      "metadata": {
        "id": "sRgQOzSR0pDB"
      },
      "source": [
        "###**Expanding Method**"
      ]
    },
    {
      "cell_type": "code",
      "metadata": {
        "id": "QVwS2yMX1qTw",
        "colab": {
          "base_uri": "https://localhost:8080/"
        },
        "outputId": "c7b89f12-87e6-4d16-ed0d-84e3d0ad968e"
      },
      "source": [
        "# Linear model for Expanding Method\n",
        "\n",
        "models_lin_ex= [(lin_reg_ex_1,X_test_1,y_test_1),\n",
        "                (lin_reg_ex_2,X_test_2,y_test_2),\n",
        "                (lin_reg_ex_3,X_test_3,y_test_3),\n",
        "                (lin_reg_ex_4,X_test_4,y_test_4),\n",
        "                (lin_reg_ex_5,X_test_5,y_test_5),\n",
        "                (lin_reg_ex_6,X_test_6,y_test_6),\n",
        "                (lin_reg_ex_7,X_test_7,y_test_7),\n",
        "                (lin_reg_ex_8,X_test_8,y_test_8),\n",
        "                (lin_reg_ex_9,X_test_9,y_test_9),\n",
        "                (lin_reg_ex_10,X_test_10,y_test_10),\n",
        "                (lin_reg_ex_11,X_test_11,y_test_11)]\n",
        "\n",
        "\n",
        "from sklearn.metrics import mean_squared_error\n",
        "for  model,a,b in models_lin_ex:\n",
        "  predictions = model.predict(a)\n",
        "  MSE = mean_squared_error(b, predictions)\n",
        "  RMSE = np.sqrt(MSE)\n",
        "  print(RMSE)"
      ],
      "execution_count": 197,
      "outputs": [
        {
          "output_type": "stream",
          "text": [
            "473290.2314585005\n",
            "500051.5812742415\n",
            "492418.84432569414\n",
            "412526.8338631265\n",
            "380264.30201381946\n",
            "485049.41039570776\n",
            "538287.8741250376\n",
            "488933.17222976073\n",
            "456335.2961376269\n",
            "444364.23699007684\n",
            "414266.0363386855\n"
          ],
          "name": "stdout"
        }
      ]
    },
    {
      "cell_type": "code",
      "metadata": {
        "id": "kxFOAk0MSnoo",
        "colab": {
          "base_uri": "https://localhost:8080/"
        },
        "outputId": "b37c51dc-56f2-49af-c758-afc0dbe7cddd"
      },
      "source": [
        "# Random Forest mdoel for Expanding Method\n",
        "\n",
        "models_forest_ex = [(forest_ex_1,X_test_1,y_test_1),\n",
        "                    (forest_ex_2,X_test_2,y_test_2),\n",
        "                    (forest_ex_3,X_test_3,y_test_3),\n",
        "                    (forest_ex_4,X_test_4,y_test_4),\n",
        "                    (forest_ex_5,X_test_5,y_test_5),\n",
        "                    (forest_ex_6,X_test_6,y_test_6),\n",
        "                    (forest_ex_7,X_test_7,y_test_7),\n",
        "                    (forest_ex_8,X_test_8,y_test_8),\n",
        "                    (forest_ex_9,X_test_9,y_test_9),\n",
        "                    (forest_ex_10,X_test_10,y_test_10),\n",
        "                    (forest_ex_11,X_test_11,y_test_11)]\n",
        "\n",
        "from sklearn.metrics import mean_squared_error\n",
        "for  model,a,b in models_forest_ex:\n",
        "  predictions = model.predict(a)\n",
        "  MSE = mean_squared_error(b, predictions)\n",
        "  RMSE = np.sqrt(MSE)\n",
        "  print(RMSE)"
      ],
      "execution_count": 198,
      "outputs": [
        {
          "output_type": "stream",
          "text": [
            "457436.5435135182\n",
            "466795.92154732865\n",
            "464275.1518200424\n",
            "373233.15530823346\n",
            "349373.78996379126\n",
            "387403.9595622695\n",
            "438659.42335959926\n",
            "461766.9396136448\n",
            "433599.6480107671\n",
            "383586.9420281473\n",
            "380529.17770316\n"
          ],
          "name": "stdout"
        }
      ]
    },
    {
      "cell_type": "markdown",
      "metadata": {
        "id": "HH-aDTAd0sY4"
      },
      "source": [
        "###**Sliding Method**"
      ]
    },
    {
      "cell_type": "code",
      "metadata": {
        "colab": {
          "base_uri": "https://localhost:8080/"
        },
        "id": "jdblreHdRMRp",
        "outputId": "62b892eb-d889-4d82-a266-bc77ba374cfa"
      },
      "source": [
        "# Linear model for Sliding Method -1 (2 months for each train data set)\n",
        "\n",
        "models_lin_sl1= [(lin_reg_sl1_1,X_test_1,y_test_1),\n",
        "                 (lin_reg_sl1_2,X_test_2,y_test_2),\n",
        "                 (lin_reg_sl1_3,X_test_3,y_test_3),\n",
        "                 (lin_reg_sl1_4,X_test_4,y_test_4),\n",
        "                 (lin_reg_sl1_5,X_test_5,y_test_5),\n",
        "                 (lin_reg_sl1_6,X_test_6,y_test_6),\n",
        "                 (lin_reg_sl1_7,X_test_7,y_test_7),\n",
        "                 (lin_reg_sl1_8,X_test_8,y_test_8),\n",
        "                 (lin_reg_sl1_9,X_test_9,y_test_9),\n",
        "                 (lin_reg_sl1_10,X_test_10,y_test_10),\n",
        "                 (lin_reg_sl1_11,X_test_11,y_test_11)]\n",
        "\n",
        "\n",
        "from sklearn.metrics import mean_squared_error\n",
        "for  model,a,b in models_lin_sl1:\n",
        "  predictions = model.predict(a)\n",
        "  MSE = mean_squared_error(b, predictions)\n",
        "  RMSE = np.sqrt(MSE)\n",
        "  print(RMSE)"
      ],
      "execution_count": 199,
      "outputs": [
        {
          "output_type": "stream",
          "text": [
            "466425.87194498547\n",
            "490669.53026385227\n",
            "491483.45650040224\n",
            "431048.2067528621\n",
            "380861.8892639678\n",
            "583566.8799126936\n",
            "701508.4260153465\n",
            "492832.79393023736\n",
            "459126.761299614\n",
            "445234.69086872356\n",
            "411422.36982791155\n"
          ],
          "name": "stdout"
        }
      ]
    },
    {
      "cell_type": "code",
      "metadata": {
        "colab": {
          "base_uri": "https://localhost:8080/"
        },
        "id": "218tfmuBWelQ",
        "outputId": "5b60937d-164e-4a90-ddea-f40f03321395"
      },
      "source": [
        "# RandomForest model for Sliding Method -1 (2 months for each train data set)\n",
        "\n",
        "models_forest_sl1= [(forest_sl1_1,X_test_1,y_test_1),\n",
        "                    (forest_sl1_2,X_test_2,y_test_2),\n",
        "                    (forest_sl1_3,X_test_3,y_test_3),\n",
        "                    (forest_sl1_4,X_test_4,y_test_4),\n",
        "                    (forest_sl1_5,X_test_5,y_test_5),\n",
        "                    (forest_sl1_6,X_test_6,y_test_6),\n",
        "                    (forest_sl1_7,X_test_7,y_test_7),\n",
        "                    (forest_sl1_8,X_test_8,y_test_8),\n",
        "                    (forest_sl1_9,X_test_9,y_test_9),\n",
        "                    (forest_sl1_10,X_test_10,y_test_10),\n",
        "                    (forest_sl1_11,X_test_11,y_test_11)]\n",
        "\n",
        "\n",
        "from sklearn.metrics import mean_squared_error\n",
        "for  model,a,b in models_forest_sl1:\n",
        "  predictions = model.predict(a)\n",
        "  MSE = mean_squared_error(b, predictions)\n",
        "  RMSE = np.sqrt(MSE)\n",
        "  print(RMSE)"
      ],
      "execution_count": 200,
      "outputs": [
        {
          "output_type": "stream",
          "text": [
            "465907.2264858991\n",
            "493998.4431956987\n",
            "473168.37122461386\n",
            "387360.0093596532\n",
            "354684.38432227605\n",
            "404843.7926848618\n",
            "459048.3501392565\n",
            "466518.6437952946\n",
            "435574.93055134\n",
            "412919.1958697912\n",
            "395848.6821829808\n"
          ],
          "name": "stdout"
        }
      ]
    },
    {
      "cell_type": "code",
      "metadata": {
        "colab": {
          "base_uri": "https://localhost:8080/"
        },
        "id": "STiMC6sqXGyI",
        "outputId": "542880d2-131e-4fb5-d5c8-fdfc9c627114"
      },
      "source": [
        "# Linear model for Sliding Method -2 (3 months for each train data set)\n",
        "\n",
        "models_lin_sl2= [(lin_reg_sl2_1,X_test_1,y_test_1),\n",
        "                 (lin_reg_sl2_2,X_test_2,y_test_2),\n",
        "                 (lin_reg_sl2_3,X_test_3,y_test_3),\n",
        "                 (lin_reg_sl2_4,X_test_4,y_test_4),\n",
        "                 (lin_reg_sl2_5,X_test_5,y_test_5),\n",
        "                 (lin_reg_sl2_6,X_test_6,y_test_6),\n",
        "                 (lin_reg_sl2_7,X_test_7,y_test_7),\n",
        "                 (lin_reg_sl2_8,X_test_8,y_test_8),\n",
        "                 (lin_reg_sl2_9,X_test_9,y_test_9),\n",
        "                 (lin_reg_sl2_10,X_test_10,y_test_10),\n",
        "                 (lin_reg_sl2_11,X_test_11,y_test_11)]\n",
        "\n",
        "\n",
        "from sklearn.metrics import mean_squared_error\n",
        "for  model,a,b in models_lin_sl2:\n",
        "  predictions = model.predict(a)\n",
        "  MSE = mean_squared_error(b, predictions)\n",
        "  RMSE = np.sqrt(MSE)\n",
        "  print(RMSE)"
      ],
      "execution_count": 201,
      "outputs": [
        {
          "output_type": "stream",
          "text": [
            "466136.5967094037\n",
            "490239.8106819492\n",
            "490963.4990214423\n",
            "412708.2145322137\n",
            "379713.5761984687\n",
            "696826.0983941372\n",
            "690653.4845249397\n",
            "492705.6845170624\n",
            "458114.49899000477\n",
            "445118.03326172824\n",
            "410488.1020592238\n"
          ],
          "name": "stdout"
        }
      ]
    },
    {
      "cell_type": "code",
      "metadata": {
        "colab": {
          "base_uri": "https://localhost:8080/"
        },
        "id": "3BO0FGEYXVrX",
        "outputId": "08ec9170-8b1a-4ce5-e272-cbfc3df4dcc9"
      },
      "source": [
        "# RandomForest model for Sliding Method -2 (3 months for each train data set)\n",
        "\n",
        "models_forest_sl2= [(forest_sl2_1,X_test_1,y_test_1),\n",
        "                    (forest_sl2_2,X_test_2,y_test_2),\n",
        "                    (forest_sl2_3,X_test_3,y_test_3),\n",
        "                    (forest_sl2_4,X_test_4,y_test_4),\n",
        "                    (forest_sl2_5,X_test_5,y_test_5),\n",
        "                    (forest_sl2_6,X_test_6,y_test_6),\n",
        "                    (forest_sl2_7,X_test_7,y_test_7),\n",
        "                    (forest_sl2_8,X_test_8,y_test_8),\n",
        "                    (forest_sl2_9,X_test_9,y_test_9),\n",
        "                    (forest_sl2_10,X_test_10,y_test_10),\n",
        "                    (forest_sl2_11,X_test_11,y_test_11)]\n",
        "\n",
        "\n",
        "from sklearn.metrics import mean_squared_error\n",
        "for  model,a,b in models_forest_sl2:\n",
        "  predictions = model.predict(a)\n",
        "  MSE = mean_squared_error(b, predictions)\n",
        "  RMSE = np.sqrt(MSE)\n",
        "  print(RMSE)"
      ],
      "execution_count": 202,
      "outputs": [
        {
          "output_type": "stream",
          "text": [
            "464974.56295308407\n",
            "499685.3168619189\n",
            "476407.8657274097\n",
            "375410.7835563093\n",
            "353866.94149705087\n",
            "405627.8364253955\n",
            "453990.3062103501\n",
            "463047.57771165186\n",
            "431622.904187773\n",
            "387180.80052255857\n",
            "387054.99003155006\n"
          ],
          "name": "stdout"
        }
      ]
    },
    {
      "cell_type": "code",
      "metadata": {
        "colab": {
          "base_uri": "https://localhost:8080/"
        },
        "id": "p_IUQw_w3d9A",
        "outputId": "fc293692-3bb8-4691-e635-63cb1a202006"
      },
      "source": [
        "# Linear model for Sliding Method -3 (4 months for each train data set)\n",
        "\n",
        "models_lin_sl3= [(lin_reg_sl3_1,X_test_1,y_test_1),\n",
        "                 (lin_reg_sl3_2,X_test_2,y_test_2),\n",
        "                 (lin_reg_sl3_3,X_test_3,y_test_3),\n",
        "                 (lin_reg_sl3_4,X_test_4,y_test_4),\n",
        "                 (lin_reg_sl3_5,X_test_5,y_test_5),\n",
        "                 (lin_reg_sl3_6,X_test_6,y_test_6),\n",
        "                 (lin_reg_sl3_7,X_test_7,y_test_7),\n",
        "                 (lin_reg_sl3_8,X_test_8,y_test_8),\n",
        "                 (lin_reg_sl3_9,X_test_9,y_test_9),\n",
        "                 (lin_reg_sl3_10,X_test_10,y_test_10),\n",
        "                 (lin_reg_sl3_11,X_test_11,y_test_11)]\n",
        "\n",
        "\n",
        "from sklearn.metrics import mean_squared_error\n",
        "for  model,a,b in models_lin_sl3:\n",
        "  predictions = model.predict(a)\n",
        "  MSE = mean_squared_error(b, predictions)\n",
        "  RMSE = np.sqrt(MSE)\n",
        "  print(RMSE)"
      ],
      "execution_count": 203,
      "outputs": [
        {
          "output_type": "stream",
          "text": [
            "469577.30150427844\n",
            "491016.43870145135\n",
            "490238.6412040106\n",
            "413854.0095466418\n",
            "378480.35510326066\n",
            "669622.542198673\n",
            "754337.4004867648\n",
            "492136.12741561275\n",
            "458518.07931435166\n",
            "443909.8901295801\n",
            "411231.49117991555\n"
          ],
          "name": "stdout"
        }
      ]
    },
    {
      "cell_type": "code",
      "metadata": {
        "colab": {
          "base_uri": "https://localhost:8080/"
        },
        "id": "r8hCgRYs3lke",
        "outputId": "ec4e00ac-31c9-4189-d0e9-128661890b81"
      },
      "source": [
        "# RandomForest model for Sliding Method -3 (4 months for each train data set)\n",
        "\n",
        "models_forest_sl3= [(forest_sl3_1,X_test_1,y_test_1),\n",
        "                    (forest_sl3_2,X_test_2,y_test_2),\n",
        "                    (forest_sl3_3,X_test_3,y_test_3),\n",
        "                    (forest_sl3_4,X_test_4,y_test_4),\n",
        "                    (forest_sl3_5,X_test_5,y_test_5),\n",
        "                    (forest_sl3_6,X_test_6,y_test_6),\n",
        "                    (forest_sl3_7,X_test_7,y_test_7),\n",
        "                    (forest_sl3_8,X_test_8,y_test_8),\n",
        "                    (forest_sl3_9,X_test_9,y_test_9),\n",
        "                    (forest_sl3_10,X_test_10,y_test_10),\n",
        "                    (forest_sl3_11,X_test_11,y_test_11)]\n",
        "\n",
        "\n",
        "from sklearn.metrics import mean_squared_error\n",
        "for  model,a,b in models_forest_sl3:\n",
        "  predictions = model.predict(a)\n",
        "  MSE = mean_squared_error(b, predictions)\n",
        "  RMSE = np.sqrt(MSE)\n",
        "  print(RMSE)"
      ],
      "execution_count": 204,
      "outputs": [
        {
          "output_type": "stream",
          "text": [
            "462632.57398882107\n",
            "500737.21653162397\n",
            "473248.73698082875\n",
            "374490.35735339246\n",
            "348327.59118016786\n",
            "406825.9293775042\n",
            "447352.4700601607\n",
            "459899.6772465243\n",
            "426456.4673539584\n",
            "386442.25314291794\n",
            "383680.1454014966\n"
          ],
          "name": "stdout"
        }
      ]
    },
    {
      "cell_type": "code",
      "metadata": {
        "colab": {
          "base_uri": "https://localhost:8080/"
        },
        "id": "8XZ3iub03rGO",
        "outputId": "7525fd7a-eb41-4cb9-c083-3be460ac9540"
      },
      "source": [
        "# Linear model for Sliding Method -4 (5 months for each train data set)\n",
        "\n",
        "models_lin_sl4= [(lin_reg_sl4_1,X_test_1,y_test_1),\n",
        "                 (lin_reg_sl4_2,X_test_2,y_test_2),\n",
        "                 (lin_reg_sl4_3,X_test_3,y_test_3),\n",
        "                 (lin_reg_sl4_4,X_test_4,y_test_4),\n",
        "                 (lin_reg_sl4_5,X_test_5,y_test_5),\n",
        "                 (lin_reg_sl4_6,X_test_6,y_test_6),\n",
        "                 (lin_reg_sl4_7,X_test_7,y_test_7),\n",
        "                 (lin_reg_sl4_8,X_test_8,y_test_8),\n",
        "                 (lin_reg_sl4_9,X_test_9,y_test_9),\n",
        "                 (lin_reg_sl4_10,X_test_10,y_test_10),\n",
        "                 (lin_reg_sl4_11,X_test_11,y_test_11)]\n",
        "\n",
        "\n",
        "from sklearn.metrics import mean_squared_error\n",
        "for  model,a,b in models_lin_sl4:\n",
        "  predictions = model.predict(a)\n",
        "  MSE = mean_squared_error(b, predictions)\n",
        "  RMSE = np.sqrt(MSE)\n",
        "  print(RMSE)"
      ],
      "execution_count": 205,
      "outputs": [
        {
          "output_type": "stream",
          "text": [
            "468757.30409388966\n",
            "490877.1651746666\n",
            "490815.7902830215\n",
            "411254.98398595734\n",
            "378995.53772029915\n",
            "457939.8282261769\n",
            "738930.5407486573\n",
            "491808.7485906134\n",
            "457419.4221843882\n",
            "446942.8423541583\n",
            "410570.0906763609\n"
          ],
          "name": "stdout"
        }
      ]
    },
    {
      "cell_type": "code",
      "metadata": {
        "colab": {
          "base_uri": "https://localhost:8080/"
        },
        "id": "B8eTjmto3yuI",
        "outputId": "fa3c3756-7b7b-442d-ef23-a15702b21a7d"
      },
      "source": [
        "# RandomForest model for Sliding Method -4 (5 months for each train data set)\n",
        "\n",
        "models_forest_sl4= [(forest_sl4_1,X_test_1,y_test_1),\n",
        "                    (forest_sl4_2,X_test_2,y_test_2),\n",
        "                    (forest_sl4_3,X_test_3,y_test_3),\n",
        "                    (forest_sl4_4,X_test_4,y_test_4),\n",
        "                    (forest_sl4_5,X_test_5,y_test_5),\n",
        "                    (forest_sl4_6,X_test_6,y_test_6),\n",
        "                    (forest_sl4_7,X_test_7,y_test_7),\n",
        "                    (forest_sl4_8,X_test_8,y_test_8),\n",
        "                    (forest_sl4_9,X_test_9,y_test_9),\n",
        "                    (forest_sl4_10,X_test_10,y_test_10),\n",
        "                    (forest_sl4_11,X_test_11,y_test_11)]\n",
        "\n",
        "\n",
        "from sklearn.metrics import mean_squared_error\n",
        "for  model,a,b in models_forest_sl4:\n",
        "  predictions = model.predict(a)\n",
        "  MSE = mean_squared_error(b, predictions)\n",
        "  RMSE = np.sqrt(MSE)\n",
        "  print(RMSE)"
      ],
      "execution_count": 206,
      "outputs": [
        {
          "output_type": "stream",
          "text": [
            "465079.2062505386\n",
            "481718.5256397351\n",
            "469729.3573733977\n",
            "377674.7014660913\n",
            "349213.37580173876\n",
            "395401.9397910221\n",
            "445844.9618237005\n",
            "464308.8988995368\n",
            "427811.95175049844\n",
            "391047.25191268127\n",
            "389017.9610261042\n"
          ],
          "name": "stdout"
        }
      ]
    },
    {
      "cell_type": "code",
      "metadata": {
        "colab": {
          "base_uri": "https://localhost:8080/"
        },
        "id": "lAGe5mc1s1YT",
        "outputId": "5ee7d83c-8099-4895-8cff-35c9a8bafbbc"
      },
      "source": [
        "# Linear model for Sliding Method -5 (6 months for each train data set)\n",
        "\n",
        "models_lin_sl5= [(lin_reg_sl5_1,X_test_1,y_test_1),\n",
        "                 (lin_reg_sl5_2,X_test_2,y_test_2),\n",
        "                 (lin_reg_sl5_3,X_test_3,y_test_3),\n",
        "                 (lin_reg_sl5_4,X_test_4,y_test_4),\n",
        "                 (lin_reg_sl5_5,X_test_5,y_test_5),\n",
        "                 (lin_reg_sl5_6,X_test_6,y_test_6),\n",
        "                 (lin_reg_sl5_7,X_test_7,y_test_7),\n",
        "                 (lin_reg_sl5_8,X_test_8,y_test_8),\n",
        "                 (lin_reg_sl5_9,X_test_9,y_test_9),\n",
        "                 (lin_reg_sl5_10,X_test_10,y_test_10),\n",
        "                 (lin_reg_sl5_11,X_test_11,y_test_11)]\n",
        "\n",
        "\n",
        "from sklearn.metrics import mean_squared_error\n",
        "for  model,a,b in models_lin_sl5:\n",
        "  predictions = model.predict(a)\n",
        "  MSE = mean_squared_error(b, predictions)\n",
        "  RMSE = np.sqrt(MSE)\n",
        "  print(RMSE)"
      ],
      "execution_count": 215,
      "outputs": [
        {
          "output_type": "stream",
          "text": [
            "468830.9776532997\n",
            "489917.53788113507\n",
            "490282.7705129284\n",
            "411633.5201314184\n",
            "378727.7726623988\n",
            "458760.33070896496\n",
            "524882.8831143015\n",
            "492021.0842781446\n",
            "456928.62148691673\n",
            "447428.0832715677\n",
            "415952.7245285863\n"
          ],
          "name": "stdout"
        }
      ]
    },
    {
      "cell_type": "code",
      "metadata": {
        "colab": {
          "base_uri": "https://localhost:8080/"
        },
        "id": "CYKrWAWbs205",
        "outputId": "6ccee044-a5dc-4b0f-a550-27388be9fea6"
      },
      "source": [
        "# RandomForest model for Sliding Method -5 (6 months for each train data set)\n",
        "\n",
        "models_forest_sl5= [(forest_sl5_1,X_test_1,y_test_1),\n",
        "                    (forest_sl5_2,X_test_2,y_test_2),\n",
        "                    (forest_sl5_3,X_test_3,y_test_3),\n",
        "                    (forest_sl5_4,X_test_4,y_test_4),\n",
        "                    (forest_sl5_5,X_test_5,y_test_5),\n",
        "                    (forest_sl5_6,X_test_6,y_test_6),\n",
        "                    (forest_sl5_7,X_test_7,y_test_7),\n",
        "                    (forest_sl5_8,X_test_8,y_test_8),\n",
        "                    (forest_sl5_9,X_test_9,y_test_9),\n",
        "                    (forest_sl5_10,X_test_10,y_test_10),\n",
        "                    (forest_sl5_11,X_test_11,y_test_11)]\n",
        "\n",
        "\n",
        "from sklearn.metrics import mean_squared_error\n",
        "for  model,a,b in models_forest_sl5:\n",
        "  predictions = model.predict(a)\n",
        "  MSE = mean_squared_error(b, predictions)\n",
        "  RMSE = np.sqrt(MSE)\n",
        "  print(RMSE)"
      ],
      "execution_count": 216,
      "outputs": [
        {
          "output_type": "stream",
          "text": [
            "464288.8230282723\n",
            "482385.85363799136\n",
            "461357.1397123978\n",
            "373812.71161503275\n",
            "351313.4758848827\n",
            "392957.1379128435\n",
            "445254.12608388707\n",
            "461186.398907012\n",
            "430841.26867246913\n",
            "384720.0312623276\n",
            "381812.47719803394\n"
          ],
          "name": "stdout"
        }
      ]
    },
    {
      "cell_type": "code",
      "metadata": {
        "colab": {
          "base_uri": "https://localhost:8080/"
        },
        "id": "ocwQyZk5tCxw",
        "outputId": "71dc0752-bd3c-48cc-b6f0-6ef678c2ab6f"
      },
      "source": [
        "# Linear model for Sliding Method -6 (7 months for each train data set)\n",
        "\n",
        "models_lin_sl6= [(lin_reg_sl6_1,X_test_1,y_test_1),\n",
        "                 (lin_reg_sl6_2,X_test_2,y_test_2),\n",
        "                 (lin_reg_sl6_3,X_test_3,y_test_3),\n",
        "                 (lin_reg_sl6_4,X_test_4,y_test_4),\n",
        "                 (lin_reg_sl6_5,X_test_5,y_test_5),\n",
        "                 (lin_reg_sl6_6,X_test_6,y_test_6),\n",
        "                 (lin_reg_sl6_7,X_test_7,y_test_7),\n",
        "                 (lin_reg_sl6_8,X_test_8,y_test_8),\n",
        "                 (lin_reg_sl6_9,X_test_9,y_test_9),\n",
        "                 (lin_reg_sl6_10,X_test_10,y_test_10),\n",
        "                 (lin_reg_sl6_11,X_test_11,y_test_11)]\n",
        "\n",
        "\n",
        "from sklearn.metrics import mean_squared_error\n",
        "for  model,a,b in models_lin_sl6:\n",
        "  predictions = model.predict(a)\n",
        "  MSE = mean_squared_error(b, predictions)\n",
        "  RMSE = np.sqrt(MSE)\n",
        "  print(RMSE)"
      ],
      "execution_count": 217,
      "outputs": [
        {
          "output_type": "stream",
          "text": [
            "468976.58356349735\n",
            "489823.41309308034\n",
            "489735.4639806913\n",
            "413150.54386882694\n",
            "378564.66790638224\n",
            "446765.2884227599\n",
            "524112.76660552976\n",
            "491755.6190140249\n",
            "456696.94562210166\n",
            "446746.7368925802\n",
            "416506.48009917414\n"
          ],
          "name": "stdout"
        }
      ]
    },
    {
      "cell_type": "code",
      "metadata": {
        "colab": {
          "base_uri": "https://localhost:8080/"
        },
        "id": "-35lVhmKtDO0",
        "outputId": "3c054297-bec6-40e5-845d-43a762eb1fb7"
      },
      "source": [
        "# RandomForest model for Sliding Method -6 (7 months for each train data set)\n",
        "\n",
        "models_forest_sl6= [(forest_sl6_1,X_test_1,y_test_1),\n",
        "                    (forest_sl6_2,X_test_2,y_test_2),\n",
        "                    (forest_sl6_3,X_test_3,y_test_3),\n",
        "                    (forest_sl6_4,X_test_4,y_test_4),\n",
        "                    (forest_sl6_5,X_test_5,y_test_5),\n",
        "                    (forest_sl6_6,X_test_6,y_test_6),\n",
        "                    (forest_sl6_7,X_test_7,y_test_7),\n",
        "                    (forest_sl6_8,X_test_8,y_test_8),\n",
        "                    (forest_sl6_9,X_test_9,y_test_9),\n",
        "                    (forest_sl6_10,X_test_10,y_test_10),\n",
        "                    (forest_sl6_11,X_test_11,y_test_11)]\n",
        "\n",
        "\n",
        "from sklearn.metrics import mean_squared_error\n",
        "for  model,a,b in models_forest_sl6:\n",
        "  predictions = model.predict(a)\n",
        "  MSE = mean_squared_error(b, predictions)\n",
        "  RMSE = np.sqrt(MSE)\n",
        "  print(RMSE)"
      ],
      "execution_count": 218,
      "outputs": [
        {
          "output_type": "stream",
          "text": [
            "463781.2085943598\n",
            "479899.07084706146\n",
            "462406.77158165554\n",
            "371291.55494266027\n",
            "349836.2595096031\n",
            "394612.7974565776\n",
            "443460.1124849323\n",
            "460231.6466294158\n",
            "428755.64364470757\n",
            "389290.63290024205\n",
            "380337.9969943068\n"
          ],
          "name": "stdout"
        }
      ]
    },
    {
      "cell_type": "code",
      "metadata": {
        "id": "sxGfTyjdaCRR",
        "colab": {
          "base_uri": "https://localhost:8080/",
          "height": 376
        },
        "outputId": "815010c4-d9ba-4236-8110-c097ed79ca41"
      },
      "source": [
        "# DataFrame for Expaning Method\n",
        "\n",
        "Results_Ex = pd.DataFrame({'Train data':['2016.03 ~ 2017.02','2016.03 ~ 2017.03','2016.03 ~ 2017.04','2016.03 ~ 2017.05','2016.03 ~ 2017.06','2016.03 ~ 2017.07',\n",
        "                                         '2016.03 ~ 2017.08','2016.03 ~ 2017.09','2016.03 ~ 2017.10','2016.03 ~ 2017.11','2016.03 ~ 2017.12'],\n",
        "                        'Test data':['2017.03~2017.04','2017.04~2017.05','2017.05~2017.06','2017.06~2017.07','2017.07~2017.08','2017.08~2017.09','2017.09~2017.10','2017.10~2017.11',\n",
        "                                     '2017.11~2017.12','2017.12~2018.01','2018.01~2018.02'],\n",
        "                        'LinearRegression(OLS)':[473290.2314585005,500051.5812742415,492418.84432569414,412526.8338631265,380264.30201381946,485049.41039570776,\n",
        "                                                 538287.8741250376,488933.17222976073,456335.2961376269,444364.23699007684,414266.0363386855],\n",
        "                        'RandomForest':[457436.5435135182,466795.92154732865,464275.1518200424,373233.15530823346,349373.78996379126,\n",
        "                                        387403.9595622695,438659.42335959926,461766.9396136448,433599.6480107671,383586.9420281473,380529.17770316]})\n",
        "\n",
        "Results_Ex"
      ],
      "execution_count": 221,
      "outputs": [
        {
          "output_type": "execute_result",
          "data": {
            "text/html": [
              "<div>\n",
              "<style scoped>\n",
              "    .dataframe tbody tr th:only-of-type {\n",
              "        vertical-align: middle;\n",
              "    }\n",
              "\n",
              "    .dataframe tbody tr th {\n",
              "        vertical-align: top;\n",
              "    }\n",
              "\n",
              "    .dataframe thead th {\n",
              "        text-align: right;\n",
              "    }\n",
              "</style>\n",
              "<table border=\"1\" class=\"dataframe\">\n",
              "  <thead>\n",
              "    <tr style=\"text-align: right;\">\n",
              "      <th></th>\n",
              "      <th>Train data</th>\n",
              "      <th>Test data</th>\n",
              "      <th>LinearRegression(OLS)</th>\n",
              "      <th>RandomForest</th>\n",
              "    </tr>\n",
              "  </thead>\n",
              "  <tbody>\n",
              "    <tr>\n",
              "      <th>0</th>\n",
              "      <td>2016.03 ~ 2017.02</td>\n",
              "      <td>2017.03~2017.04</td>\n",
              "      <td>473290.231459</td>\n",
              "      <td>457436.543514</td>\n",
              "    </tr>\n",
              "    <tr>\n",
              "      <th>1</th>\n",
              "      <td>2016.03 ~ 2017.03</td>\n",
              "      <td>2017.04~2017.05</td>\n",
              "      <td>500051.581274</td>\n",
              "      <td>466795.921547</td>\n",
              "    </tr>\n",
              "    <tr>\n",
              "      <th>2</th>\n",
              "      <td>2016.03 ~ 2017.04</td>\n",
              "      <td>2017.05~2017.06</td>\n",
              "      <td>492418.844326</td>\n",
              "      <td>464275.151820</td>\n",
              "    </tr>\n",
              "    <tr>\n",
              "      <th>3</th>\n",
              "      <td>2016.03 ~ 2017.05</td>\n",
              "      <td>2017.06~2017.07</td>\n",
              "      <td>412526.833863</td>\n",
              "      <td>373233.155308</td>\n",
              "    </tr>\n",
              "    <tr>\n",
              "      <th>4</th>\n",
              "      <td>2016.03 ~ 2017.06</td>\n",
              "      <td>2017.07~2017.08</td>\n",
              "      <td>380264.302014</td>\n",
              "      <td>349373.789964</td>\n",
              "    </tr>\n",
              "    <tr>\n",
              "      <th>5</th>\n",
              "      <td>2016.03 ~ 2017.07</td>\n",
              "      <td>2017.08~2017.09</td>\n",
              "      <td>485049.410396</td>\n",
              "      <td>387403.959562</td>\n",
              "    </tr>\n",
              "    <tr>\n",
              "      <th>6</th>\n",
              "      <td>2016.03 ~ 2017.08</td>\n",
              "      <td>2017.09~2017.10</td>\n",
              "      <td>538287.874125</td>\n",
              "      <td>438659.423360</td>\n",
              "    </tr>\n",
              "    <tr>\n",
              "      <th>7</th>\n",
              "      <td>2016.03 ~ 2017.09</td>\n",
              "      <td>2017.10~2017.11</td>\n",
              "      <td>488933.172230</td>\n",
              "      <td>461766.939614</td>\n",
              "    </tr>\n",
              "    <tr>\n",
              "      <th>8</th>\n",
              "      <td>2016.03 ~ 2017.10</td>\n",
              "      <td>2017.11~2017.12</td>\n",
              "      <td>456335.296138</td>\n",
              "      <td>433599.648011</td>\n",
              "    </tr>\n",
              "    <tr>\n",
              "      <th>9</th>\n",
              "      <td>2016.03 ~ 2017.11</td>\n",
              "      <td>2017.12~2018.01</td>\n",
              "      <td>444364.236990</td>\n",
              "      <td>383586.942028</td>\n",
              "    </tr>\n",
              "    <tr>\n",
              "      <th>10</th>\n",
              "      <td>2016.03 ~ 2017.12</td>\n",
              "      <td>2018.01~2018.02</td>\n",
              "      <td>414266.036339</td>\n",
              "      <td>380529.177703</td>\n",
              "    </tr>\n",
              "  </tbody>\n",
              "</table>\n",
              "</div>"
            ],
            "text/plain": [
              "           Train data        Test data  LinearRegression(OLS)   RandomForest\n",
              "0   2016.03 ~ 2017.02  2017.03~2017.04          473290.231459  457436.543514\n",
              "1   2016.03 ~ 2017.03  2017.04~2017.05          500051.581274  466795.921547\n",
              "2   2016.03 ~ 2017.04  2017.05~2017.06          492418.844326  464275.151820\n",
              "3   2016.03 ~ 2017.05  2017.06~2017.07          412526.833863  373233.155308\n",
              "4   2016.03 ~ 2017.06  2017.07~2017.08          380264.302014  349373.789964\n",
              "5   2016.03 ~ 2017.07  2017.08~2017.09          485049.410396  387403.959562\n",
              "6   2016.03 ~ 2017.08  2017.09~2017.10          538287.874125  438659.423360\n",
              "7   2016.03 ~ 2017.09  2017.10~2017.11          488933.172230  461766.939614\n",
              "8   2016.03 ~ 2017.10  2017.11~2017.12          456335.296138  433599.648011\n",
              "9   2016.03 ~ 2017.11  2017.12~2018.01          444364.236990  383586.942028\n",
              "10  2016.03 ~ 2017.12  2018.01~2018.02          414266.036339  380529.177703"
            ]
          },
          "metadata": {
            "tags": []
          },
          "execution_count": 221
        }
      ]
    },
    {
      "cell_type": "code",
      "metadata": {
        "id": "dB4RyEYqb9NZ",
        "colab": {
          "base_uri": "https://localhost:8080/",
          "height": 413
        },
        "outputId": "27c7482c-9a37-4fa5-fab1-fd835566c9af"
      },
      "source": [
        "# DataFrame for Sliding Method - 1 (2 months for each train data set)\n",
        "\n",
        "Results_Sl = pd.DataFrame({'Test Data':['2017.03~2017.04','2017.04~2017.05','2017.05~2017.06','2017.06~2017.07','2017.07~2017.08','2017.08~2017.09','2017.09~2017.10','2017.10~2017.11',\n",
        "                                     '2017.11~2017.12','2017.12~2018.01','2018.01~2018.02'],\n",
        "                           'Linear(2 months)':[466425.87194498547,490669.53026385227,491483.45650040224,431048.2067528621,380861.8892639678,\n",
        "                                 583566.8799126936,701508.4260153465,492832.79393023736,459126.761299614,445234.69086872356,411422.36982791155],\n",
        "                        'Linear(3 months)':[466136.5967094037,490239.8106819492,490963.4990214423,412708.2145322137,379713.5761984687,696826.0983941372,\n",
        "                                            690653.4845249397,492705.6845170624,458114.49899000477,445118.03326172824,410488.1020592238],\n",
        "                        'Linear(4 months)':[469577.30150427844,491016.43870145135,490238.6412040106,413854.0095466418,378480.35510326066,669622.542198673,\n",
        "                                            754337.4004867648,492136.12741561275,458518.07931435166,443909.8901295801,411231.49117991555],\n",
        "                        'Linear(5 months)':[468757.30409388966,490877.1651746666,490815.7902830215,411254.98398595734,378995.53772029915,457939.8282261769,738930.5407486573,\n",
        "                                            491808.7485906134,457419.4221843882,446942.8423541583,410570.0906763609],\n",
        "                        'Linear(6 months)':[468830.9776532997,489917.53788113507,490282.7705129284,411633.5201314184,378727.7726623988,458760.33070896496,\n",
        "                                            524882.8831143015,492021.0842781446,456928.62148691673,447428.0832715677,415952.7245285863],\n",
        "                        'Linear(7 months)':[468976.58356349735,489823.41309308034,489735.4639806913,413150.54386882694,378564.66790638224,446765.2884227599,\n",
        "                                            524112.76660552976,491755.6190140249,456696.94562210166,446746.7368925802,416506.48009917414],\n",
        "                        'RandomForest(2 months)':[465907.2264858991,493998.4431956987,473168.37122461386,387360.0093596532,354684.38432227605,404843.7926848618,\n",
        "                                                  459048.3501392565,466518.6437952946,435574.93055134,412919.1958697912,395848.6821829808],\n",
        "                        'RandomForest(3 months)':[464974.56295308407,499685.3168619189,476407.8657274097,375410.7835563093,353866.94149705087,405627.8364253955,\n",
        "                                                  453990.3062103501,463047.57771165186,431622.904187773,387180.80052255857,387054.99003155006],\n",
        "                        'RandomForest(4 months)':[462632.57398882107,500737.21653162397,473248.73698082875,374490.35735339246,348327.59118016786,406825.9293775042,\n",
        "                                                  447352.4700601607,459899.6772465243,426456.4673539584,386442.25314291794,383680.1454014966],\n",
        "                        'RandomForest(5 months)':[465079.2062505386,481718.5256397351,469729.3573733977,377674.7014660913,349213.37580173876,395401.9397910221,\n",
        "                                                  445844.9618237005,464308.8988995368,427811.95175049844,391047.25191268127,389017.9610261042],\n",
        "                        'RandomForest(6 months)':[464288.8230282723,482385.85363799136,461357.1397123978,373812.71161503275,351313.4758848827,392957.1379128435,\n",
        "                                                  445254.12608388707,461186.398907012,430841.26867246913,384720.0312623276,381812.47719803394],\n",
        "                        'RandomForest(7 months)':[463781.2085943598,479899.07084706146,462406.77158165554,371291.55494266027,349836.2595096031,394612.7974565776,\n",
        "                                                  443460.1124849323,460231.6466294158,428755.64364470757,389290.63290024205,380337.9969943068],\n",
        "                        'Linear(Expanding)':[473290.2314585005, 500051.5812742415, 492418.84432569414,412526.8338631265,380264.30201381946,485049.41039570776,\n",
        "                                             538287.8741250376,488933.17222976073,456335.2961376269,444364.23699007684,414266.0363386855],\n",
        "                        'RandomForest(Expanding)':[457436.5435135182,466795.92154732865,464275.1518200424,373233.15530823346,349373.78996379126,387403.9595622695,\n",
        "                                                   438659.42335959926,461766.9396136448,433599.6480107671,383586.9420281473,380529.17770316]})\n",
        "\n",
        "Results_Sl"
      ],
      "execution_count": 246,
      "outputs": [
        {
          "output_type": "execute_result",
          "data": {
            "text/html": [
              "<div>\n",
              "<style scoped>\n",
              "    .dataframe tbody tr th:only-of-type {\n",
              "        vertical-align: middle;\n",
              "    }\n",
              "\n",
              "    .dataframe tbody tr th {\n",
              "        vertical-align: top;\n",
              "    }\n",
              "\n",
              "    .dataframe thead th {\n",
              "        text-align: right;\n",
              "    }\n",
              "</style>\n",
              "<table border=\"1\" class=\"dataframe\">\n",
              "  <thead>\n",
              "    <tr style=\"text-align: right;\">\n",
              "      <th></th>\n",
              "      <th>Test Data</th>\n",
              "      <th>Linear(2 months)</th>\n",
              "      <th>Linear(3 months)</th>\n",
              "      <th>Linear(4 months)</th>\n",
              "      <th>Linear(5 months)</th>\n",
              "      <th>Linear(6 months)</th>\n",
              "      <th>Linear(7 months)</th>\n",
              "      <th>RandomForest(2 months)</th>\n",
              "      <th>RandomForest(3 months)</th>\n",
              "      <th>RandomForest(4 months)</th>\n",
              "      <th>RandomForest(5 months)</th>\n",
              "      <th>RandomForest(6 months)</th>\n",
              "      <th>RandomForest(7 months)</th>\n",
              "      <th>Linear(Expanding)</th>\n",
              "      <th>RandomForest(Expanding)</th>\n",
              "    </tr>\n",
              "  </thead>\n",
              "  <tbody>\n",
              "    <tr>\n",
              "      <th>0</th>\n",
              "      <td>2017.03~2017.04</td>\n",
              "      <td>466425.871945</td>\n",
              "      <td>466136.596709</td>\n",
              "      <td>469577.301504</td>\n",
              "      <td>468757.304094</td>\n",
              "      <td>468830.977653</td>\n",
              "      <td>468976.583563</td>\n",
              "      <td>465907.226486</td>\n",
              "      <td>464974.562953</td>\n",
              "      <td>462632.573989</td>\n",
              "      <td>465079.206251</td>\n",
              "      <td>464288.823028</td>\n",
              "      <td>463781.208594</td>\n",
              "      <td>473290.231459</td>\n",
              "      <td>457436.543514</td>\n",
              "    </tr>\n",
              "    <tr>\n",
              "      <th>1</th>\n",
              "      <td>2017.04~2017.05</td>\n",
              "      <td>490669.530264</td>\n",
              "      <td>490239.810682</td>\n",
              "      <td>491016.438701</td>\n",
              "      <td>490877.165175</td>\n",
              "      <td>489917.537881</td>\n",
              "      <td>489823.413093</td>\n",
              "      <td>493998.443196</td>\n",
              "      <td>499685.316862</td>\n",
              "      <td>500737.216532</td>\n",
              "      <td>481718.525640</td>\n",
              "      <td>482385.853638</td>\n",
              "      <td>479899.070847</td>\n",
              "      <td>500051.581274</td>\n",
              "      <td>466795.921547</td>\n",
              "    </tr>\n",
              "    <tr>\n",
              "      <th>2</th>\n",
              "      <td>2017.05~2017.06</td>\n",
              "      <td>491483.456500</td>\n",
              "      <td>490963.499021</td>\n",
              "      <td>490238.641204</td>\n",
              "      <td>490815.790283</td>\n",
              "      <td>490282.770513</td>\n",
              "      <td>489735.463981</td>\n",
              "      <td>473168.371225</td>\n",
              "      <td>476407.865727</td>\n",
              "      <td>473248.736981</td>\n",
              "      <td>469729.357373</td>\n",
              "      <td>461357.139712</td>\n",
              "      <td>462406.771582</td>\n",
              "      <td>492418.844326</td>\n",
              "      <td>464275.151820</td>\n",
              "    </tr>\n",
              "    <tr>\n",
              "      <th>3</th>\n",
              "      <td>2017.06~2017.07</td>\n",
              "      <td>431048.206753</td>\n",
              "      <td>412708.214532</td>\n",
              "      <td>413854.009547</td>\n",
              "      <td>411254.983986</td>\n",
              "      <td>411633.520131</td>\n",
              "      <td>413150.543869</td>\n",
              "      <td>387360.009360</td>\n",
              "      <td>375410.783556</td>\n",
              "      <td>374490.357353</td>\n",
              "      <td>377674.701466</td>\n",
              "      <td>373812.711615</td>\n",
              "      <td>371291.554943</td>\n",
              "      <td>412526.833863</td>\n",
              "      <td>373233.155308</td>\n",
              "    </tr>\n",
              "    <tr>\n",
              "      <th>4</th>\n",
              "      <td>2017.07~2017.08</td>\n",
              "      <td>380861.889264</td>\n",
              "      <td>379713.576198</td>\n",
              "      <td>378480.355103</td>\n",
              "      <td>378995.537720</td>\n",
              "      <td>378727.772662</td>\n",
              "      <td>378564.667906</td>\n",
              "      <td>354684.384322</td>\n",
              "      <td>353866.941497</td>\n",
              "      <td>348327.591180</td>\n",
              "      <td>349213.375802</td>\n",
              "      <td>351313.475885</td>\n",
              "      <td>349836.259510</td>\n",
              "      <td>380264.302014</td>\n",
              "      <td>349373.789964</td>\n",
              "    </tr>\n",
              "    <tr>\n",
              "      <th>5</th>\n",
              "      <td>2017.08~2017.09</td>\n",
              "      <td>583566.879913</td>\n",
              "      <td>696826.098394</td>\n",
              "      <td>669622.542199</td>\n",
              "      <td>457939.828226</td>\n",
              "      <td>458760.330709</td>\n",
              "      <td>446765.288423</td>\n",
              "      <td>404843.792685</td>\n",
              "      <td>405627.836425</td>\n",
              "      <td>406825.929378</td>\n",
              "      <td>395401.939791</td>\n",
              "      <td>392957.137913</td>\n",
              "      <td>394612.797457</td>\n",
              "      <td>485049.410396</td>\n",
              "      <td>387403.959562</td>\n",
              "    </tr>\n",
              "    <tr>\n",
              "      <th>6</th>\n",
              "      <td>2017.09~2017.10</td>\n",
              "      <td>701508.426015</td>\n",
              "      <td>690653.484525</td>\n",
              "      <td>754337.400487</td>\n",
              "      <td>738930.540749</td>\n",
              "      <td>524882.883114</td>\n",
              "      <td>524112.766606</td>\n",
              "      <td>459048.350139</td>\n",
              "      <td>453990.306210</td>\n",
              "      <td>447352.470060</td>\n",
              "      <td>445844.961824</td>\n",
              "      <td>445254.126084</td>\n",
              "      <td>443460.112485</td>\n",
              "      <td>538287.874125</td>\n",
              "      <td>438659.423360</td>\n",
              "    </tr>\n",
              "    <tr>\n",
              "      <th>7</th>\n",
              "      <td>2017.10~2017.11</td>\n",
              "      <td>492832.793930</td>\n",
              "      <td>492705.684517</td>\n",
              "      <td>492136.127416</td>\n",
              "      <td>491808.748591</td>\n",
              "      <td>492021.084278</td>\n",
              "      <td>491755.619014</td>\n",
              "      <td>466518.643795</td>\n",
              "      <td>463047.577712</td>\n",
              "      <td>459899.677247</td>\n",
              "      <td>464308.898900</td>\n",
              "      <td>461186.398907</td>\n",
              "      <td>460231.646629</td>\n",
              "      <td>488933.172230</td>\n",
              "      <td>461766.939614</td>\n",
              "    </tr>\n",
              "    <tr>\n",
              "      <th>8</th>\n",
              "      <td>2017.11~2017.12</td>\n",
              "      <td>459126.761300</td>\n",
              "      <td>458114.498990</td>\n",
              "      <td>458518.079314</td>\n",
              "      <td>457419.422184</td>\n",
              "      <td>456928.621487</td>\n",
              "      <td>456696.945622</td>\n",
              "      <td>435574.930551</td>\n",
              "      <td>431622.904188</td>\n",
              "      <td>426456.467354</td>\n",
              "      <td>427811.951750</td>\n",
              "      <td>430841.268672</td>\n",
              "      <td>428755.643645</td>\n",
              "      <td>456335.296138</td>\n",
              "      <td>433599.648011</td>\n",
              "    </tr>\n",
              "    <tr>\n",
              "      <th>9</th>\n",
              "      <td>2017.12~2018.01</td>\n",
              "      <td>445234.690869</td>\n",
              "      <td>445118.033262</td>\n",
              "      <td>443909.890130</td>\n",
              "      <td>446942.842354</td>\n",
              "      <td>447428.083272</td>\n",
              "      <td>446746.736893</td>\n",
              "      <td>412919.195870</td>\n",
              "      <td>387180.800523</td>\n",
              "      <td>386442.253143</td>\n",
              "      <td>391047.251913</td>\n",
              "      <td>384720.031262</td>\n",
              "      <td>389290.632900</td>\n",
              "      <td>444364.236990</td>\n",
              "      <td>383586.942028</td>\n",
              "    </tr>\n",
              "    <tr>\n",
              "      <th>10</th>\n",
              "      <td>2018.01~2018.02</td>\n",
              "      <td>411422.369828</td>\n",
              "      <td>410488.102059</td>\n",
              "      <td>411231.491180</td>\n",
              "      <td>410570.090676</td>\n",
              "      <td>415952.724529</td>\n",
              "      <td>416506.480099</td>\n",
              "      <td>395848.682183</td>\n",
              "      <td>387054.990032</td>\n",
              "      <td>383680.145401</td>\n",
              "      <td>389017.961026</td>\n",
              "      <td>381812.477198</td>\n",
              "      <td>380337.996994</td>\n",
              "      <td>414266.036339</td>\n",
              "      <td>380529.177703</td>\n",
              "    </tr>\n",
              "  </tbody>\n",
              "</table>\n",
              "</div>"
            ],
            "text/plain": [
              "          Test Data  ...  RandomForest(Expanding)\n",
              "0   2017.03~2017.04  ...            457436.543514\n",
              "1   2017.04~2017.05  ...            466795.921547\n",
              "2   2017.05~2017.06  ...            464275.151820\n",
              "3   2017.06~2017.07  ...            373233.155308\n",
              "4   2017.07~2017.08  ...            349373.789964\n",
              "5   2017.08~2017.09  ...            387403.959562\n",
              "6   2017.09~2017.10  ...            438659.423360\n",
              "7   2017.10~2017.11  ...            461766.939614\n",
              "8   2017.11~2017.12  ...            433599.648011\n",
              "9   2017.12~2018.01  ...            383586.942028\n",
              "10  2018.01~2018.02  ...            380529.177703\n",
              "\n",
              "[11 rows x 15 columns]"
            ]
          },
          "metadata": {
            "tags": []
          },
          "execution_count": 246
        }
      ]
    },
    {
      "cell_type": "code",
      "metadata": {
        "id": "4F11xz2SditQ",
        "colab": {
          "base_uri": "https://localhost:8080/",
          "height": 227
        },
        "outputId": "f9cbbcb2-c478-4e47-a504-c083cd5db3db"
      },
      "source": [
        "# DataFrame for Sliding Method - 2 (3 months for each train data set)\n",
        "\n",
        "Results_Average = pd.DataFrame({'Window size':['2','3','4','5','6','7'],\n",
        "                        'Linear':[Results_Sl['Linear(2 months)'].mean(),Results_Sl['Linear(3 months)'].mean(),Results_Sl['Linear(4 months)'].mean(),Results_Sl['Linear(5 months)'].mean(),\n",
        "                                  Results_Sl['Linear(6 months)'].mean(),Results_Sl['Linear(7 months)'].mean(),],\n",
        "                        'RandomForest':[Results_Sl['RandomForest(2 months)'].mean(),Results_Sl['RandomForest(3 months)'].mean(),Results_Sl['RandomForest(4 months)'].mean(),Results_Sl['RandomForest(5 months)'].mean(),\n",
        "                                        Results_Sl['RandomForest(6 months)'].mean(),Results_Sl['RandomForest(7 months)'].mean()]})\n",
        "\n",
        "\n",
        "\n",
        "Results_Average"
      ],
      "execution_count": 247,
      "outputs": [
        {
          "output_type": "execute_result",
          "data": {
            "text/html": [
              "<div>\n",
              "<style scoped>\n",
              "    .dataframe tbody tr th:only-of-type {\n",
              "        vertical-align: middle;\n",
              "    }\n",
              "\n",
              "    .dataframe tbody tr th {\n",
              "        vertical-align: top;\n",
              "    }\n",
              "\n",
              "    .dataframe thead th {\n",
              "        text-align: right;\n",
              "    }\n",
              "</style>\n",
              "<table border=\"1\" class=\"dataframe\">\n",
              "  <thead>\n",
              "    <tr style=\"text-align: right;\">\n",
              "      <th></th>\n",
              "      <th>Window size</th>\n",
              "      <th>Linear</th>\n",
              "      <th>RandomForest</th>\n",
              "    </tr>\n",
              "  </thead>\n",
              "  <tbody>\n",
              "    <tr>\n",
              "      <th>0</th>\n",
              "      <td>2</td>\n",
              "      <td>486743.716053</td>\n",
              "      <td>431806.548165</td>\n",
              "    </tr>\n",
              "    <tr>\n",
              "      <th>1</th>\n",
              "      <td>3</td>\n",
              "      <td>493969.781717</td>\n",
              "      <td>427169.989608</td>\n",
              "    </tr>\n",
              "    <tr>\n",
              "      <th>2</th>\n",
              "      <td>4</td>\n",
              "      <td>497538.388799</td>\n",
              "      <td>424553.947147</td>\n",
              "    </tr>\n",
              "    <tr>\n",
              "      <th>3</th>\n",
              "      <td>5</td>\n",
              "      <td>476755.659458</td>\n",
              "      <td>423349.830158</td>\n",
              "    </tr>\n",
              "    <tr>\n",
              "      <th>4</th>\n",
              "      <td>6</td>\n",
              "      <td>457760.573294</td>\n",
              "      <td>420902.676720</td>\n",
              "    </tr>\n",
              "    <tr>\n",
              "      <th>5</th>\n",
              "      <td>7</td>\n",
              "      <td>456621.319006</td>\n",
              "      <td>420354.881417</td>\n",
              "    </tr>\n",
              "  </tbody>\n",
              "</table>\n",
              "</div>"
            ],
            "text/plain": [
              "  Window size         Linear   RandomForest\n",
              "0           2  486743.716053  431806.548165\n",
              "1           3  493969.781717  427169.989608\n",
              "2           4  497538.388799  424553.947147\n",
              "3           5  476755.659458  423349.830158\n",
              "4           6  457760.573294  420902.676720\n",
              "5           7  456621.319006  420354.881417"
            ]
          },
          "metadata": {
            "tags": []
          },
          "execution_count": 247
        }
      ]
    },
    {
      "cell_type": "code",
      "metadata": {
        "colab": {
          "base_uri": "https://localhost:8080/",
          "height": 167
        },
        "id": "42Ch_QmmByZ3",
        "outputId": "caae21e4-0d46-4072-b849-e9540f7345b1"
      },
      "source": [
        "Result_Average_both=pd.DataFrame({'Value':[Results_Sl['Linear(Expanding)'].mean(),Results_Average['Linear'].mean(),Results_Sl['RandomForest(Expanding)'].mean(),\n",
        "                                           Results_Average['RandomForest'].mean()],\n",
        "                                  'Average':['Linear(Ex)','Linear(Sl)','RandomForest(Ex)','RandomForest(Sl)']})\n",
        "Result_Average_both"
      ],
      "execution_count": 285,
      "outputs": [
        {
          "output_type": "execute_result",
          "data": {
            "text/html": [
              "<div>\n",
              "<style scoped>\n",
              "    .dataframe tbody tr th:only-of-type {\n",
              "        vertical-align: middle;\n",
              "    }\n",
              "\n",
              "    .dataframe tbody tr th {\n",
              "        vertical-align: top;\n",
              "    }\n",
              "\n",
              "    .dataframe thead th {\n",
              "        text-align: right;\n",
              "    }\n",
              "</style>\n",
              "<table border=\"1\" class=\"dataframe\">\n",
              "  <thead>\n",
              "    <tr style=\"text-align: right;\">\n",
              "      <th></th>\n",
              "      <th>Value</th>\n",
              "      <th>Average</th>\n",
              "    </tr>\n",
              "  </thead>\n",
              "  <tbody>\n",
              "    <tr>\n",
              "      <th>0</th>\n",
              "      <td>462344.347196</td>\n",
              "      <td>Linear(Ex)</td>\n",
              "    </tr>\n",
              "    <tr>\n",
              "      <th>1</th>\n",
              "      <td>478231.573054</td>\n",
              "      <td>Linear(Sl)</td>\n",
              "    </tr>\n",
              "    <tr>\n",
              "      <th>2</th>\n",
              "      <td>417878.241130</td>\n",
              "      <td>RandomForest(Ex)</td>\n",
              "    </tr>\n",
              "    <tr>\n",
              "      <th>3</th>\n",
              "      <td>424689.645536</td>\n",
              "      <td>RandomForest(Sl)</td>\n",
              "    </tr>\n",
              "  </tbody>\n",
              "</table>\n",
              "</div>"
            ],
            "text/plain": [
              "           Value           Average\n",
              "0  462344.347196        Linear(Ex)\n",
              "1  478231.573054        Linear(Sl)\n",
              "2  417878.241130  RandomForest(Ex)\n",
              "3  424689.645536  RandomForest(Sl)"
            ]
          },
          "metadata": {
            "tags": []
          },
          "execution_count": 285
        }
      ]
    },
    {
      "cell_type": "markdown",
      "metadata": {
        "id": "mAie3_ky6bqJ"
      },
      "source": [
        "#**4.Visualization**"
      ]
    },
    {
      "cell_type": "code",
      "metadata": {
        "colab": {
          "base_uri": "https://localhost:8080/",
          "height": 377
        },
        "id": "Cyz0DyfF-YG9",
        "outputId": "fa386615-2847-4732-aacb-4237a1ca21cf"
      },
      "source": [
        "sns.lineplot(data=Results_Sl,x='Test Data' , y='Linear(Expanding)',label='LinearRegression')\n",
        "sns.lineplot(data=Results_Sl,x='Test Data' , y='RandomForest(Expanding)',label='RandomForest')\n",
        "plt.xlabel('Test data')\n",
        "plt.ylabel('RMSE')\n",
        "plt.xticks(rotation=45)\n",
        "plt.title(\"Expanding Model\", weight = 'bold', fontsize = 16)"
      ],
      "execution_count": 250,
      "outputs": [
        {
          "output_type": "execute_result",
          "data": {
            "text/plain": [
              "Text(0.5, 1.0, 'Expanding Model')"
            ]
          },
          "metadata": {
            "tags": []
          },
          "execution_count": 250
        },
        {
          "output_type": "display_data",
          "data": {
            "image/png": "[encoded data removed]",
            "text/plain": [
              "<Figure size 432x288 with 1 Axes>"
            ]
          },
          "metadata": {
            "tags": [],
            "needs_background": "light"
          }
        }
      ]
    },
    {
      "cell_type": "code",
      "metadata": {
        "colab": {
          "base_uri": "https://localhost:8080/",
          "height": 377
        },
        "id": "g3tAkERn6Xw4",
        "outputId": "b132219e-61d0-4e3c-fbc0-fef39f711871"
      },
      "source": [
        "sns.lineplot(data=Results_Sl,x='Test Data' , y='Linear(2 months)',label='LinearRegression')\n",
        "sns.lineplot(data=Results_Sl,x='Test Data' , y='RandomForest(2 months)',label='RandomForest')\n",
        "plt.xlabel('Test data')\n",
        "plt.ylabel('RMSE')\n",
        "plt.xticks(rotation=45)\n",
        "plt.title(\"2months for train data\", weight = 'bold', fontsize = 16)"
      ],
      "execution_count": 240,
      "outputs": [
        {
          "output_type": "execute_result",
          "data": {
            "text/plain": [
              "Text(0.5, 1.0, '2months for train data')"
            ]
          },
          "metadata": {
            "tags": []
          },
          "execution_count": 240
        },
        {
          "output_type": "display_data",
          "data": {
            "image/png": "[encoded data removed]",
            "text/plain": [
              "<Figure size 432x288 with 1 Axes>"
            ]
          },
          "metadata": {
            "tags": [],
            "needs_background": "light"
          }
        }
      ]
    },
    {
      "cell_type": "code",
      "metadata": {
        "colab": {
          "base_uri": "https://localhost:8080/",
          "height": 377
        },
        "id": "LC476cJS7tkM",
        "outputId": "12d4d98d-981f-4c7f-e72a-0575993e82a4"
      },
      "source": [
        "sns.lineplot(data=Results_Sl,x='Test Data' , y='Linear(3 months)',label='LinearRegression')\n",
        "sns.lineplot(data=Results_Sl,x='Test Data' , y='RandomForest(3 months)',label='RandomForest')\n",
        "plt.xlabel('Test data')\n",
        "plt.ylabel('RMSE')\n",
        "plt.xticks(rotation=45)\n",
        "plt.title(\"3months for train data\", weight = 'bold', fontsize = 16)"
      ],
      "execution_count": 239,
      "outputs": [
        {
          "output_type": "execute_result",
          "data": {
            "text/plain": [
              "Text(0.5, 1.0, '3months for train data')"
            ]
          },
          "metadata": {
            "tags": []
          },
          "execution_count": 239
        },
        {
          "output_type": "display_data",
          "data": {
            "image/png": "[encoded data removed]",
            "text/plain": [
              "<Figure size 432x288 with 1 Axes>"
            ]
          },
          "metadata": {
            "tags": [],
            "needs_background": "light"
          }
        }
      ]
    },
    {
      "cell_type": "code",
      "metadata": {
        "colab": {
          "base_uri": "https://localhost:8080/",
          "height": 377
        },
        "id": "-u9fEZUn7xvR",
        "outputId": "749c4c01-ece4-4a7d-b386-f3acb75d5ed2"
      },
      "source": [
        "sns.lineplot(data=Results_Sl,x='Test Data' , y='Linear(4 months)',label='LinearRegression')\n",
        "sns.lineplot(data=Results_Sl,x='Test Data' , y='RandomForest(4 months)',label='RandomForest')\n",
        "plt.xlabel('Test data')\n",
        "plt.ylabel('RMSE')\n",
        "plt.xticks(rotation=45)\n",
        "plt.title(\"4months for train data\", weight = 'bold', fontsize = 16)"
      ],
      "execution_count": 241,
      "outputs": [
        {
          "output_type": "execute_result",
          "data": {
            "text/plain": [
              "Text(0.5, 1.0, '4months for train data')"
            ]
          },
          "metadata": {
            "tags": []
          },
          "execution_count": 241
        },
        {
          "output_type": "display_data",
          "data": {
            "image/png": "[encoded data removed]",
            "text/plain": [
              "<Figure size 432x288 with 1 Axes>"
            ]
          },
          "metadata": {
            "tags": [],
            "needs_background": "light"
          }
        }
      ]
    },
    {
      "cell_type": "code",
      "metadata": {
        "colab": {
          "base_uri": "https://localhost:8080/",
          "height": 377
        },
        "id": "VeAJrg0H713w",
        "outputId": "071fadf9-8ccc-4920-fdc4-171fe6641379"
      },
      "source": [
        "sns.lineplot(data=Results_Sl,x='Test Data' , y='Linear(5 months)',label='LinearRegression')\n",
        "sns.lineplot(data=Results_Sl,x='Test Data' , y='RandomForest(5 months)',label='RandomForest')\n",
        "plt.xlabel('Test data')\n",
        "plt.ylabel('RMSE')\n",
        "plt.xticks(rotation=45)\n",
        "plt.title(\"5months for train data\", weight = 'bold', fontsize = 16)"
      ],
      "execution_count": 242,
      "outputs": [
        {
          "output_type": "execute_result",
          "data": {
            "text/plain": [
              "Text(0.5, 1.0, '5months for train data')"
            ]
          },
          "metadata": {
            "tags": []
          },
          "execution_count": 242
        },
        {
          "output_type": "display_data",
          "data": {
            "image/png": "[encoded data removed]",
            "text/plain": [
              "<Figure size 432x288 with 1 Axes>"
            ]
          },
          "metadata": {
            "tags": [],
            "needs_background": "light"
          }
        }
      ]
    },
    {
      "cell_type": "code",
      "metadata": {
        "colab": {
          "base_uri": "https://localhost:8080/",
          "height": 377
        },
        "id": "bq_4C8It75rA",
        "outputId": "15a1c7fa-8367-495e-d47c-27e282d7800e"
      },
      "source": [
        "sns.lineplot(data=Results_Sl,x='Test Data' , y='Linear(6 months)',label='LinearRegression')\n",
        "sns.lineplot(data=Results_Sl,x='Test Data' , y='RandomForest(6 months)',label='RandomForest')\n",
        "plt.xlabel('Test data')\n",
        "plt.ylabel('RMSE')\n",
        "plt.xticks(rotation=45)\n",
        "plt.title(\"6months for train data\", weight = 'bold', fontsize = 16)"
      ],
      "execution_count": 243,
      "outputs": [
        {
          "output_type": "execute_result",
          "data": {
            "text/plain": [
              "Text(0.5, 1.0, '6months for train data')"
            ]
          },
          "metadata": {
            "tags": []
          },
          "execution_count": 243
        },
        {
          "output_type": "display_data",
          "data": {
            "image/png": "[encoded data removed]",
            "text/plain": [
              "<Figure size 432x288 with 1 Axes>"
            ]
          },
          "metadata": {
            "tags": [],
            "needs_background": "light"
          }
        }
      ]
    },
    {
      "cell_type": "code",
      "metadata": {
        "colab": {
          "base_uri": "https://localhost:8080/",
          "height": 377
        },
        "id": "HfhYYubp7-lp",
        "outputId": "0665bad2-4e61-465a-fc53-39d681ec60da"
      },
      "source": [
        "sns.lineplot(data=Results_Sl,x='Test Data' , y='Linear(7 months)',label='LinearRegression')\n",
        "sns.lineplot(data=Results_Sl,x='Test Data' , y='RandomForest(7 months)',label='RandomForest')\n",
        "plt.xlabel('Test data')\n",
        "plt.ylabel('RMSE')\n",
        "plt.xticks(rotation=45)\n",
        "plt.title(\"7months for train data\", weight = 'bold', fontsize = 16)"
      ],
      "execution_count": 244,
      "outputs": [
        {
          "output_type": "execute_result",
          "data": {
            "text/plain": [
              "Text(0.5, 1.0, '7months for train data')"
            ]
          },
          "metadata": {
            "tags": []
          },
          "execution_count": 244
        },
        {
          "output_type": "display_data",
          "data": {
            "image/png": "[encoded data removed]",
            "text/plain": [
              "<Figure size 432x288 with 1 Axes>"
            ]
          },
          "metadata": {
            "tags": [],
            "needs_background": "light"
          }
        }
      ]
    },
    {
      "cell_type": "markdown",
      "metadata": {
        "id": "XQrONU3Q495d"
      },
      "source": [
        "* **The smaller the Root Mean Square Error is, the better the performance.**\n",
        "\n",
        "* **In general, RMSE of RandomForest model is smaller than LinearRegression(OLS).**\n",
        "\n",
        "* **RandomForest model is better (Reserach Question)**"
      ]
    },
    {
      "cell_type": "code",
      "metadata": {
        "id": "ZaUcriiGkdav",
        "colab": {
          "base_uri": "https://localhost:8080/",
          "height": 314
        },
        "outputId": "8f69acdf-f363-46ef-9325-2e438f29b626"
      },
      "source": [
        "sns.lineplot(data=Results_Average,x='Window size' , y='RandomForest',label='RandomForest')\n",
        "sns.lineplot(data=Results_Average,x='Window size' , y='Linear',label='LinearRegression')\n",
        "plt.xlabel('Window Size in years')\n",
        "plt.ylabel('RMSE')\n",
        "plt.title(\"Optimal Window size\", weight = 'bold', fontsize = 16)"
      ],
      "execution_count": 301,
      "outputs": [
        {
          "output_type": "execute_result",
          "data": {
            "text/plain": [
              "Text(0.5, 1.0, 'Optimal Window size')"
            ]
          },
          "metadata": {
            "tags": []
          },
          "execution_count": 301
        },
        {
          "output_type": "display_data",
          "data": {
            "image/png": "[encoded data removed]",
            "text/plain": [
              "<Figure size 432x288 with 1 Axes>"
            ]
          },
          "metadata": {
            "tags": [],
            "needs_background": "light"
          }
        }
      ]
    },
    {
      "cell_type": "markdown",
      "metadata": {
        "id": "yaGxrLsW8hEZ"
      },
      "source": [
        "* **When window size is bigger, RMSE is samller.**\n",
        "\n",
        "* **RandomForest model is better (Reserach Question)**"
      ]
    },
    {
      "cell_type": "code",
      "metadata": {
        "colab": {
          "base_uri": "https://localhost:8080/",
          "height": 315
        },
        "id": "f3eQMBT7Bs_2",
        "outputId": "61a98947-3858-4aac-cb7e-e52a3598f0aa"
      },
      "source": [
        "sns.barplot(data=Result_Average_both,x='Average' , y='Value')\n",
        "plt.ylabel('RMSE')\n",
        "plt.xlabel('')\n",
        "plt.xticks(rotation=9)\n",
        "plt.title(\"Average of Each method and model\", weight = 'bold', fontsize = 16)"
      ],
      "execution_count": 298,
      "outputs": [
        {
          "output_type": "execute_result",
          "data": {
            "text/plain": [
              "Text(0.5, 1.0, 'Average of Each method and model')"
            ]
          },
          "metadata": {
            "tags": []
          },
          "execution_count": 298
        },
        {
          "output_type": "display_data",
          "data": {
            "image/png": "[encoded data removed]",
            "text/plain": [
              "<Figure size 432x288 with 1 Axes>"
            ]
          },
          "metadata": {
            "tags": [],
            "needs_background": "light"
          }
        }
      ]
    },
    {
      "cell_type": "markdown",
      "metadata": {
        "id": "GWhSCV5cEwJP"
      },
      "source": [
        "* **RMSE of Expanding method is smaller then RMSE of Sliding method.**"
      ]
    }
  ]
}