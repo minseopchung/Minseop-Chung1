{
  "nbformat": 4,
  "nbformat_minor": 0,
  "metadata": {
    "colab": {
      "name": "Untitled4.ipynb",
      "provenance": []
    },
    "kernelspec": {
      "name": "python3",
      "display_name": "Python 3"
    },
    "language_info": {
      "name": "python"
    }
  },
  "cells": [
    {
      "cell_type": "markdown",
      "metadata": {
        "id": "r3_5ujWaxpYs"
      },
      "source": [
        "# **Does estimation window size affects accuracy?**"
      ]
    },
    {
      "cell_type": "code",
      "metadata": {
        "id": "G6iJqlnJyNKR"
      },
      "source": [
        "#from google.colab import files\n",
        "#uploaded = files.upload()"
      ],
      "execution_count": 1,
      "outputs": []
    },
    {
      "cell_type": "code",
      "metadata": {
        "id": "RKdjyiK0Gbnl"
      },
      "source": [
        "#!pip install category_encoders==2.*\n",
        "#!pip install pandas-profiling==2.*"
      ],
      "execution_count": 2,
      "outputs": []
    },
    {
      "cell_type": "code",
      "metadata": {
        "id": "Gv0M6Hc6yH9S"
      },
      "source": [
        "import pandas as pd\n",
        "import numpy as np\n",
        "import seaborn as sns\n",
        "import matplotlib.pyplot as plt"
      ],
      "execution_count": 3,
      "outputs": []
    },
    {
      "cell_type": "code",
      "metadata": {
        "id": "HqOU7aR0yJ2B"
      },
      "source": [
        "dataframe =  pd.read_csv('Melbourne_housing_FULL.csv')"
      ],
      "execution_count": 4,
      "outputs": []
    },
    {
      "cell_type": "code",
      "metadata": {
        "colab": {
          "base_uri": "https://localhost:8080/",
          "height": 107
        },
        "id": "b6H-7Cb988lu",
        "outputId": "801553af-7e97-4c37-d245-3620139412c7"
      },
      "source": [
        "dataframe.head(2)"
      ],
      "execution_count": 5,
      "outputs": [
        {
          "output_type": "execute_result",
          "data": {
            "text/html": [
              "<div>\n",
              "<style scoped>\n",
              "    .dataframe tbody tr th:only-of-type {\n",
              "        vertical-align: middle;\n",
              "    }\n",
              "\n",
              "    .dataframe tbody tr th {\n",
              "        vertical-align: top;\n",
              "    }\n",
              "\n",
              "    .dataframe thead th {\n",
              "        text-align: right;\n",
              "    }\n",
              "</style>\n",
              "<table border=\"1\" class=\"dataframe\">\n",
              "  <thead>\n",
              "    <tr style=\"text-align: right;\">\n",
              "      <th></th>\n",
              "      <th>Suburb</th>\n",
              "      <th>Address</th>\n",
              "      <th>Rooms</th>\n",
              "      <th>Type</th>\n",
              "      <th>Price</th>\n",
              "      <th>Method</th>\n",
              "      <th>SellerG</th>\n",
              "      <th>Date</th>\n",
              "      <th>Distance</th>\n",
              "      <th>Postcode</th>\n",
              "      <th>Bedroom2</th>\n",
              "      <th>Bathroom</th>\n",
              "      <th>Car</th>\n",
              "      <th>Landsize</th>\n",
              "      <th>BuildingArea</th>\n",
              "      <th>YearBuilt</th>\n",
              "      <th>CouncilArea</th>\n",
              "      <th>Lattitude</th>\n",
              "      <th>Longtitude</th>\n",
              "      <th>Regionname</th>\n",
              "      <th>Propertycount</th>\n",
              "    </tr>\n",
              "  </thead>\n",
              "  <tbody>\n",
              "    <tr>\n",
              "      <th>0</th>\n",
              "      <td>Abbotsford</td>\n",
              "      <td>68 Studley St</td>\n",
              "      <td>2</td>\n",
              "      <td>h</td>\n",
              "      <td>NaN</td>\n",
              "      <td>SS</td>\n",
              "      <td>Jellis</td>\n",
              "      <td>3/09/2016</td>\n",
              "      <td>2.5</td>\n",
              "      <td>3067.0</td>\n",
              "      <td>2.0</td>\n",
              "      <td>1.0</td>\n",
              "      <td>1.0</td>\n",
              "      <td>126.0</td>\n",
              "      <td>NaN</td>\n",
              "      <td>NaN</td>\n",
              "      <td>Yarra City Council</td>\n",
              "      <td>-37.8014</td>\n",
              "      <td>144.9958</td>\n",
              "      <td>Northern Metropolitan</td>\n",
              "      <td>4019.0</td>\n",
              "    </tr>\n",
              "    <tr>\n",
              "      <th>1</th>\n",
              "      <td>Abbotsford</td>\n",
              "      <td>85 Turner St</td>\n",
              "      <td>2</td>\n",
              "      <td>h</td>\n",
              "      <td>1480000.0</td>\n",
              "      <td>S</td>\n",
              "      <td>Biggin</td>\n",
              "      <td>3/12/2016</td>\n",
              "      <td>2.5</td>\n",
              "      <td>3067.0</td>\n",
              "      <td>2.0</td>\n",
              "      <td>1.0</td>\n",
              "      <td>1.0</td>\n",
              "      <td>202.0</td>\n",
              "      <td>NaN</td>\n",
              "      <td>NaN</td>\n",
              "      <td>Yarra City Council</td>\n",
              "      <td>-37.7996</td>\n",
              "      <td>144.9984</td>\n",
              "      <td>Northern Metropolitan</td>\n",
              "      <td>4019.0</td>\n",
              "    </tr>\n",
              "  </tbody>\n",
              "</table>\n",
              "</div>"
            ],
            "text/plain": [
              "       Suburb        Address  ...             Regionname Propertycount\n",
              "0  Abbotsford  68 Studley St  ...  Northern Metropolitan        4019.0\n",
              "1  Abbotsford   85 Turner St  ...  Northern Metropolitan        4019.0\n",
              "\n",
              "[2 rows x 21 columns]"
            ]
          },
          "metadata": {
            "tags": []
          },
          "execution_count": 5
        }
      ]
    },
    {
      "cell_type": "code",
      "metadata": {
        "id": "zPKv8JzK9I7b"
      },
      "source": [
        "# Our target is price. I personally think Features that related to price are ['Rooms','Bathroom','Landsize','Yearbuilt','Lattitude','Longtitude','Bedroom2'] and Other feautres are NOT related\n",
        "\n",
        "# SO, only ['Price','Rooms','Bathroom','Landsize','Yearbuilt','Lattitude','Longtitude','Bedroom2','Date'] will be used."
      ],
      "execution_count": 6,
      "outputs": []
    },
    {
      "cell_type": "code",
      "metadata": {
        "id": "zWM3gP3Z-cEd"
      },
      "source": [
        "dataframe=dataframe[['Price','Rooms','Bathroom','Landsize','YearBuilt','Lattitude','Longtitude','Bedroom2','Date']]"
      ],
      "execution_count": 7,
      "outputs": []
    },
    {
      "cell_type": "code",
      "metadata": {
        "colab": {
          "base_uri": "https://localhost:8080/"
        },
        "id": "NzTvBfH0019q",
        "outputId": "da25e694-5695-4574-c1bf-e3aafab3c6ac"
      },
      "source": [
        "dataframe.dtypes"
      ],
      "execution_count": 8,
      "outputs": [
        {
          "output_type": "execute_result",
          "data": {
            "text/plain": [
              "Price         float64\n",
              "Rooms           int64\n",
              "Bathroom      float64\n",
              "Landsize      float64\n",
              "YearBuilt     float64\n",
              "Lattitude     float64\n",
              "Longtitude    float64\n",
              "Bedroom2      float64\n",
              "Date           object\n",
              "dtype: object"
            ]
          },
          "metadata": {
            "tags": []
          },
          "execution_count": 8
        }
      ]
    },
    {
      "cell_type": "code",
      "metadata": {
        "colab": {
          "base_uri": "https://localhost:8080/"
        },
        "id": "q-n8EvhE05qD",
        "outputId": "cf26ba18-e2d2-4a45-9924-160f4d7273cf"
      },
      "source": [
        "dataframe.info()"
      ],
      "execution_count": 9,
      "outputs": [
        {
          "output_type": "stream",
          "text": [
            "<class 'pandas.core.frame.DataFrame'>\n",
            "RangeIndex: 34857 entries, 0 to 34856\n",
            "Data columns (total 9 columns):\n",
            " #   Column      Non-Null Count  Dtype  \n",
            "---  ------      --------------  -----  \n",
            " 0   Price       27247 non-null  float64\n",
            " 1   Rooms       34857 non-null  int64  \n",
            " 2   Bathroom    26631 non-null  float64\n",
            " 3   Landsize    23047 non-null  float64\n",
            " 4   YearBuilt   15551 non-null  float64\n",
            " 5   Lattitude   26881 non-null  float64\n",
            " 6   Longtitude  26881 non-null  float64\n",
            " 7   Bedroom2    26640 non-null  float64\n",
            " 8   Date        34857 non-null  object \n",
            "dtypes: float64(7), int64(1), object(1)\n",
            "memory usage: 2.4+ MB\n"
          ],
          "name": "stdout"
        }
      ]
    },
    {
      "cell_type": "code",
      "metadata": {
        "colab": {
          "base_uri": "https://localhost:8080/"
        },
        "id": "iRstFkbk07q2",
        "outputId": "99f11f02-9bd4-4110-d507-d5f3e8e09e53"
      },
      "source": [
        "dataframe.isna().sum() "
      ],
      "execution_count": 10,
      "outputs": [
        {
          "output_type": "execute_result",
          "data": {
            "text/plain": [
              "Price          7610\n",
              "Rooms             0\n",
              "Bathroom       8226\n",
              "Landsize      11810\n",
              "YearBuilt     19306\n",
              "Lattitude      7976\n",
              "Longtitude     7976\n",
              "Bedroom2       8217\n",
              "Date              0\n",
              "dtype: int64"
            ]
          },
          "metadata": {
            "tags": []
          },
          "execution_count": 10
        }
      ]
    },
    {
      "cell_type": "code",
      "metadata": {
        "id": "nsYtMVBfFbRB"
      },
      "source": [
        "dataframe=dataframe.dropna(subset=['Price','Rooms','Bathroom','Landsize','YearBuilt','Lattitude','Longtitude','Bedroom2','Date'])"
      ],
      "execution_count": 11,
      "outputs": []
    },
    {
      "cell_type": "code",
      "metadata": {
        "colab": {
          "base_uri": "https://localhost:8080/"
        },
        "id": "uz_UX1oz5iTL",
        "outputId": "e52684c5-5be1-4eea-955c-c5d6a9c4b613"
      },
      "source": [
        "dataframe.isna().sum()"
      ],
      "execution_count": 12,
      "outputs": [
        {
          "output_type": "execute_result",
          "data": {
            "text/plain": [
              "Price         0\n",
              "Rooms         0\n",
              "Bathroom      0\n",
              "Landsize      0\n",
              "YearBuilt     0\n",
              "Lattitude     0\n",
              "Longtitude    0\n",
              "Bedroom2      0\n",
              "Date          0\n",
              "dtype: int64"
            ]
          },
          "metadata": {
            "tags": []
          },
          "execution_count": 12
        }
      ]
    },
    {
      "cell_type": "code",
      "metadata": {
        "colab": {
          "base_uri": "https://localhost:8080/"
        },
        "id": "U_SH3EnY29GR",
        "outputId": "88a64f51-18c2-4fa8-95a1-634e87868b61"
      },
      "source": [
        "len(dataframe[dataframe.duplicated()==True])"
      ],
      "execution_count": 13,
      "outputs": [
        {
          "output_type": "execute_result",
          "data": {
            "text/plain": [
              "1"
            ]
          },
          "metadata": {
            "tags": []
          },
          "execution_count": 13
        }
      ]
    },
    {
      "cell_type": "code",
      "metadata": {
        "id": "AiGI803p3Bbp"
      },
      "source": [
        "dataframe=dataframe.drop_duplicates()"
      ],
      "execution_count": 14,
      "outputs": []
    },
    {
      "cell_type": "code",
      "metadata": {
        "colab": {
          "base_uri": "https://localhost:8080/"
        },
        "id": "1Gjw_g0C3FOg",
        "outputId": "5c584b00-a8b6-4b05-87a6-fc04579bfcae"
      },
      "source": [
        "len(dataframe[dataframe.duplicated()==True])"
      ],
      "execution_count": 15,
      "outputs": [
        {
          "output_type": "execute_result",
          "data": {
            "text/plain": [
              "0"
            ]
          },
          "metadata": {
            "tags": []
          },
          "execution_count": 15
        }
      ]
    },
    {
      "cell_type": "code",
      "metadata": {
        "colab": {
          "base_uri": "https://localhost:8080/"
        },
        "id": "ZsHHBMXfEZ1d",
        "outputId": "c144312b-02f3-484e-c17c-99aff726d03d"
      },
      "source": [
        "dataframe[\"Date\"] = pd.to_datetime(dataframe[\"Date\"],dayfirst=True)\n",
        "dataframe['Date'].sort_values()"
      ],
      "execution_count": 16,
      "outputs": [
        {
          "output_type": "execute_result",
          "data": {
            "text/plain": [
              "2       2016-02-04\n",
              "6526    2016-02-04\n",
              "6527    2016-02-04\n",
              "6781    2016-02-04\n",
              "10256   2016-02-04\n",
              "           ...    \n",
              "33523   2018-03-17\n",
              "33525   2018-03-17\n",
              "33529   2018-03-17\n",
              "33513   2018-03-17\n",
              "33366   2018-03-17\n",
              "Name: Date, Length: 10612, dtype: datetime64[ns]"
            ]
          },
          "metadata": {
            "tags": []
          },
          "execution_count": 16
        }
      ]
    },
    {
      "cell_type": "code",
      "metadata": {
        "id": "2T6-UCpCErIp"
      },
      "source": [
        "# The date the data has is from 16-02-04 to 18-03-17"
      ],
      "execution_count": 17,
      "outputs": []
    },
    {
      "cell_type": "code",
      "metadata": {
        "id": "jAuD5zsAFq1U"
      },
      "source": [
        "# split\n",
        "# train data has 2016,2017 data\n",
        "# test data has 2018 data"
      ],
      "execution_count": 18,
      "outputs": []
    },
    {
      "cell_type": "code",
      "metadata": {
        "colab": {
          "base_uri": "https://localhost:8080/",
          "height": 71
        },
        "id": "NsCJhO1AF4Pg",
        "outputId": "019e6ed6-9865-4a43-a289-421bdcf8dd40"
      },
      "source": [
        "test=dataframe[dataframe['Date']>'2017-12-31']\n",
        "train = dataframe.drop(test.index)\n",
        "display(dataframe.shape,train.shape,test.shape)"
      ],
      "execution_count": 19,
      "outputs": [
        {
          "output_type": "display_data",
          "data": {
            "text/plain": [
              "(10612, 9)"
            ]
          },
          "metadata": {
            "tags": []
          }
        },
        {
          "output_type": "display_data",
          "data": {
            "text/plain": [
              "(9389, 9)"
            ]
          },
          "metadata": {
            "tags": []
          }
        },
        {
          "output_type": "display_data",
          "data": {
            "text/plain": [
              "(1223, 9)"
            ]
          },
          "metadata": {
            "tags": []
          }
        }
      ]
    },
    {
      "cell_type": "code",
      "metadata": {
        "id": "-99Y8frMHvQR"
      },
      "source": [
        "train=train.drop(axis=1,columns='Date')\n",
        "test=test.drop(axis=1,columns='Date')"
      ],
      "execution_count": 20,
      "outputs": []
    },
    {
      "cell_type": "code",
      "metadata": {
        "id": "ppbDbMKx2CQX"
      },
      "source": [
        "#from sklearn.model_selection import train_test_split\n",
        "#train, test = train_test_split(dataframe, test_size=0.2, random_state=2)"
      ],
      "execution_count": 21,
      "outputs": []
    },
    {
      "cell_type": "code",
      "metadata": {
        "id": "jOSPATXA57n6"
      },
      "source": [
        "#dataframe.shape, train.shape , test.shape"
      ],
      "execution_count": 22,
      "outputs": []
    },
    {
      "cell_type": "code",
      "metadata": {
        "id": "HmBRccZo6GoP"
      },
      "source": [
        "target = 'Price'\n",
        "features = train.drop(columns=[target]).columns\n",
        "X_train = train[features]\n",
        "y_train = train[target]\n",
        "X_test = test[features]\n",
        "y_test = test[target]"
      ],
      "execution_count": 23,
      "outputs": []
    },
    {
      "cell_type": "code",
      "metadata": {
        "colab": {
          "base_uri": "https://localhost:8080/"
        },
        "id": "_Ioah0nW394g",
        "outputId": "9af237d4-55a0-45cb-c75b-b561a8249d1c"
      },
      "source": [
        "from sklearn.metrics import f1_score\n",
        "from sklearn.preprocessing import StandardScaler\n",
        "from sklearn.linear_model import LinearRegression\n",
        "from category_encoders import OrdinalEncoder\n",
        "from sklearn.pipeline import make_pipeline\n",
        "\n",
        "pipe = make_pipeline(\n",
        "    OrdinalEncoder(),\n",
        "    StandardScaler(), \n",
        "    LinearRegression()\n",
        ")\n",
        "\n",
        "pipe.fit(X_train, y_train)"
      ],
      "execution_count": 24,
      "outputs": [
        {
          "output_type": "stream",
          "text": [
            "/usr/local/lib/python3.7/dist-packages/statsmodels/tools/_testing.py:19: FutureWarning: pandas.util.testing is deprecated. Use the functions in the public API at pandas.testing instead.\n",
            "  import pandas.util.testing as tm\n"
          ],
          "name": "stderr"
        },
        {
          "output_type": "execute_result",
          "data": {
            "text/plain": [
              "Pipeline(memory=None,\n",
              "         steps=[('ordinalencoder',\n",
              "                 OrdinalEncoder(cols=[], drop_invariant=False,\n",
              "                                handle_missing='value', handle_unknown='value',\n",
              "                                mapping=[], return_df=True, verbose=0)),\n",
              "                ('standardscaler',\n",
              "                 StandardScaler(copy=True, with_mean=True, with_std=True)),\n",
              "                ('linearregression',\n",
              "                 LinearRegression(copy_X=True, fit_intercept=True, n_jobs=None,\n",
              "                                  normalize=False))],\n",
              "         verbose=False)"
            ]
          },
          "metadata": {
            "tags": []
          },
          "execution_count": 24
        }
      ]
    },
    {
      "cell_type": "code",
      "metadata": {
        "colab": {
          "base_uri": "https://localhost:8080/"
        },
        "id": "ZLt3dZst92-B",
        "outputId": "2555de88-7db0-4c77-a165-5fb73b2274e3"
      },
      "source": [
        "y_pred = pipe.predict(X_test)\n",
        "print('Test accuracy: ', pipe.score(X_test, y_test))"
      ],
      "execution_count": 25,
      "outputs": [
        {
          "output_type": "stream",
          "text": [
            "Test accuracy:  0.43598453762353884\n"
          ],
          "name": "stdout"
        }
      ]
    },
    {
      "cell_type": "code",
      "metadata": {
        "colab": {
          "base_uri": "https://localhost:8080/"
        },
        "id": "yrMr4Rd-ITxT",
        "outputId": "2706594a-5010-4623-da66-5fb0d41a7d72"
      },
      "source": [
        "from sklearn.metrics import mean_absolute_error\n",
        "print('MAE: ', mean_absolute_error(y_test, y_pred))"
      ],
      "execution_count": 26,
      "outputs": [
        {
          "output_type": "stream",
          "text": [
            "MAE:  345813.77266850014\n"
          ],
          "name": "stdout"
        }
      ]
    },
    {
      "cell_type": "code",
      "metadata": {
        "id": "dvjLCeAI9Hdu"
      },
      "source": [
        ""
      ],
      "execution_count": 26,
      "outputs": []
    }
  ]
}